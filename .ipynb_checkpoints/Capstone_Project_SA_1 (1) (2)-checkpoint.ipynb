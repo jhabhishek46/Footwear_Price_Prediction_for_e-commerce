{
 "cells": [
  {
   "cell_type": "code",
   "execution_count": 125,
   "id": "a6caae45",
   "metadata": {},
   "outputs": [],
   "source": [
    "import numpy as np\n",
    "import pandas as pd\n",
    "import matplotlib as plt\n",
    "import seaborn as sns"
   ]
  },
  {
   "cell_type": "code",
   "execution_count": 126,
   "id": "06e66823",
   "metadata": {},
   "outputs": [],
   "source": [
    "df=pd.read_csv('train.csv')\n",
    "test_df=pd.read_csv('test.csv')"
   ]
  },
  {
   "cell_type": "code",
   "execution_count": 127,
   "id": "9102d93e",
   "metadata": {},
   "outputs": [
    {
     "data": {
      "text/html": [
       "<div>\n",
       "<style scoped>\n",
       "    .dataframe tbody tr th:only-of-type {\n",
       "        vertical-align: middle;\n",
       "    }\n",
       "\n",
       "    .dataframe tbody tr th {\n",
       "        vertical-align: top;\n",
       "    }\n",
       "\n",
       "    .dataframe thead th {\n",
       "        text-align: right;\n",
       "    }\n",
       "</style>\n",
       "<table border=\"1\" class=\"dataframe\">\n",
       "  <thead>\n",
       "    <tr style=\"text-align: right;\">\n",
       "      <th></th>\n",
       "      <th>id</th>\n",
       "      <th>title</th>\n",
       "      <th>Rating</th>\n",
       "      <th>maincateg</th>\n",
       "      <th>platform</th>\n",
       "      <th>price1</th>\n",
       "      <th>actprice1</th>\n",
       "      <th>Offer %</th>\n",
       "      <th>norating1</th>\n",
       "      <th>noreviews1</th>\n",
       "      <th>star_5f</th>\n",
       "      <th>star_4f</th>\n",
       "      <th>star_3f</th>\n",
       "      <th>star_2f</th>\n",
       "      <th>star_1f</th>\n",
       "      <th>fulfilled1</th>\n",
       "    </tr>\n",
       "  </thead>\n",
       "  <tbody>\n",
       "    <tr>\n",
       "      <th>0</th>\n",
       "      <td>16695</td>\n",
       "      <td>Fashionable &amp; Comfortable Bellies For Women  (...</td>\n",
       "      <td>3.9</td>\n",
       "      <td>Women</td>\n",
       "      <td>Flipkart</td>\n",
       "      <td>698</td>\n",
       "      <td>999</td>\n",
       "      <td>30.13%</td>\n",
       "      <td>38.0</td>\n",
       "      <td>7.0</td>\n",
       "      <td>17.0</td>\n",
       "      <td>9.0</td>\n",
       "      <td>6.0</td>\n",
       "      <td>3</td>\n",
       "      <td>3</td>\n",
       "      <td>0</td>\n",
       "    </tr>\n",
       "    <tr>\n",
       "      <th>1</th>\n",
       "      <td>5120</td>\n",
       "      <td>Combo Pack of 4 Casual Shoes Sneakers For Men ...</td>\n",
       "      <td>3.8</td>\n",
       "      <td>Men</td>\n",
       "      <td>Flipkart</td>\n",
       "      <td>999</td>\n",
       "      <td>1999</td>\n",
       "      <td>50.03%</td>\n",
       "      <td>531.0</td>\n",
       "      <td>69.0</td>\n",
       "      <td>264.0</td>\n",
       "      <td>92.0</td>\n",
       "      <td>73.0</td>\n",
       "      <td>29</td>\n",
       "      <td>73</td>\n",
       "      <td>1</td>\n",
       "    </tr>\n",
       "    <tr>\n",
       "      <th>2</th>\n",
       "      <td>18391</td>\n",
       "      <td>Cilia Mode Leo Sneakers For Women  (White)</td>\n",
       "      <td>4.4</td>\n",
       "      <td>Women</td>\n",
       "      <td>Flipkart</td>\n",
       "      <td>2749</td>\n",
       "      <td>4999</td>\n",
       "      <td>45.01%</td>\n",
       "      <td>17.0</td>\n",
       "      <td>4.0</td>\n",
       "      <td>11.0</td>\n",
       "      <td>3.0</td>\n",
       "      <td>2.0</td>\n",
       "      <td>1</td>\n",
       "      <td>0</td>\n",
       "      <td>1</td>\n",
       "    </tr>\n",
       "    <tr>\n",
       "      <th>3</th>\n",
       "      <td>495</td>\n",
       "      <td>Men Black Sports Sandal</td>\n",
       "      <td>4.2</td>\n",
       "      <td>Men</td>\n",
       "      <td>Flipkart</td>\n",
       "      <td>518</td>\n",
       "      <td>724</td>\n",
       "      <td>15.85%</td>\n",
       "      <td>46413.0</td>\n",
       "      <td>6229.0</td>\n",
       "      <td>1045.0</td>\n",
       "      <td>12416.0</td>\n",
       "      <td>5352.0</td>\n",
       "      <td>701</td>\n",
       "      <td>4595</td>\n",
       "      <td>1</td>\n",
       "    </tr>\n",
       "    <tr>\n",
       "      <th>4</th>\n",
       "      <td>16408</td>\n",
       "      <td>Men Green Sports Sandal</td>\n",
       "      <td>3.9</td>\n",
       "      <td>Men</td>\n",
       "      <td>Flipkart</td>\n",
       "      <td>1379</td>\n",
       "      <td>2299</td>\n",
       "      <td>40.02%</td>\n",
       "      <td>77.0</td>\n",
       "      <td>3.0</td>\n",
       "      <td>35.0</td>\n",
       "      <td>21.0</td>\n",
       "      <td>7.0</td>\n",
       "      <td>7</td>\n",
       "      <td>7</td>\n",
       "      <td>1</td>\n",
       "    </tr>\n",
       "  </tbody>\n",
       "</table>\n",
       "</div>"
      ],
      "text/plain": [
       "      id                                              title  Rating maincateg  \\\n",
       "0  16695  Fashionable & Comfortable Bellies For Women  (...     3.9     Women   \n",
       "1   5120  Combo Pack of 4 Casual Shoes Sneakers For Men ...     3.8       Men   \n",
       "2  18391         Cilia Mode Leo Sneakers For Women  (White)     4.4     Women   \n",
       "3    495                            Men Black Sports Sandal     4.2       Men   \n",
       "4  16408                            Men Green Sports Sandal     3.9       Men   \n",
       "\n",
       "   platform  price1  actprice1 Offer %  norating1  noreviews1  star_5f  \\\n",
       "0  Flipkart     698        999  30.13%       38.0         7.0     17.0   \n",
       "1  Flipkart     999       1999  50.03%      531.0        69.0    264.0   \n",
       "2  Flipkart    2749       4999  45.01%       17.0         4.0     11.0   \n",
       "3  Flipkart     518        724  15.85%    46413.0      6229.0   1045.0   \n",
       "4  Flipkart    1379       2299  40.02%       77.0         3.0     35.0   \n",
       "\n",
       "   star_4f  star_3f  star_2f  star_1f  fulfilled1  \n",
       "0      9.0      6.0        3        3           0  \n",
       "1     92.0     73.0       29       73           1  \n",
       "2      3.0      2.0        1        0           1  \n",
       "3  12416.0   5352.0      701     4595           1  \n",
       "4     21.0      7.0        7        7           1  "
      ]
     },
     "execution_count": 127,
     "metadata": {},
     "output_type": "execute_result"
    }
   ],
   "source": [
    "df.head()"
   ]
  },
  {
   "cell_type": "code",
   "execution_count": 128,
   "id": "2d75b751",
   "metadata": {},
   "outputs": [
    {
     "name": "stdout",
     "output_type": "stream",
     "text": [
      "(15730, 16)\n"
     ]
    }
   ],
   "source": [
    "print(df.shape)"
   ]
  },
  {
   "cell_type": "code",
   "execution_count": 129,
   "id": "8c6648e7",
   "metadata": {},
   "outputs": [
    {
     "data": {
      "text/html": [
       "<div>\n",
       "<style scoped>\n",
       "    .dataframe tbody tr th:only-of-type {\n",
       "        vertical-align: middle;\n",
       "    }\n",
       "\n",
       "    .dataframe tbody tr th {\n",
       "        vertical-align: top;\n",
       "    }\n",
       "\n",
       "    .dataframe thead th {\n",
       "        text-align: right;\n",
       "    }\n",
       "</style>\n",
       "<table border=\"1\" class=\"dataframe\">\n",
       "  <thead>\n",
       "    <tr style=\"text-align: right;\">\n",
       "      <th></th>\n",
       "      <th>id</th>\n",
       "      <th>Rating</th>\n",
       "      <th>price1</th>\n",
       "      <th>actprice1</th>\n",
       "      <th>norating1</th>\n",
       "      <th>noreviews1</th>\n",
       "      <th>star_5f</th>\n",
       "      <th>star_4f</th>\n",
       "      <th>star_3f</th>\n",
       "      <th>star_2f</th>\n",
       "      <th>star_1f</th>\n",
       "      <th>fulfilled1</th>\n",
       "    </tr>\n",
       "  </thead>\n",
       "  <tbody>\n",
       "    <tr>\n",
       "      <th>count</th>\n",
       "      <td>15730.000000</td>\n",
       "      <td>15730.000000</td>\n",
       "      <td>15730.000000</td>\n",
       "      <td>15730.000000</td>\n",
       "      <td>15052.000000</td>\n",
       "      <td>15152.000000</td>\n",
       "      <td>15142.000000</td>\n",
       "      <td>15191.000000</td>\n",
       "      <td>15499.000000</td>\n",
       "      <td>15730.000000</td>\n",
       "      <td>15730.000000</td>\n",
       "      <td>15730.000000</td>\n",
       "    </tr>\n",
       "    <tr>\n",
       "      <th>mean</th>\n",
       "      <td>10479.541577</td>\n",
       "      <td>4.012873</td>\n",
       "      <td>688.070693</td>\n",
       "      <td>1369.286777</td>\n",
       "      <td>3057.660776</td>\n",
       "      <td>423.976307</td>\n",
       "      <td>1585.239466</td>\n",
       "      <td>655.923310</td>\n",
       "      <td>357.260662</td>\n",
       "      <td>155.085188</td>\n",
       "      <td>275.500572</td>\n",
       "      <td>0.601526</td>\n",
       "    </tr>\n",
       "    <tr>\n",
       "      <th>std</th>\n",
       "      <td>6080.166276</td>\n",
       "      <td>0.298440</td>\n",
       "      <td>649.409586</td>\n",
       "      <td>1240.900227</td>\n",
       "      <td>11846.965689</td>\n",
       "      <td>1768.230384</td>\n",
       "      <td>6177.476241</td>\n",
       "      <td>2855.735531</td>\n",
       "      <td>1402.246610</td>\n",
       "      <td>558.650254</td>\n",
       "      <td>958.589075</td>\n",
       "      <td>0.489600</td>\n",
       "    </tr>\n",
       "    <tr>\n",
       "      <th>min</th>\n",
       "      <td>3.000000</td>\n",
       "      <td>0.000000</td>\n",
       "      <td>69.000000</td>\n",
       "      <td>42.000000</td>\n",
       "      <td>1.000000</td>\n",
       "      <td>0.000000</td>\n",
       "      <td>0.000000</td>\n",
       "      <td>0.000000</td>\n",
       "      <td>0.000000</td>\n",
       "      <td>0.000000</td>\n",
       "      <td>0.000000</td>\n",
       "      <td>0.000000</td>\n",
       "    </tr>\n",
       "    <tr>\n",
       "      <th>25%</th>\n",
       "      <td>5212.000000</td>\n",
       "      <td>3.900000</td>\n",
       "      <td>349.000000</td>\n",
       "      <td>699.000000</td>\n",
       "      <td>63.000000</td>\n",
       "      <td>9.000000</td>\n",
       "      <td>30.000000</td>\n",
       "      <td>12.000000</td>\n",
       "      <td>7.000000</td>\n",
       "      <td>3.000000</td>\n",
       "      <td>6.000000</td>\n",
       "      <td>0.000000</td>\n",
       "    </tr>\n",
       "    <tr>\n",
       "      <th>50%</th>\n",
       "      <td>10458.500000</td>\n",
       "      <td>4.000000</td>\n",
       "      <td>474.000000</td>\n",
       "      <td>999.000000</td>\n",
       "      <td>308.000000</td>\n",
       "      <td>44.000000</td>\n",
       "      <td>150.000000</td>\n",
       "      <td>60.000000</td>\n",
       "      <td>34.000000</td>\n",
       "      <td>17.000000</td>\n",
       "      <td>30.000000</td>\n",
       "      <td>1.000000</td>\n",
       "    </tr>\n",
       "    <tr>\n",
       "      <th>75%</th>\n",
       "      <td>15766.750000</td>\n",
       "      <td>4.200000</td>\n",
       "      <td>699.000000</td>\n",
       "      <td>1299.000000</td>\n",
       "      <td>1526.000000</td>\n",
       "      <td>215.000000</td>\n",
       "      <td>788.000000</td>\n",
       "      <td>300.000000</td>\n",
       "      <td>172.000000</td>\n",
       "      <td>77.000000</td>\n",
       "      <td>140.000000</td>\n",
       "      <td>1.000000</td>\n",
       "    </tr>\n",
       "    <tr>\n",
       "      <th>max</th>\n",
       "      <td>20973.000000</td>\n",
       "      <td>5.000000</td>\n",
       "      <td>5998.000000</td>\n",
       "      <td>13499.000000</td>\n",
       "      <td>289973.000000</td>\n",
       "      <td>45448.000000</td>\n",
       "      <td>151193.000000</td>\n",
       "      <td>74037.000000</td>\n",
       "      <td>34978.000000</td>\n",
       "      <td>11705.000000</td>\n",
       "      <td>18060.000000</td>\n",
       "      <td>1.000000</td>\n",
       "    </tr>\n",
       "  </tbody>\n",
       "</table>\n",
       "</div>"
      ],
      "text/plain": [
       "                 id        Rating        price1     actprice1      norating1  \\\n",
       "count  15730.000000  15730.000000  15730.000000  15730.000000   15052.000000   \n",
       "mean   10479.541577      4.012873    688.070693   1369.286777    3057.660776   \n",
       "std     6080.166276      0.298440    649.409586   1240.900227   11846.965689   \n",
       "min        3.000000      0.000000     69.000000     42.000000       1.000000   \n",
       "25%     5212.000000      3.900000    349.000000    699.000000      63.000000   \n",
       "50%    10458.500000      4.000000    474.000000    999.000000     308.000000   \n",
       "75%    15766.750000      4.200000    699.000000   1299.000000    1526.000000   \n",
       "max    20973.000000      5.000000   5998.000000  13499.000000  289973.000000   \n",
       "\n",
       "         noreviews1        star_5f       star_4f       star_3f       star_2f  \\\n",
       "count  15152.000000   15142.000000  15191.000000  15499.000000  15730.000000   \n",
       "mean     423.976307    1585.239466    655.923310    357.260662    155.085188   \n",
       "std     1768.230384    6177.476241   2855.735531   1402.246610    558.650254   \n",
       "min        0.000000       0.000000      0.000000      0.000000      0.000000   \n",
       "25%        9.000000      30.000000     12.000000      7.000000      3.000000   \n",
       "50%       44.000000     150.000000     60.000000     34.000000     17.000000   \n",
       "75%      215.000000     788.000000    300.000000    172.000000     77.000000   \n",
       "max    45448.000000  151193.000000  74037.000000  34978.000000  11705.000000   \n",
       "\n",
       "            star_1f    fulfilled1  \n",
       "count  15730.000000  15730.000000  \n",
       "mean     275.500572      0.601526  \n",
       "std      958.589075      0.489600  \n",
       "min        0.000000      0.000000  \n",
       "25%        6.000000      0.000000  \n",
       "50%       30.000000      1.000000  \n",
       "75%      140.000000      1.000000  \n",
       "max    18060.000000      1.000000  "
      ]
     },
     "execution_count": 129,
     "metadata": {},
     "output_type": "execute_result"
    }
   ],
   "source": [
    "df.describe()"
   ]
  },
  {
   "cell_type": "code",
   "execution_count": 130,
   "id": "747e45b2",
   "metadata": {},
   "outputs": [
    {
     "data": {
      "text/plain": [
       "id            0.004378\n",
       "Rating        0.291511\n",
       "price1        1.000000\n",
       "actprice1     0.889304\n",
       "norating1    -0.045184\n",
       "noreviews1   -0.040171\n",
       "star_5f      -0.040196\n",
       "star_4f      -0.031649\n",
       "star_3f      -0.056558\n",
       "star_2f      -0.071090\n",
       "star_1f      -0.070024\n",
       "fulfilled1    0.256335\n",
       "Name: price1, dtype: float64"
      ]
     },
     "execution_count": 130,
     "metadata": {},
     "output_type": "execute_result"
    }
   ],
   "source": [
    "df.corr()['price1']"
   ]
  },
  {
   "cell_type": "code",
   "execution_count": 131,
   "id": "7325c9be",
   "metadata": {},
   "outputs": [
    {
     "data": {
      "text/plain": [
       "Index(['maincateg', 'norating1', 'noreviews1', 'star_5f', 'star_4f',\n",
       "       'star_3f'],\n",
       "      dtype='object')"
      ]
     },
     "execution_count": 131,
     "metadata": {},
     "output_type": "execute_result"
    }
   ],
   "source": [
    "df.columns[df.isna().any()]"
   ]
  },
  {
   "cell_type": "code",
   "execution_count": 132,
   "id": "1dd4ec9e",
   "metadata": {},
   "outputs": [
    {
     "data": {
      "text/plain": [
       "id              0\n",
       "title           0\n",
       "Rating          0\n",
       "maincateg     526\n",
       "platform        0\n",
       "price1          0\n",
       "actprice1       0\n",
       "Offer %         0\n",
       "norating1     678\n",
       "noreviews1    578\n",
       "star_5f       588\n",
       "star_4f       539\n",
       "star_3f       231\n",
       "star_2f         0\n",
       "star_1f         0\n",
       "fulfilled1      0\n",
       "dtype: int64"
      ]
     },
     "execution_count": 132,
     "metadata": {},
     "output_type": "execute_result"
    }
   ],
   "source": [
    "df.isnull().sum()"
   ]
  },
  {
   "cell_type": "code",
   "execution_count": 133,
   "id": "31fde09a",
   "metadata": {},
   "outputs": [
    {
     "name": "stdout",
     "output_type": "stream",
     "text": [
      "275\n",
      "190\n"
     ]
    }
   ],
   "source": [
    "print(df[df['title'].str.contains('Women')]['maincateg'].isna().sum())\n",
    "print(df[df['title'].str.contains('Men')]['maincateg'].isna().sum())\n"
   ]
  },
  {
   "cell_type": "code",
   "execution_count": 134,
   "id": "eea2611c",
   "metadata": {},
   "outputs": [
    {
     "name": "stdout",
     "output_type": "stream",
     "text": [
      "0\n"
     ]
    }
   ],
   "source": [
    "df['maincateg'] = df[df['title'].str.contains('Women')]['maincateg'].fillna('Women')\n",
    "df['maincateg'] = df['maincateg'].fillna('Men')\n",
    "print(df['maincateg'].isna().sum())"
   ]
  },
  {
   "cell_type": "code",
   "execution_count": 135,
   "id": "74732a8c",
   "metadata": {},
   "outputs": [
    {
     "name": "stdout",
     "output_type": "stream",
     "text": [
      "id              0\n",
      "title           0\n",
      "Rating          0\n",
      "maincateg       0\n",
      "platform        0\n",
      "price1          0\n",
      "actprice1       0\n",
      "Offer %         0\n",
      "norating1     678\n",
      "noreviews1    578\n",
      "star_5f         0\n",
      "star_4f         0\n",
      "star_3f         0\n",
      "star_2f         0\n",
      "star_1f         0\n",
      "fulfilled1      0\n",
      "dtype: int64\n"
     ]
    }
   ],
   "source": [
    "\n",
    "df['Rating']=df['Rating'].fillna(df.groupby('maincateg')['Rating'].transform('mean'))\n",
    "df['star_5f']=df['star_5f'].fillna(df.groupby('maincateg')['star_5f'].transform('mean'))\n",
    "df['star_4f']=df['star_4f'].fillna(df.groupby('maincateg')['star_4f'].transform('mean'))\n",
    "df['star_3f']=df['star_4f'].fillna(df.groupby('maincateg')['star_3f'].transform('mean'))\n",
    "df['star_2f']=df['star_4f'].fillna(df.groupby('maincateg')['star_2f'].transform('mean'))\n",
    "print(df.isnull().sum())"
   ]
  },
  {
   "cell_type": "code",
   "execution_count": 136,
   "id": "3549039b",
   "metadata": {},
   "outputs": [
    {
     "name": "stdout",
     "output_type": "stream",
     "text": [
      "id            0\n",
      "title         0\n",
      "Rating        0\n",
      "maincateg     0\n",
      "platform      0\n",
      "price1        0\n",
      "actprice1     0\n",
      "Offer %       0\n",
      "norating1     0\n",
      "noreviews1    0\n",
      "star_5f       0\n",
      "star_4f       0\n",
      "star_3f       0\n",
      "star_2f       0\n",
      "star_1f       0\n",
      "fulfilled1    0\n",
      "dtype: int64\n"
     ]
    }
   ],
   "source": [
    "df['norating1']=df['norating1'].fillna(df.groupby('maincateg')['norating1'].transform('mean'))\n",
    "df['noreviews1']=df['noreviews1'].fillna(df.groupby('maincateg')['noreviews1'].transform('mean'))\n",
    "print(df.isnull().sum())"
   ]
  },
  {
   "cell_type": "markdown",
   "id": "ed34214a",
   "metadata": {},
   "source": [
    "\n",
    "\n",
    "\n",
    "## Now there are no null values in our dataset , hence the data set is fready for training the model"
   ]
  },
  {
   "cell_type": "markdown",
   "id": "269dd2ef",
   "metadata": {},
   "source": [
    "# DATA VISUALIZATION "
   ]
  },
  {
   "cell_type": "code",
   "execution_count": 137,
   "id": "a6f2cf9a",
   "metadata": {},
   "outputs": [
    {
     "data": {
      "text/plain": [
       "id            0.004378\n",
       "Rating        0.291511\n",
       "price1        1.000000\n",
       "actprice1     0.889304\n",
       "norating1    -0.043926\n",
       "noreviews1   -0.038949\n",
       "star_5f      -0.039304\n",
       "star_4f      -0.030785\n",
       "star_3f      -0.030785\n",
       "star_2f      -0.030785\n",
       "star_1f      -0.070024\n",
       "fulfilled1    0.256335\n",
       "Name: price1, dtype: float64"
      ]
     },
     "execution_count": 137,
     "metadata": {},
     "output_type": "execute_result"
    }
   ],
   "source": [
    "df.corr()['price1']"
   ]
  },
  {
   "cell_type": "code",
   "execution_count": null,
   "id": "c4c679fc",
   "metadata": {},
   "outputs": [],
   "source": [
    "\n",
    "\n"
   ]
  },
  {
   "cell_type": "code",
   "execution_count": null,
   "id": "ff09fc7c",
   "metadata": {},
   "outputs": [],
   "source": []
  },
  {
   "cell_type": "code",
   "execution_count": null,
   "id": "29df759f",
   "metadata": {},
   "outputs": [],
   "source": []
  },
  {
   "cell_type": "code",
   "execution_count": null,
   "id": "8dffe941",
   "metadata": {},
   "outputs": [],
   "source": []
  },
  {
   "cell_type": "code",
   "execution_count": null,
   "id": "bfca851a",
   "metadata": {},
   "outputs": [],
   "source": []
  },
  {
   "cell_type": "code",
   "execution_count": null,
   "id": "9aee2e5c",
   "metadata": {},
   "outputs": [],
   "source": []
  },
  {
   "cell_type": "code",
   "execution_count": null,
   "id": "0ee83321",
   "metadata": {},
   "outputs": [],
   "source": [
    "\n"
   ]
  },
  {
   "cell_type": "code",
   "execution_count": null,
   "id": "de5156cd",
   "metadata": {},
   "outputs": [],
   "source": [
    "\n",
    "\n"
   ]
  },
  {
   "cell_type": "code",
   "execution_count": null,
   "id": "e7116ecf",
   "metadata": {},
   "outputs": [],
   "source": []
  },
  {
   "cell_type": "code",
   "execution_count": null,
   "id": "268ccf05",
   "metadata": {},
   "outputs": [],
   "source": []
  },
  {
   "cell_type": "code",
   "execution_count": null,
   "id": "9a4d2b64",
   "metadata": {},
   "outputs": [],
   "source": [
    "\n",
    "\n"
   ]
  },
  {
   "cell_type": "code",
   "execution_count": null,
   "id": "9e3834b5",
   "metadata": {},
   "outputs": [],
   "source": []
  },
  {
   "cell_type": "markdown",
   "id": "28f29351",
   "metadata": {},
   "source": [
    "## DATA PREPROCESSING"
   ]
  },
  {
   "cell_type": "code",
   "execution_count": 138,
   "id": "a36cff05",
   "metadata": {},
   "outputs": [
    {
     "data": {
      "text/html": [
       "<div>\n",
       "<style scoped>\n",
       "    .dataframe tbody tr th:only-of-type {\n",
       "        vertical-align: middle;\n",
       "    }\n",
       "\n",
       "    .dataframe tbody tr th {\n",
       "        vertical-align: top;\n",
       "    }\n",
       "\n",
       "    .dataframe thead th {\n",
       "        text-align: right;\n",
       "    }\n",
       "</style>\n",
       "<table border=\"1\" class=\"dataframe\">\n",
       "  <thead>\n",
       "    <tr style=\"text-align: right;\">\n",
       "      <th></th>\n",
       "      <th>id</th>\n",
       "      <th>title</th>\n",
       "      <th>Rating</th>\n",
       "      <th>maincateg</th>\n",
       "      <th>platform</th>\n",
       "      <th>price1</th>\n",
       "      <th>actprice1</th>\n",
       "      <th>Offer %</th>\n",
       "      <th>norating1</th>\n",
       "      <th>noreviews1</th>\n",
       "      <th>star_5f</th>\n",
       "      <th>star_4f</th>\n",
       "      <th>star_3f</th>\n",
       "      <th>star_2f</th>\n",
       "      <th>star_1f</th>\n",
       "      <th>fulfilled1</th>\n",
       "    </tr>\n",
       "  </thead>\n",
       "  <tbody>\n",
       "    <tr>\n",
       "      <th>0</th>\n",
       "      <td>16695</td>\n",
       "      <td>Fashionable &amp; Comfortable Bellies For Women  (...</td>\n",
       "      <td>3.9</td>\n",
       "      <td>1</td>\n",
       "      <td>0</td>\n",
       "      <td>698</td>\n",
       "      <td>999</td>\n",
       "      <td>30.13%</td>\n",
       "      <td>38.0</td>\n",
       "      <td>7.0</td>\n",
       "      <td>17.0</td>\n",
       "      <td>9.0</td>\n",
       "      <td>9.0</td>\n",
       "      <td>9.0</td>\n",
       "      <td>3</td>\n",
       "      <td>0</td>\n",
       "    </tr>\n",
       "    <tr>\n",
       "      <th>1</th>\n",
       "      <td>5120</td>\n",
       "      <td>Combo Pack of 4 Casual Shoes Sneakers For Men ...</td>\n",
       "      <td>3.8</td>\n",
       "      <td>0</td>\n",
       "      <td>0</td>\n",
       "      <td>999</td>\n",
       "      <td>1999</td>\n",
       "      <td>50.03%</td>\n",
       "      <td>531.0</td>\n",
       "      <td>69.0</td>\n",
       "      <td>264.0</td>\n",
       "      <td>92.0</td>\n",
       "      <td>92.0</td>\n",
       "      <td>92.0</td>\n",
       "      <td>73</td>\n",
       "      <td>1</td>\n",
       "    </tr>\n",
       "    <tr>\n",
       "      <th>2</th>\n",
       "      <td>18391</td>\n",
       "      <td>Cilia Mode Leo Sneakers For Women  (White)</td>\n",
       "      <td>4.4</td>\n",
       "      <td>1</td>\n",
       "      <td>0</td>\n",
       "      <td>2749</td>\n",
       "      <td>4999</td>\n",
       "      <td>45.01%</td>\n",
       "      <td>17.0</td>\n",
       "      <td>4.0</td>\n",
       "      <td>11.0</td>\n",
       "      <td>3.0</td>\n",
       "      <td>3.0</td>\n",
       "      <td>3.0</td>\n",
       "      <td>0</td>\n",
       "      <td>1</td>\n",
       "    </tr>\n",
       "    <tr>\n",
       "      <th>3</th>\n",
       "      <td>495</td>\n",
       "      <td>Men Black Sports Sandal</td>\n",
       "      <td>4.2</td>\n",
       "      <td>0</td>\n",
       "      <td>0</td>\n",
       "      <td>518</td>\n",
       "      <td>724</td>\n",
       "      <td>15.85%</td>\n",
       "      <td>46413.0</td>\n",
       "      <td>6229.0</td>\n",
       "      <td>1045.0</td>\n",
       "      <td>12416.0</td>\n",
       "      <td>12416.0</td>\n",
       "      <td>12416.0</td>\n",
       "      <td>4595</td>\n",
       "      <td>1</td>\n",
       "    </tr>\n",
       "    <tr>\n",
       "      <th>4</th>\n",
       "      <td>16408</td>\n",
       "      <td>Men Green Sports Sandal</td>\n",
       "      <td>3.9</td>\n",
       "      <td>0</td>\n",
       "      <td>0</td>\n",
       "      <td>1379</td>\n",
       "      <td>2299</td>\n",
       "      <td>40.02%</td>\n",
       "      <td>77.0</td>\n",
       "      <td>3.0</td>\n",
       "      <td>35.0</td>\n",
       "      <td>21.0</td>\n",
       "      <td>21.0</td>\n",
       "      <td>21.0</td>\n",
       "      <td>7</td>\n",
       "      <td>1</td>\n",
       "    </tr>\n",
       "  </tbody>\n",
       "</table>\n",
       "</div>"
      ],
      "text/plain": [
       "      id                                              title  Rating  \\\n",
       "0  16695  Fashionable & Comfortable Bellies For Women  (...     3.9   \n",
       "1   5120  Combo Pack of 4 Casual Shoes Sneakers For Men ...     3.8   \n",
       "2  18391         Cilia Mode Leo Sneakers For Women  (White)     4.4   \n",
       "3    495                            Men Black Sports Sandal     4.2   \n",
       "4  16408                            Men Green Sports Sandal     3.9   \n",
       "\n",
       "   maincateg  platform  price1  actprice1 Offer %  norating1  noreviews1  \\\n",
       "0          1         0     698        999  30.13%       38.0         7.0   \n",
       "1          0         0     999       1999  50.03%      531.0        69.0   \n",
       "2          1         0    2749       4999  45.01%       17.0         4.0   \n",
       "3          0         0     518        724  15.85%    46413.0      6229.0   \n",
       "4          0         0    1379       2299  40.02%       77.0         3.0   \n",
       "\n",
       "   star_5f  star_4f  star_3f  star_2f  star_1f  fulfilled1  \n",
       "0     17.0      9.0      9.0      9.0        3           0  \n",
       "1    264.0     92.0     92.0     92.0       73           1  \n",
       "2     11.0      3.0      3.0      3.0        0           1  \n",
       "3   1045.0  12416.0  12416.0  12416.0     4595           1  \n",
       "4     35.0     21.0     21.0     21.0        7           1  "
      ]
     },
     "execution_count": 138,
     "metadata": {},
     "output_type": "execute_result"
    }
   ],
   "source": [
    "df['maincateg']=df['maincateg'].map({'Men':0,'Women':1})\n",
    "df['platform']=df['platform'].map({'Flipkart':0,'Amazon':1})\n",
    "df.head(5)\n"
   ]
  },
  {
   "cell_type": "code",
   "execution_count": 139,
   "id": "4b6c92f7",
   "metadata": {},
   "outputs": [
    {
     "data": {
      "text/plain": [
       "id            0.004378\n",
       "Rating        0.291511\n",
       "maincateg    -0.015393\n",
       "platform      0.000483\n",
       "price1        1.000000\n",
       "actprice1     0.889304\n",
       "norating1    -0.043926\n",
       "noreviews1   -0.038949\n",
       "star_5f      -0.039304\n",
       "star_4f      -0.030785\n",
       "star_3f      -0.030785\n",
       "star_2f      -0.030785\n",
       "star_1f      -0.070024\n",
       "fulfilled1    0.256335\n",
       "Name: price1, dtype: float64"
      ]
     },
     "execution_count": 139,
     "metadata": {},
     "output_type": "execute_result"
    }
   ],
   "source": [
    "df.corr()['price1']"
   ]
  },
  {
   "cell_type": "markdown",
   "id": "2c0108ba",
   "metadata": {},
   "source": [
    "#### Creating new colimns based on title column for better data...."
   ]
  },
  {
   "cell_type": "code",
   "execution_count": 203,
   "id": "0793654c",
   "metadata": {},
   "outputs": [
    {
     "data": {
      "text/html": [
       "<div>\n",
       "<style scoped>\n",
       "    .dataframe tbody tr th:only-of-type {\n",
       "        vertical-align: middle;\n",
       "    }\n",
       "\n",
       "    .dataframe tbody tr th {\n",
       "        vertical-align: top;\n",
       "    }\n",
       "\n",
       "    .dataframe thead th {\n",
       "        text-align: right;\n",
       "    }\n",
       "</style>\n",
       "<table border=\"1\" class=\"dataframe\">\n",
       "  <thead>\n",
       "    <tr style=\"text-align: right;\">\n",
       "      <th></th>\n",
       "      <th>id</th>\n",
       "      <th>title</th>\n",
       "      <th>Rating</th>\n",
       "      <th>maincateg</th>\n",
       "      <th>platform</th>\n",
       "      <th>price1</th>\n",
       "      <th>actprice1</th>\n",
       "      <th>Offer %</th>\n",
       "      <th>norating1</th>\n",
       "      <th>noreviews1</th>\n",
       "      <th>star_5f</th>\n",
       "      <th>star_4f</th>\n",
       "      <th>star_3f</th>\n",
       "      <th>star_2f</th>\n",
       "      <th>star_1f</th>\n",
       "      <th>fulfilled1</th>\n",
       "      <th>Shoes</th>\n",
       "    </tr>\n",
       "  </thead>\n",
       "  <tbody>\n",
       "    <tr>\n",
       "      <th>0</th>\n",
       "      <td>16695</td>\n",
       "      <td>Fashionable &amp; Comfortable Bellies For Women  (...</td>\n",
       "      <td>3.9</td>\n",
       "      <td>1</td>\n",
       "      <td>0</td>\n",
       "      <td>698</td>\n",
       "      <td>999</td>\n",
       "      <td>30.13%</td>\n",
       "      <td>38.0</td>\n",
       "      <td>7.0</td>\n",
       "      <td>17.0</td>\n",
       "      <td>9.0</td>\n",
       "      <td>9.0</td>\n",
       "      <td>9.0</td>\n",
       "      <td>3</td>\n",
       "      <td>0</td>\n",
       "      <td>0</td>\n",
       "    </tr>\n",
       "    <tr>\n",
       "      <th>1</th>\n",
       "      <td>5120</td>\n",
       "      <td>Combo Pack of 4 Casual Shoes Sneakers For Men ...</td>\n",
       "      <td>3.8</td>\n",
       "      <td>0</td>\n",
       "      <td>0</td>\n",
       "      <td>999</td>\n",
       "      <td>1999</td>\n",
       "      <td>50.03%</td>\n",
       "      <td>531.0</td>\n",
       "      <td>69.0</td>\n",
       "      <td>264.0</td>\n",
       "      <td>92.0</td>\n",
       "      <td>92.0</td>\n",
       "      <td>92.0</td>\n",
       "      <td>73</td>\n",
       "      <td>1</td>\n",
       "      <td>1</td>\n",
       "    </tr>\n",
       "    <tr>\n",
       "      <th>2</th>\n",
       "      <td>18391</td>\n",
       "      <td>Cilia Mode Leo Sneakers For Women  (White)</td>\n",
       "      <td>4.4</td>\n",
       "      <td>1</td>\n",
       "      <td>0</td>\n",
       "      <td>2749</td>\n",
       "      <td>4999</td>\n",
       "      <td>45.01%</td>\n",
       "      <td>17.0</td>\n",
       "      <td>4.0</td>\n",
       "      <td>11.0</td>\n",
       "      <td>3.0</td>\n",
       "      <td>3.0</td>\n",
       "      <td>3.0</td>\n",
       "      <td>0</td>\n",
       "      <td>1</td>\n",
       "      <td>0</td>\n",
       "    </tr>\n",
       "    <tr>\n",
       "      <th>3</th>\n",
       "      <td>495</td>\n",
       "      <td>Men Black Sports Sandal</td>\n",
       "      <td>4.2</td>\n",
       "      <td>0</td>\n",
       "      <td>0</td>\n",
       "      <td>518</td>\n",
       "      <td>724</td>\n",
       "      <td>15.85%</td>\n",
       "      <td>46413.0</td>\n",
       "      <td>6229.0</td>\n",
       "      <td>1045.0</td>\n",
       "      <td>12416.0</td>\n",
       "      <td>12416.0</td>\n",
       "      <td>12416.0</td>\n",
       "      <td>4595</td>\n",
       "      <td>1</td>\n",
       "      <td>0</td>\n",
       "    </tr>\n",
       "    <tr>\n",
       "      <th>4</th>\n",
       "      <td>16408</td>\n",
       "      <td>Men Green Sports Sandal</td>\n",
       "      <td>3.9</td>\n",
       "      <td>0</td>\n",
       "      <td>0</td>\n",
       "      <td>1379</td>\n",
       "      <td>2299</td>\n",
       "      <td>40.02%</td>\n",
       "      <td>77.0</td>\n",
       "      <td>3.0</td>\n",
       "      <td>35.0</td>\n",
       "      <td>21.0</td>\n",
       "      <td>21.0</td>\n",
       "      <td>21.0</td>\n",
       "      <td>7</td>\n",
       "      <td>1</td>\n",
       "      <td>0</td>\n",
       "    </tr>\n",
       "  </tbody>\n",
       "</table>\n",
       "</div>"
      ],
      "text/plain": [
       "      id                                              title  Rating  \\\n",
       "0  16695  Fashionable & Comfortable Bellies For Women  (...     3.9   \n",
       "1   5120  Combo Pack of 4 Casual Shoes Sneakers For Men ...     3.8   \n",
       "2  18391         Cilia Mode Leo Sneakers For Women  (White)     4.4   \n",
       "3    495                            Men Black Sports Sandal     4.2   \n",
       "4  16408                            Men Green Sports Sandal     3.9   \n",
       "\n",
       "   maincateg  platform  price1  actprice1 Offer %  norating1  noreviews1  \\\n",
       "0          1         0     698        999  30.13%       38.0         7.0   \n",
       "1          0         0     999       1999  50.03%      531.0        69.0   \n",
       "2          1         0    2749       4999  45.01%       17.0         4.0   \n",
       "3          0         0     518        724  15.85%    46413.0      6229.0   \n",
       "4          0         0    1379       2299  40.02%       77.0         3.0   \n",
       "\n",
       "   star_5f  star_4f  star_3f  star_2f  star_1f  fulfilled1  Shoes  \n",
       "0     17.0      9.0      9.0      9.0        3           0      0  \n",
       "1    264.0     92.0     92.0     92.0       73           1      1  \n",
       "2     11.0      3.0      3.0      3.0        0           1      0  \n",
       "3   1045.0  12416.0  12416.0  12416.0     4595           1      0  \n",
       "4     35.0     21.0     21.0     21.0        7           1      0  "
      ]
     },
     "execution_count": 203,
     "metadata": {},
     "output_type": "execute_result"
    }
   ],
   "source": [
    "df['Shoes']=df['title'].apply(lambda element:1 if 'Shoes' in element else 0)\n",
    "print(df.head())"
   ]
  },
  {
   "cell_type": "code",
   "execution_count": 204,
   "id": "70da2037",
   "metadata": {},
   "outputs": [
    {
     "data": {
      "text/plain": [
       "<AxesSubplot:xlabel='Shoes', ylabel='count'>"
      ]
     },
     "execution_count": 204,
     "metadata": {},
     "output_type": "execute_result"
    },
    {
     "data": {
      "image/png": "[encoded data removed]",
      "text/plain": [
       "<Figure size 432x288 with 1 Axes>"
      ]
     },
     "metadata": {
      "needs_background": "light"
     },
     "output_type": "display_data"
    }
   ],
   "source": [
    "sns.countplot(x=df['Shoes'])"
   ]
  },
  {
   "cell_type": "code",
   "execution_count": 206,
   "id": "46e70a62",
   "metadata": {},
   "outputs": [
    {
     "data": {
      "text/html": [
       "<div>\n",
       "<style scoped>\n",
       "    .dataframe tbody tr th:only-of-type {\n",
       "        vertical-align: middle;\n",
       "    }\n",
       "\n",
       "    .dataframe tbody tr th {\n",
       "        vertical-align: top;\n",
       "    }\n",
       "\n",
       "    .dataframe thead th {\n",
       "        text-align: right;\n",
       "    }\n",
       "</style>\n",
       "<table border=\"1\" class=\"dataframe\">\n",
       "  <thead>\n",
       "    <tr style=\"text-align: right;\">\n",
       "      <th></th>\n",
       "      <th>id</th>\n",
       "      <th>title</th>\n",
       "      <th>Rating</th>\n",
       "      <th>maincateg</th>\n",
       "      <th>platform</th>\n",
       "      <th>price1</th>\n",
       "      <th>actprice1</th>\n",
       "      <th>Offer %</th>\n",
       "      <th>norating1</th>\n",
       "      <th>noreviews1</th>\n",
       "      <th>star_5f</th>\n",
       "      <th>star_4f</th>\n",
       "      <th>star_3f</th>\n",
       "      <th>star_2f</th>\n",
       "      <th>star_1f</th>\n",
       "      <th>fulfilled1</th>\n",
       "      <th>Shoes</th>\n",
       "      <th>Sneakers</th>\n",
       "    </tr>\n",
       "  </thead>\n",
       "  <tbody>\n",
       "    <tr>\n",
       "      <th>0</th>\n",
       "      <td>16695</td>\n",
       "      <td>Fashionable &amp; Comfortable Bellies For Women  (...</td>\n",
       "      <td>3.9</td>\n",
       "      <td>1</td>\n",
       "      <td>0</td>\n",
       "      <td>698</td>\n",
       "      <td>999</td>\n",
       "      <td>30.13%</td>\n",
       "      <td>38.0</td>\n",
       "      <td>7.0</td>\n",
       "      <td>17.0</td>\n",
       "      <td>9.0</td>\n",
       "      <td>9.0</td>\n",
       "      <td>9.0</td>\n",
       "      <td>3</td>\n",
       "      <td>0</td>\n",
       "      <td>0</td>\n",
       "      <td>0</td>\n",
       "    </tr>\n",
       "    <tr>\n",
       "      <th>1</th>\n",
       "      <td>5120</td>\n",
       "      <td>Combo Pack of 4 Casual Shoes Sneakers For Men ...</td>\n",
       "      <td>3.8</td>\n",
       "      <td>0</td>\n",
       "      <td>0</td>\n",
       "      <td>999</td>\n",
       "      <td>1999</td>\n",
       "      <td>50.03%</td>\n",
       "      <td>531.0</td>\n",
       "      <td>69.0</td>\n",
       "      <td>264.0</td>\n",
       "      <td>92.0</td>\n",
       "      <td>92.0</td>\n",
       "      <td>92.0</td>\n",
       "      <td>73</td>\n",
       "      <td>1</td>\n",
       "      <td>1</td>\n",
       "      <td>1</td>\n",
       "    </tr>\n",
       "    <tr>\n",
       "      <th>2</th>\n",
       "      <td>18391</td>\n",
       "      <td>Cilia Mode Leo Sneakers For Women  (White)</td>\n",
       "      <td>4.4</td>\n",
       "      <td>1</td>\n",
       "      <td>0</td>\n",
       "      <td>2749</td>\n",
       "      <td>4999</td>\n",
       "      <td>45.01%</td>\n",
       "      <td>17.0</td>\n",
       "      <td>4.0</td>\n",
       "      <td>11.0</td>\n",
       "      <td>3.0</td>\n",
       "      <td>3.0</td>\n",
       "      <td>3.0</td>\n",
       "      <td>0</td>\n",
       "      <td>1</td>\n",
       "      <td>0</td>\n",
       "      <td>1</td>\n",
       "    </tr>\n",
       "    <tr>\n",
       "      <th>3</th>\n",
       "      <td>495</td>\n",
       "      <td>Men Black Sports Sandal</td>\n",
       "      <td>4.2</td>\n",
       "      <td>0</td>\n",
       "      <td>0</td>\n",
       "      <td>518</td>\n",
       "      <td>724</td>\n",
       "      <td>15.85%</td>\n",
       "      <td>46413.0</td>\n",
       "      <td>6229.0</td>\n",
       "      <td>1045.0</td>\n",
       "      <td>12416.0</td>\n",
       "      <td>12416.0</td>\n",
       "      <td>12416.0</td>\n",
       "      <td>4595</td>\n",
       "      <td>1</td>\n",
       "      <td>0</td>\n",
       "      <td>0</td>\n",
       "    </tr>\n",
       "    <tr>\n",
       "      <th>4</th>\n",
       "      <td>16408</td>\n",
       "      <td>Men Green Sports Sandal</td>\n",
       "      <td>3.9</td>\n",
       "      <td>0</td>\n",
       "      <td>0</td>\n",
       "      <td>1379</td>\n",
       "      <td>2299</td>\n",
       "      <td>40.02%</td>\n",
       "      <td>77.0</td>\n",
       "      <td>3.0</td>\n",
       "      <td>35.0</td>\n",
       "      <td>21.0</td>\n",
       "      <td>21.0</td>\n",
       "      <td>21.0</td>\n",
       "      <td>7</td>\n",
       "      <td>1</td>\n",
       "      <td>0</td>\n",
       "      <td>0</td>\n",
       "    </tr>\n",
       "  </tbody>\n",
       "</table>\n",
       "</div>"
      ],
      "text/plain": [
       "      id                                              title  Rating  \\\n",
       "0  16695  Fashionable & Comfortable Bellies For Women  (...     3.9   \n",
       "1   5120  Combo Pack of 4 Casual Shoes Sneakers For Men ...     3.8   \n",
       "2  18391         Cilia Mode Leo Sneakers For Women  (White)     4.4   \n",
       "3    495                            Men Black Sports Sandal     4.2   \n",
       "4  16408                            Men Green Sports Sandal     3.9   \n",
       "\n",
       "   maincateg  platform  price1  actprice1 Offer %  norating1  noreviews1  \\\n",
       "0          1         0     698        999  30.13%       38.0         7.0   \n",
       "1          0         0     999       1999  50.03%      531.0        69.0   \n",
       "2          1         0    2749       4999  45.01%       17.0         4.0   \n",
       "3          0         0     518        724  15.85%    46413.0      6229.0   \n",
       "4          0         0    1379       2299  40.02%       77.0         3.0   \n",
       "\n",
       "   star_5f  star_4f  star_3f  star_2f  star_1f  fulfilled1  Shoes  Sneakers  \n",
       "0     17.0      9.0      9.0      9.0        3           0      0         0  \n",
       "1    264.0     92.0     92.0     92.0       73           1      1         1  \n",
       "2     11.0      3.0      3.0      3.0        0           1      0         1  \n",
       "3   1045.0  12416.0  12416.0  12416.0     4595           1      0         0  \n",
       "4     35.0     21.0     21.0     21.0        7           1      0         0  "
      ]
     },
     "execution_count": 206,
     "metadata": {},
     "output_type": "execute_result"
    }
   ],
   "source": [
    "df['Sneakers']=df['title'].apply(lambda element:1 if 'Sneakers' in element else 0)\n",
    "df.head()"
   ]
  },
  {
   "cell_type": "code",
   "execution_count": 207,
   "id": "f4e6cdec",
   "metadata": {},
   "outputs": [
    {
     "data": {
      "text/plain": [
       "<AxesSubplot:xlabel='Sneakers', ylabel='count'>"
      ]
     },
     "execution_count": 207,
     "metadata": {},
     "output_type": "execute_result"
    },
    {
     "data": {
      "image/png": "[encoded data removed]",
      "text/plain": [
       "<Figure size 432x288 with 1 Axes>"
      ]
     },
     "metadata": {
      "needs_background": "light"
     },
     "output_type": "display_data"
    }
   ],
   "source": [
    "sns.countplot(x=df['Sneakers'])"
   ]
  },
  {
   "cell_type": "code",
   "execution_count": 208,
   "id": "2a42f317",
   "metadata": {},
   "outputs": [
    {
     "data": {
      "text/html": [
       "<div>\n",
       "<style scoped>\n",
       "    .dataframe tbody tr th:only-of-type {\n",
       "        vertical-align: middle;\n",
       "    }\n",
       "\n",
       "    .dataframe tbody tr th {\n",
       "        vertical-align: top;\n",
       "    }\n",
       "\n",
       "    .dataframe thead th {\n",
       "        text-align: right;\n",
       "    }\n",
       "</style>\n",
       "<table border=\"1\" class=\"dataframe\">\n",
       "  <thead>\n",
       "    <tr style=\"text-align: right;\">\n",
       "      <th></th>\n",
       "      <th>id</th>\n",
       "      <th>title</th>\n",
       "      <th>Rating</th>\n",
       "      <th>maincateg</th>\n",
       "      <th>platform</th>\n",
       "      <th>price1</th>\n",
       "      <th>actprice1</th>\n",
       "      <th>Offer %</th>\n",
       "      <th>norating1</th>\n",
       "      <th>noreviews1</th>\n",
       "      <th>star_5f</th>\n",
       "      <th>star_4f</th>\n",
       "      <th>star_3f</th>\n",
       "      <th>star_2f</th>\n",
       "      <th>star_1f</th>\n",
       "      <th>fulfilled1</th>\n",
       "      <th>Shoes</th>\n",
       "      <th>Sneakers</th>\n",
       "      <th>Sandal</th>\n",
       "    </tr>\n",
       "  </thead>\n",
       "  <tbody>\n",
       "    <tr>\n",
       "      <th>0</th>\n",
       "      <td>16695</td>\n",
       "      <td>Fashionable &amp; Comfortable Bellies For Women  (...</td>\n",
       "      <td>3.9</td>\n",
       "      <td>1</td>\n",
       "      <td>0</td>\n",
       "      <td>698</td>\n",
       "      <td>999</td>\n",
       "      <td>30.13%</td>\n",
       "      <td>38.0</td>\n",
       "      <td>7.0</td>\n",
       "      <td>17.0</td>\n",
       "      <td>9.0</td>\n",
       "      <td>9.0</td>\n",
       "      <td>9.0</td>\n",
       "      <td>3</td>\n",
       "      <td>0</td>\n",
       "      <td>0</td>\n",
       "      <td>0</td>\n",
       "      <td>0</td>\n",
       "    </tr>\n",
       "    <tr>\n",
       "      <th>1</th>\n",
       "      <td>5120</td>\n",
       "      <td>Combo Pack of 4 Casual Shoes Sneakers For Men ...</td>\n",
       "      <td>3.8</td>\n",
       "      <td>0</td>\n",
       "      <td>0</td>\n",
       "      <td>999</td>\n",
       "      <td>1999</td>\n",
       "      <td>50.03%</td>\n",
       "      <td>531.0</td>\n",
       "      <td>69.0</td>\n",
       "      <td>264.0</td>\n",
       "      <td>92.0</td>\n",
       "      <td>92.0</td>\n",
       "      <td>92.0</td>\n",
       "      <td>73</td>\n",
       "      <td>1</td>\n",
       "      <td>1</td>\n",
       "      <td>1</td>\n",
       "      <td>0</td>\n",
       "    </tr>\n",
       "    <tr>\n",
       "      <th>2</th>\n",
       "      <td>18391</td>\n",
       "      <td>Cilia Mode Leo Sneakers For Women  (White)</td>\n",
       "      <td>4.4</td>\n",
       "      <td>1</td>\n",
       "      <td>0</td>\n",
       "      <td>2749</td>\n",
       "      <td>4999</td>\n",
       "      <td>45.01%</td>\n",
       "      <td>17.0</td>\n",
       "      <td>4.0</td>\n",
       "      <td>11.0</td>\n",
       "      <td>3.0</td>\n",
       "      <td>3.0</td>\n",
       "      <td>3.0</td>\n",
       "      <td>0</td>\n",
       "      <td>1</td>\n",
       "      <td>0</td>\n",
       "      <td>1</td>\n",
       "      <td>0</td>\n",
       "    </tr>\n",
       "    <tr>\n",
       "      <th>3</th>\n",
       "      <td>495</td>\n",
       "      <td>Men Black Sports Sandal</td>\n",
       "      <td>4.2</td>\n",
       "      <td>0</td>\n",
       "      <td>0</td>\n",
       "      <td>518</td>\n",
       "      <td>724</td>\n",
       "      <td>15.85%</td>\n",
       "      <td>46413.0</td>\n",
       "      <td>6229.0</td>\n",
       "      <td>1045.0</td>\n",
       "      <td>12416.0</td>\n",
       "      <td>12416.0</td>\n",
       "      <td>12416.0</td>\n",
       "      <td>4595</td>\n",
       "      <td>1</td>\n",
       "      <td>0</td>\n",
       "      <td>0</td>\n",
       "      <td>1</td>\n",
       "    </tr>\n",
       "    <tr>\n",
       "      <th>4</th>\n",
       "      <td>16408</td>\n",
       "      <td>Men Green Sports Sandal</td>\n",
       "      <td>3.9</td>\n",
       "      <td>0</td>\n",
       "      <td>0</td>\n",
       "      <td>1379</td>\n",
       "      <td>2299</td>\n",
       "      <td>40.02%</td>\n",
       "      <td>77.0</td>\n",
       "      <td>3.0</td>\n",
       "      <td>35.0</td>\n",
       "      <td>21.0</td>\n",
       "      <td>21.0</td>\n",
       "      <td>21.0</td>\n",
       "      <td>7</td>\n",
       "      <td>1</td>\n",
       "      <td>0</td>\n",
       "      <td>0</td>\n",
       "      <td>1</td>\n",
       "    </tr>\n",
       "  </tbody>\n",
       "</table>\n",
       "</div>"
      ],
      "text/plain": [
       "      id                                              title  Rating  \\\n",
       "0  16695  Fashionable & Comfortable Bellies For Women  (...     3.9   \n",
       "1   5120  Combo Pack of 4 Casual Shoes Sneakers For Men ...     3.8   \n",
       "2  18391         Cilia Mode Leo Sneakers For Women  (White)     4.4   \n",
       "3    495                            Men Black Sports Sandal     4.2   \n",
       "4  16408                            Men Green Sports Sandal     3.9   \n",
       "\n",
       "   maincateg  platform  price1  actprice1 Offer %  norating1  noreviews1  \\\n",
       "0          1         0     698        999  30.13%       38.0         7.0   \n",
       "1          0         0     999       1999  50.03%      531.0        69.0   \n",
       "2          1         0    2749       4999  45.01%       17.0         4.0   \n",
       "3          0         0     518        724  15.85%    46413.0      6229.0   \n",
       "4          0         0    1379       2299  40.02%       77.0         3.0   \n",
       "\n",
       "   star_5f  star_4f  star_3f  star_2f  star_1f  fulfilled1  Shoes  Sneakers  \\\n",
       "0     17.0      9.0      9.0      9.0        3           0      0         0   \n",
       "1    264.0     92.0     92.0     92.0       73           1      1         1   \n",
       "2     11.0      3.0      3.0      3.0        0           1      0         1   \n",
       "3   1045.0  12416.0  12416.0  12416.0     4595           1      0         0   \n",
       "4     35.0     21.0     21.0     21.0        7           1      0         0   \n",
       "\n",
       "   Sandal  \n",
       "0       0  \n",
       "1       0  \n",
       "2       0  \n",
       "3       1  \n",
       "4       1  "
      ]
     },
     "execution_count": 208,
     "metadata": {},
     "output_type": "execute_result"
    }
   ],
   "source": [
    "df['Sandal']=df['title'].apply(lambda element:1 if 'Sandal' in element else 0)\n",
    "df.head()"
   ]
  },
  {
   "cell_type": "code",
   "execution_count": 209,
   "id": "463b0540",
   "metadata": {},
   "outputs": [
    {
     "data": {
      "text/plain": [
       "<AxesSubplot:xlabel='Sandal', ylabel='count'>"
      ]
     },
     "execution_count": 209,
     "metadata": {},
     "output_type": "execute_result"
    },
    {
     "data": {
      "image/png": "[encoded data removed]",
      "text/plain": [
       "<Figure size 432x288 with 1 Axes>"
      ]
     },
     "metadata": {
      "needs_background": "light"
     },
     "output_type": "display_data"
    }
   ],
   "source": [
    "sns.countplot(x=df['Sandal'])"
   ]
  },
  {
   "cell_type": "code",
   "execution_count": 210,
   "id": "ad9e247e",
   "metadata": {},
   "outputs": [
    {
     "data": {
      "text/html": [
       "<div>\n",
       "<style scoped>\n",
       "    .dataframe tbody tr th:only-of-type {\n",
       "        vertical-align: middle;\n",
       "    }\n",
       "\n",
       "    .dataframe tbody tr th {\n",
       "        vertical-align: top;\n",
       "    }\n",
       "\n",
       "    .dataframe thead th {\n",
       "        text-align: right;\n",
       "    }\n",
       "</style>\n",
       "<table border=\"1\" class=\"dataframe\">\n",
       "  <thead>\n",
       "    <tr style=\"text-align: right;\">\n",
       "      <th></th>\n",
       "      <th>id</th>\n",
       "      <th>title</th>\n",
       "      <th>Rating</th>\n",
       "      <th>maincateg</th>\n",
       "      <th>platform</th>\n",
       "      <th>price1</th>\n",
       "      <th>actprice1</th>\n",
       "      <th>Offer %</th>\n",
       "      <th>norating1</th>\n",
       "      <th>noreviews1</th>\n",
       "      <th>...</th>\n",
       "      <th>star_2f</th>\n",
       "      <th>star_1f</th>\n",
       "      <th>fulfilled1</th>\n",
       "      <th>Shoes</th>\n",
       "      <th>Sneakers</th>\n",
       "      <th>Sandal</th>\n",
       "      <th>Slippers</th>\n",
       "      <th>Flip Flops</th>\n",
       "      <th>Bellies</th>\n",
       "      <th>Crocs</th>\n",
       "    </tr>\n",
       "  </thead>\n",
       "  <tbody>\n",
       "    <tr>\n",
       "      <th>0</th>\n",
       "      <td>16695</td>\n",
       "      <td>Fashionable &amp; Comfortable Bellies For Women  (...</td>\n",
       "      <td>3.9</td>\n",
       "      <td>1</td>\n",
       "      <td>0</td>\n",
       "      <td>698</td>\n",
       "      <td>999</td>\n",
       "      <td>30.13%</td>\n",
       "      <td>38.0</td>\n",
       "      <td>7.0</td>\n",
       "      <td>...</td>\n",
       "      <td>9.0</td>\n",
       "      <td>3</td>\n",
       "      <td>0</td>\n",
       "      <td>0</td>\n",
       "      <td>0</td>\n",
       "      <td>0</td>\n",
       "      <td>0</td>\n",
       "      <td>0</td>\n",
       "      <td>1</td>\n",
       "      <td>0</td>\n",
       "    </tr>\n",
       "    <tr>\n",
       "      <th>1</th>\n",
       "      <td>5120</td>\n",
       "      <td>Combo Pack of 4 Casual Shoes Sneakers For Men ...</td>\n",
       "      <td>3.8</td>\n",
       "      <td>0</td>\n",
       "      <td>0</td>\n",
       "      <td>999</td>\n",
       "      <td>1999</td>\n",
       "      <td>50.03%</td>\n",
       "      <td>531.0</td>\n",
       "      <td>69.0</td>\n",
       "      <td>...</td>\n",
       "      <td>92.0</td>\n",
       "      <td>73</td>\n",
       "      <td>1</td>\n",
       "      <td>1</td>\n",
       "      <td>1</td>\n",
       "      <td>0</td>\n",
       "      <td>0</td>\n",
       "      <td>0</td>\n",
       "      <td>0</td>\n",
       "      <td>0</td>\n",
       "    </tr>\n",
       "    <tr>\n",
       "      <th>2</th>\n",
       "      <td>18391</td>\n",
       "      <td>Cilia Mode Leo Sneakers For Women  (White)</td>\n",
       "      <td>4.4</td>\n",
       "      <td>1</td>\n",
       "      <td>0</td>\n",
       "      <td>2749</td>\n",
       "      <td>4999</td>\n",
       "      <td>45.01%</td>\n",
       "      <td>17.0</td>\n",
       "      <td>4.0</td>\n",
       "      <td>...</td>\n",
       "      <td>3.0</td>\n",
       "      <td>0</td>\n",
       "      <td>1</td>\n",
       "      <td>0</td>\n",
       "      <td>1</td>\n",
       "      <td>0</td>\n",
       "      <td>0</td>\n",
       "      <td>0</td>\n",
       "      <td>0</td>\n",
       "      <td>0</td>\n",
       "    </tr>\n",
       "    <tr>\n",
       "      <th>3</th>\n",
       "      <td>495</td>\n",
       "      <td>Men Black Sports Sandal</td>\n",
       "      <td>4.2</td>\n",
       "      <td>0</td>\n",
       "      <td>0</td>\n",
       "      <td>518</td>\n",
       "      <td>724</td>\n",
       "      <td>15.85%</td>\n",
       "      <td>46413.0</td>\n",
       "      <td>6229.0</td>\n",
       "      <td>...</td>\n",
       "      <td>12416.0</td>\n",
       "      <td>4595</td>\n",
       "      <td>1</td>\n",
       "      <td>0</td>\n",
       "      <td>0</td>\n",
       "      <td>1</td>\n",
       "      <td>0</td>\n",
       "      <td>0</td>\n",
       "      <td>0</td>\n",
       "      <td>0</td>\n",
       "    </tr>\n",
       "    <tr>\n",
       "      <th>4</th>\n",
       "      <td>16408</td>\n",
       "      <td>Men Green Sports Sandal</td>\n",
       "      <td>3.9</td>\n",
       "      <td>0</td>\n",
       "      <td>0</td>\n",
       "      <td>1379</td>\n",
       "      <td>2299</td>\n",
       "      <td>40.02%</td>\n",
       "      <td>77.0</td>\n",
       "      <td>3.0</td>\n",
       "      <td>...</td>\n",
       "      <td>21.0</td>\n",
       "      <td>7</td>\n",
       "      <td>1</td>\n",
       "      <td>0</td>\n",
       "      <td>0</td>\n",
       "      <td>1</td>\n",
       "      <td>0</td>\n",
       "      <td>0</td>\n",
       "      <td>0</td>\n",
       "      <td>0</td>\n",
       "    </tr>\n",
       "  </tbody>\n",
       "</table>\n",
       "<p>5 rows × 23 columns</p>\n",
       "</div>"
      ],
      "text/plain": [
       "      id                                              title  Rating  \\\n",
       "0  16695  Fashionable & Comfortable Bellies For Women  (...     3.9   \n",
       "1   5120  Combo Pack of 4 Casual Shoes Sneakers For Men ...     3.8   \n",
       "2  18391         Cilia Mode Leo Sneakers For Women  (White)     4.4   \n",
       "3    495                            Men Black Sports Sandal     4.2   \n",
       "4  16408                            Men Green Sports Sandal     3.9   \n",
       "\n",
       "   maincateg  platform  price1  actprice1 Offer %  norating1  noreviews1  ...  \\\n",
       "0          1         0     698        999  30.13%       38.0         7.0  ...   \n",
       "1          0         0     999       1999  50.03%      531.0        69.0  ...   \n",
       "2          1         0    2749       4999  45.01%       17.0         4.0  ...   \n",
       "3          0         0     518        724  15.85%    46413.0      6229.0  ...   \n",
       "4          0         0    1379       2299  40.02%       77.0         3.0  ...   \n",
       "\n",
       "   star_2f  star_1f  fulfilled1  Shoes  Sneakers  Sandal  Slippers  \\\n",
       "0      9.0        3           0      0         0       0         0   \n",
       "1     92.0       73           1      1         1       0         0   \n",
       "2      3.0        0           1      0         1       0         0   \n",
       "3  12416.0     4595           1      0         0       1         0   \n",
       "4     21.0        7           1      0         0       1         0   \n",
       "\n",
       "   Flip Flops  Bellies  Crocs  \n",
       "0           0        1      0  \n",
       "1           0        0      0  \n",
       "2           0        0      0  \n",
       "3           0        0      0  \n",
       "4           0        0      0  \n",
       "\n",
       "[5 rows x 23 columns]"
      ]
     },
     "execution_count": 210,
     "metadata": {},
     "output_type": "execute_result"
    }
   ],
   "source": [
    "df['Slippers']=df['title'].apply(lambda element:1 if 'Slippers' in element else 0)\n",
    "df['Flip Flops']=df['title'].apply(lambda element:1 if 'Flip Flops' in element else 0)\n",
    "df['Bellies']=df['title'].apply(lambda element:1 if 'Bellies' in element else 0)\n",
    "df['Crocs']=df['title'].apply(lambda element:1 if 'Crocs' in element else 0)\n",
    "df.head()"
   ]
  },
  {
   "cell_type": "code",
   "execution_count": 213,
   "id": "f84f4e83",
   "metadata": {},
   "outputs": [
    {
     "data": {
      "text/html": [
       "<div>\n",
       "<style scoped>\n",
       "    .dataframe tbody tr th:only-of-type {\n",
       "        vertical-align: middle;\n",
       "    }\n",
       "\n",
       "    .dataframe tbody tr th {\n",
       "        vertical-align: top;\n",
       "    }\n",
       "\n",
       "    .dataframe thead th {\n",
       "        text-align: right;\n",
       "    }\n",
       "</style>\n",
       "<table border=\"1\" class=\"dataframe\">\n",
       "  <thead>\n",
       "    <tr style=\"text-align: right;\">\n",
       "      <th></th>\n",
       "      <th>id</th>\n",
       "      <th>title</th>\n",
       "      <th>Rating</th>\n",
       "      <th>maincateg</th>\n",
       "      <th>platform</th>\n",
       "      <th>price1</th>\n",
       "      <th>actprice1</th>\n",
       "      <th>Offer %</th>\n",
       "      <th>norating1</th>\n",
       "      <th>noreviews1</th>\n",
       "      <th>...</th>\n",
       "      <th>Sandal</th>\n",
       "      <th>Slippers</th>\n",
       "      <th>Flip Flops</th>\n",
       "      <th>Bellies</th>\n",
       "      <th>Crocs</th>\n",
       "      <th>Boots</th>\n",
       "      <th>Heels</th>\n",
       "      <th>Loafers</th>\n",
       "      <th>Slides</th>\n",
       "      <th>Mojaris</th>\n",
       "    </tr>\n",
       "  </thead>\n",
       "  <tbody>\n",
       "    <tr>\n",
       "      <th>0</th>\n",
       "      <td>16695</td>\n",
       "      <td>Fashionable &amp; Comfortable Bellies For Women  (...</td>\n",
       "      <td>3.9</td>\n",
       "      <td>1</td>\n",
       "      <td>0</td>\n",
       "      <td>698</td>\n",
       "      <td>999</td>\n",
       "      <td>30.13%</td>\n",
       "      <td>38.0</td>\n",
       "      <td>7.0</td>\n",
       "      <td>...</td>\n",
       "      <td>0</td>\n",
       "      <td>0</td>\n",
       "      <td>0</td>\n",
       "      <td>1</td>\n",
       "      <td>0</td>\n",
       "      <td>0</td>\n",
       "      <td>0</td>\n",
       "      <td>0</td>\n",
       "      <td>0</td>\n",
       "      <td>0</td>\n",
       "    </tr>\n",
       "    <tr>\n",
       "      <th>1</th>\n",
       "      <td>5120</td>\n",
       "      <td>Combo Pack of 4 Casual Shoes Sneakers For Men ...</td>\n",
       "      <td>3.8</td>\n",
       "      <td>0</td>\n",
       "      <td>0</td>\n",
       "      <td>999</td>\n",
       "      <td>1999</td>\n",
       "      <td>50.03%</td>\n",
       "      <td>531.0</td>\n",
       "      <td>69.0</td>\n",
       "      <td>...</td>\n",
       "      <td>0</td>\n",
       "      <td>0</td>\n",
       "      <td>0</td>\n",
       "      <td>0</td>\n",
       "      <td>0</td>\n",
       "      <td>0</td>\n",
       "      <td>0</td>\n",
       "      <td>0</td>\n",
       "      <td>0</td>\n",
       "      <td>0</td>\n",
       "    </tr>\n",
       "    <tr>\n",
       "      <th>2</th>\n",
       "      <td>18391</td>\n",
       "      <td>Cilia Mode Leo Sneakers For Women  (White)</td>\n",
       "      <td>4.4</td>\n",
       "      <td>1</td>\n",
       "      <td>0</td>\n",
       "      <td>2749</td>\n",
       "      <td>4999</td>\n",
       "      <td>45.01%</td>\n",
       "      <td>17.0</td>\n",
       "      <td>4.0</td>\n",
       "      <td>...</td>\n",
       "      <td>0</td>\n",
       "      <td>0</td>\n",
       "      <td>0</td>\n",
       "      <td>0</td>\n",
       "      <td>0</td>\n",
       "      <td>0</td>\n",
       "      <td>0</td>\n",
       "      <td>0</td>\n",
       "      <td>0</td>\n",
       "      <td>0</td>\n",
       "    </tr>\n",
       "    <tr>\n",
       "      <th>3</th>\n",
       "      <td>495</td>\n",
       "      <td>Men Black Sports Sandal</td>\n",
       "      <td>4.2</td>\n",
       "      <td>0</td>\n",
       "      <td>0</td>\n",
       "      <td>518</td>\n",
       "      <td>724</td>\n",
       "      <td>15.85%</td>\n",
       "      <td>46413.0</td>\n",
       "      <td>6229.0</td>\n",
       "      <td>...</td>\n",
       "      <td>1</td>\n",
       "      <td>0</td>\n",
       "      <td>0</td>\n",
       "      <td>0</td>\n",
       "      <td>0</td>\n",
       "      <td>0</td>\n",
       "      <td>0</td>\n",
       "      <td>0</td>\n",
       "      <td>0</td>\n",
       "      <td>0</td>\n",
       "    </tr>\n",
       "    <tr>\n",
       "      <th>4</th>\n",
       "      <td>16408</td>\n",
       "      <td>Men Green Sports Sandal</td>\n",
       "      <td>3.9</td>\n",
       "      <td>0</td>\n",
       "      <td>0</td>\n",
       "      <td>1379</td>\n",
       "      <td>2299</td>\n",
       "      <td>40.02%</td>\n",
       "      <td>77.0</td>\n",
       "      <td>3.0</td>\n",
       "      <td>...</td>\n",
       "      <td>1</td>\n",
       "      <td>0</td>\n",
       "      <td>0</td>\n",
       "      <td>0</td>\n",
       "      <td>0</td>\n",
       "      <td>0</td>\n",
       "      <td>0</td>\n",
       "      <td>0</td>\n",
       "      <td>0</td>\n",
       "      <td>0</td>\n",
       "    </tr>\n",
       "  </tbody>\n",
       "</table>\n",
       "<p>5 rows × 28 columns</p>\n",
       "</div>"
      ],
      "text/plain": [
       "      id                                              title  Rating  \\\n",
       "0  16695  Fashionable & Comfortable Bellies For Women  (...     3.9   \n",
       "1   5120  Combo Pack of 4 Casual Shoes Sneakers For Men ...     3.8   \n",
       "2  18391         Cilia Mode Leo Sneakers For Women  (White)     4.4   \n",
       "3    495                            Men Black Sports Sandal     4.2   \n",
       "4  16408                            Men Green Sports Sandal     3.9   \n",
       "\n",
       "   maincateg  platform  price1  actprice1 Offer %  norating1  noreviews1  ...  \\\n",
       "0          1         0     698        999  30.13%       38.0         7.0  ...   \n",
       "1          0         0     999       1999  50.03%      531.0        69.0  ...   \n",
       "2          1         0    2749       4999  45.01%       17.0         4.0  ...   \n",
       "3          0         0     518        724  15.85%    46413.0      6229.0  ...   \n",
       "4          0         0    1379       2299  40.02%       77.0         3.0  ...   \n",
       "\n",
       "   Sandal  Slippers  Flip Flops  Bellies  Crocs  Boots  Heels  Loafers  \\\n",
       "0       0         0           0        1      0      0      0        0   \n",
       "1       0         0           0        0      0      0      0        0   \n",
       "2       0         0           0        0      0      0      0        0   \n",
       "3       1         0           0        0      0      0      0        0   \n",
       "4       1         0           0        0      0      0      0        0   \n",
       "\n",
       "   Slides  Mojaris  \n",
       "0       0        0  \n",
       "1       0        0  \n",
       "2       0        0  \n",
       "3       0        0  \n",
       "4       0        0  \n",
       "\n",
       "[5 rows x 28 columns]"
      ]
     },
     "execution_count": 213,
     "metadata": {},
     "output_type": "execute_result"
    }
   ],
   "source": [
    "df['Boots']=df['title'].apply(lambda element:1 if 'Boots' in element else 0)\n",
    "df['Heels']=df['title'].apply(lambda element:1 if 'Heels' in element else 0)\n",
    "df['Loafers']=df['title'].apply(lambda element:1 if 'Loafers' in element else 0)\n",
    "df['Slides']=df['title'].apply(lambda element:1 if 'Slides' in element else 0)\n",
    "df['Mojaris']=df['title'].apply(lambda element:1 if 'Mojaris' in element else 0)\n",
    "#juttis=['Jutis','Juttis']\n",
    "#df['Jutis']=df['title'].apply(lambda element:1 if juttis in element else 0)\n",
    "df.head()"
   ]
  },
  {
   "cell_type": "code",
   "execution_count": 218,
   "id": "730596b2",
   "metadata": {},
   "outputs": [],
   "source": [
    "df['Jutis']=df['title'].apply(lambda element:1 if 'Jutis' in element else 0)\n",
    "#df['Jutis']=df['title'].apply(lambda element:1 if 'Juttis' in element else 0)\n"
   ]
  },
  {
   "cell_type": "code",
   "execution_count": 219,
   "id": "dc48996f",
   "metadata": {},
   "outputs": [
    {
     "data": {
      "text/plain": [
       "<AxesSubplot:xlabel='Jutis', ylabel='count'>"
      ]
     },
     "execution_count": 219,
     "metadata": {},
     "output_type": "execute_result"
    },
    {
     "data": {
      "image/png": "[encoded data removed]",
      "text/plain": [
       "<Figure size 432x288 with 1 Axes>"
      ]
     },
     "metadata": {
      "needs_background": "light"
     },
     "output_type": "display_data"
    }
   ],
   "source": [
    "sns.countplot(x=df['Jutis'])"
   ]
  },
  {
   "cell_type": "code",
   "execution_count": 220,
   "id": "c6004ce2",
   "metadata": {},
   "outputs": [
    {
     "data": {
      "text/plain": [
       "<AxesSubplot:xlabel='Juttis', ylabel='count'>"
      ]
     },
     "execution_count": 220,
     "metadata": {},
     "output_type": "execute_result"
    },
    {
     "data": {
      "image/png": "[encoded data removed]",
      "text/plain": [
       "<Figure size 432x288 with 1 Axes>"
      ]
     },
     "metadata": {
      "needs_background": "light"
     },
     "output_type": "display_data"
    }
   ],
   "source": [
    "df['Juttis']=df['title'].apply(lambda element:1 if 'Juttis' in element else 0)\n",
    "sns.countplot(x=df['Juttis'])"
   ]
  },
  {
   "cell_type": "code",
   "execution_count": 221,
   "id": "2d0de4d8",
   "metadata": {},
   "outputs": [
    {
     "data": {
      "text/html": [
       "<div>\n",
       "<style scoped>\n",
       "    .dataframe tbody tr th:only-of-type {\n",
       "        vertical-align: middle;\n",
       "    }\n",
       "\n",
       "    .dataframe tbody tr th {\n",
       "        vertical-align: top;\n",
       "    }\n",
       "\n",
       "    .dataframe thead th {\n",
       "        text-align: right;\n",
       "    }\n",
       "</style>\n",
       "<table border=\"1\" class=\"dataframe\">\n",
       "  <thead>\n",
       "    <tr style=\"text-align: right;\">\n",
       "      <th></th>\n",
       "      <th>id</th>\n",
       "      <th>title</th>\n",
       "      <th>Rating</th>\n",
       "      <th>maincateg</th>\n",
       "      <th>platform</th>\n",
       "      <th>price1</th>\n",
       "      <th>actprice1</th>\n",
       "      <th>Offer %</th>\n",
       "      <th>norating1</th>\n",
       "      <th>noreviews1</th>\n",
       "      <th>...</th>\n",
       "      <th>Flip Flops</th>\n",
       "      <th>Bellies</th>\n",
       "      <th>Crocs</th>\n",
       "      <th>Boots</th>\n",
       "      <th>Heels</th>\n",
       "      <th>Loafers</th>\n",
       "      <th>Slides</th>\n",
       "      <th>Mojaris</th>\n",
       "      <th>Jutis</th>\n",
       "      <th>Juttis</th>\n",
       "    </tr>\n",
       "  </thead>\n",
       "  <tbody>\n",
       "    <tr>\n",
       "      <th>0</th>\n",
       "      <td>16695</td>\n",
       "      <td>Fashionable &amp; Comfortable Bellies For Women  (...</td>\n",
       "      <td>3.9</td>\n",
       "      <td>1</td>\n",
       "      <td>0</td>\n",
       "      <td>698</td>\n",
       "      <td>999</td>\n",
       "      <td>30.13%</td>\n",
       "      <td>38.0</td>\n",
       "      <td>7.0</td>\n",
       "      <td>...</td>\n",
       "      <td>0</td>\n",
       "      <td>1</td>\n",
       "      <td>0</td>\n",
       "      <td>0</td>\n",
       "      <td>0</td>\n",
       "      <td>0</td>\n",
       "      <td>0</td>\n",
       "      <td>0</td>\n",
       "      <td>0</td>\n",
       "      <td>0</td>\n",
       "    </tr>\n",
       "    <tr>\n",
       "      <th>1</th>\n",
       "      <td>5120</td>\n",
       "      <td>Combo Pack of 4 Casual Shoes Sneakers For Men ...</td>\n",
       "      <td>3.8</td>\n",
       "      <td>0</td>\n",
       "      <td>0</td>\n",
       "      <td>999</td>\n",
       "      <td>1999</td>\n",
       "      <td>50.03%</td>\n",
       "      <td>531.0</td>\n",
       "      <td>69.0</td>\n",
       "      <td>...</td>\n",
       "      <td>0</td>\n",
       "      <td>0</td>\n",
       "      <td>0</td>\n",
       "      <td>0</td>\n",
       "      <td>0</td>\n",
       "      <td>0</td>\n",
       "      <td>0</td>\n",
       "      <td>0</td>\n",
       "      <td>0</td>\n",
       "      <td>0</td>\n",
       "    </tr>\n",
       "    <tr>\n",
       "      <th>2</th>\n",
       "      <td>18391</td>\n",
       "      <td>Cilia Mode Leo Sneakers For Women  (White)</td>\n",
       "      <td>4.4</td>\n",
       "      <td>1</td>\n",
       "      <td>0</td>\n",
       "      <td>2749</td>\n",
       "      <td>4999</td>\n",
       "      <td>45.01%</td>\n",
       "      <td>17.0</td>\n",
       "      <td>4.0</td>\n",
       "      <td>...</td>\n",
       "      <td>0</td>\n",
       "      <td>0</td>\n",
       "      <td>0</td>\n",
       "      <td>0</td>\n",
       "      <td>0</td>\n",
       "      <td>0</td>\n",
       "      <td>0</td>\n",
       "      <td>0</td>\n",
       "      <td>0</td>\n",
       "      <td>0</td>\n",
       "    </tr>\n",
       "    <tr>\n",
       "      <th>3</th>\n",
       "      <td>495</td>\n",
       "      <td>Men Black Sports Sandal</td>\n",
       "      <td>4.2</td>\n",
       "      <td>0</td>\n",
       "      <td>0</td>\n",
       "      <td>518</td>\n",
       "      <td>724</td>\n",
       "      <td>15.85%</td>\n",
       "      <td>46413.0</td>\n",
       "      <td>6229.0</td>\n",
       "      <td>...</td>\n",
       "      <td>0</td>\n",
       "      <td>0</td>\n",
       "      <td>0</td>\n",
       "      <td>0</td>\n",
       "      <td>0</td>\n",
       "      <td>0</td>\n",
       "      <td>0</td>\n",
       "      <td>0</td>\n",
       "      <td>0</td>\n",
       "      <td>0</td>\n",
       "    </tr>\n",
       "    <tr>\n",
       "      <th>4</th>\n",
       "      <td>16408</td>\n",
       "      <td>Men Green Sports Sandal</td>\n",
       "      <td>3.9</td>\n",
       "      <td>0</td>\n",
       "      <td>0</td>\n",
       "      <td>1379</td>\n",
       "      <td>2299</td>\n",
       "      <td>40.02%</td>\n",
       "      <td>77.0</td>\n",
       "      <td>3.0</td>\n",
       "      <td>...</td>\n",
       "      <td>0</td>\n",
       "      <td>0</td>\n",
       "      <td>0</td>\n",
       "      <td>0</td>\n",
       "      <td>0</td>\n",
       "      <td>0</td>\n",
       "      <td>0</td>\n",
       "      <td>0</td>\n",
       "      <td>0</td>\n",
       "      <td>0</td>\n",
       "    </tr>\n",
       "  </tbody>\n",
       "</table>\n",
       "<p>5 rows × 30 columns</p>\n",
       "</div>"
      ],
      "text/plain": [
       "      id                                              title  Rating  \\\n",
       "0  16695  Fashionable & Comfortable Bellies For Women  (...     3.9   \n",
       "1   5120  Combo Pack of 4 Casual Shoes Sneakers For Men ...     3.8   \n",
       "2  18391         Cilia Mode Leo Sneakers For Women  (White)     4.4   \n",
       "3    495                            Men Black Sports Sandal     4.2   \n",
       "4  16408                            Men Green Sports Sandal     3.9   \n",
       "\n",
       "   maincateg  platform  price1  actprice1 Offer %  norating1  noreviews1  ...  \\\n",
       "0          1         0     698        999  30.13%       38.0         7.0  ...   \n",
       "1          0         0     999       1999  50.03%      531.0        69.0  ...   \n",
       "2          1         0    2749       4999  45.01%       17.0         4.0  ...   \n",
       "3          0         0     518        724  15.85%    46413.0      6229.0  ...   \n",
       "4          0         0    1379       2299  40.02%       77.0         3.0  ...   \n",
       "\n",
       "   Flip Flops  Bellies  Crocs  Boots  Heels  Loafers  Slides  Mojaris  Jutis  \\\n",
       "0           0        1      0      0      0        0       0        0      0   \n",
       "1           0        0      0      0      0        0       0        0      0   \n",
       "2           0        0      0      0      0        0       0        0      0   \n",
       "3           0        0      0      0      0        0       0        0      0   \n",
       "4           0        0      0      0      0        0       0        0      0   \n",
       "\n",
       "   Juttis  \n",
       "0       0  \n",
       "1       0  \n",
       "2       0  \n",
       "3       0  \n",
       "4       0  \n",
       "\n",
       "[5 rows x 30 columns]"
      ]
     },
     "execution_count": 221,
     "metadata": {},
     "output_type": "execute_result"
    }
   ],
   "source": [
    "df.head()"
   ]
  },
  {
   "cell_type": "code",
   "execution_count": 222,
   "id": "80be40e5",
   "metadata": {},
   "outputs": [],
   "source": [
    "df=df.drop(['Juttis'],axis=1)"
   ]
  },
  {
   "cell_type": "code",
   "execution_count": 223,
   "id": "f2bc7424",
   "metadata": {},
   "outputs": [
    {
     "data": {
      "text/html": [
       "<div>\n",
       "<style scoped>\n",
       "    .dataframe tbody tr th:only-of-type {\n",
       "        vertical-align: middle;\n",
       "    }\n",
       "\n",
       "    .dataframe tbody tr th {\n",
       "        vertical-align: top;\n",
       "    }\n",
       "\n",
       "    .dataframe thead th {\n",
       "        text-align: right;\n",
       "    }\n",
       "</style>\n",
       "<table border=\"1\" class=\"dataframe\">\n",
       "  <thead>\n",
       "    <tr style=\"text-align: right;\">\n",
       "      <th></th>\n",
       "      <th>id</th>\n",
       "      <th>title</th>\n",
       "      <th>Rating</th>\n",
       "      <th>maincateg</th>\n",
       "      <th>platform</th>\n",
       "      <th>price1</th>\n",
       "      <th>actprice1</th>\n",
       "      <th>Offer %</th>\n",
       "      <th>norating1</th>\n",
       "      <th>noreviews1</th>\n",
       "      <th>...</th>\n",
       "      <th>Slippers</th>\n",
       "      <th>Flip Flops</th>\n",
       "      <th>Bellies</th>\n",
       "      <th>Crocs</th>\n",
       "      <th>Boots</th>\n",
       "      <th>Heels</th>\n",
       "      <th>Loafers</th>\n",
       "      <th>Slides</th>\n",
       "      <th>Mojaris</th>\n",
       "      <th>Jutis</th>\n",
       "    </tr>\n",
       "  </thead>\n",
       "  <tbody>\n",
       "    <tr>\n",
       "      <th>0</th>\n",
       "      <td>16695</td>\n",
       "      <td>Fashionable &amp; Comfortable Bellies For Women  (...</td>\n",
       "      <td>3.9</td>\n",
       "      <td>1</td>\n",
       "      <td>0</td>\n",
       "      <td>698</td>\n",
       "      <td>999</td>\n",
       "      <td>30.13%</td>\n",
       "      <td>38.0</td>\n",
       "      <td>7.0</td>\n",
       "      <td>...</td>\n",
       "      <td>0</td>\n",
       "      <td>0</td>\n",
       "      <td>1</td>\n",
       "      <td>0</td>\n",
       "      <td>0</td>\n",
       "      <td>0</td>\n",
       "      <td>0</td>\n",
       "      <td>0</td>\n",
       "      <td>0</td>\n",
       "      <td>0</td>\n",
       "    </tr>\n",
       "    <tr>\n",
       "      <th>1</th>\n",
       "      <td>5120</td>\n",
       "      <td>Combo Pack of 4 Casual Shoes Sneakers For Men ...</td>\n",
       "      <td>3.8</td>\n",
       "      <td>0</td>\n",
       "      <td>0</td>\n",
       "      <td>999</td>\n",
       "      <td>1999</td>\n",
       "      <td>50.03%</td>\n",
       "      <td>531.0</td>\n",
       "      <td>69.0</td>\n",
       "      <td>...</td>\n",
       "      <td>0</td>\n",
       "      <td>0</td>\n",
       "      <td>0</td>\n",
       "      <td>0</td>\n",
       "      <td>0</td>\n",
       "      <td>0</td>\n",
       "      <td>0</td>\n",
       "      <td>0</td>\n",
       "      <td>0</td>\n",
       "      <td>0</td>\n",
       "    </tr>\n",
       "    <tr>\n",
       "      <th>2</th>\n",
       "      <td>18391</td>\n",
       "      <td>Cilia Mode Leo Sneakers For Women  (White)</td>\n",
       "      <td>4.4</td>\n",
       "      <td>1</td>\n",
       "      <td>0</td>\n",
       "      <td>2749</td>\n",
       "      <td>4999</td>\n",
       "      <td>45.01%</td>\n",
       "      <td>17.0</td>\n",
       "      <td>4.0</td>\n",
       "      <td>...</td>\n",
       "      <td>0</td>\n",
       "      <td>0</td>\n",
       "      <td>0</td>\n",
       "      <td>0</td>\n",
       "      <td>0</td>\n",
       "      <td>0</td>\n",
       "      <td>0</td>\n",
       "      <td>0</td>\n",
       "      <td>0</td>\n",
       "      <td>0</td>\n",
       "    </tr>\n",
       "    <tr>\n",
       "      <th>3</th>\n",
       "      <td>495</td>\n",
       "      <td>Men Black Sports Sandal</td>\n",
       "      <td>4.2</td>\n",
       "      <td>0</td>\n",
       "      <td>0</td>\n",
       "      <td>518</td>\n",
       "      <td>724</td>\n",
       "      <td>15.85%</td>\n",
       "      <td>46413.0</td>\n",
       "      <td>6229.0</td>\n",
       "      <td>...</td>\n",
       "      <td>0</td>\n",
       "      <td>0</td>\n",
       "      <td>0</td>\n",
       "      <td>0</td>\n",
       "      <td>0</td>\n",
       "      <td>0</td>\n",
       "      <td>0</td>\n",
       "      <td>0</td>\n",
       "      <td>0</td>\n",
       "      <td>0</td>\n",
       "    </tr>\n",
       "    <tr>\n",
       "      <th>4</th>\n",
       "      <td>16408</td>\n",
       "      <td>Men Green Sports Sandal</td>\n",
       "      <td>3.9</td>\n",
       "      <td>0</td>\n",
       "      <td>0</td>\n",
       "      <td>1379</td>\n",
       "      <td>2299</td>\n",
       "      <td>40.02%</td>\n",
       "      <td>77.0</td>\n",
       "      <td>3.0</td>\n",
       "      <td>...</td>\n",
       "      <td>0</td>\n",
       "      <td>0</td>\n",
       "      <td>0</td>\n",
       "      <td>0</td>\n",
       "      <td>0</td>\n",
       "      <td>0</td>\n",
       "      <td>0</td>\n",
       "      <td>0</td>\n",
       "      <td>0</td>\n",
       "      <td>0</td>\n",
       "    </tr>\n",
       "  </tbody>\n",
       "</table>\n",
       "<p>5 rows × 29 columns</p>\n",
       "</div>"
      ],
      "text/plain": [
       "      id                                              title  Rating  \\\n",
       "0  16695  Fashionable & Comfortable Bellies For Women  (...     3.9   \n",
       "1   5120  Combo Pack of 4 Casual Shoes Sneakers For Men ...     3.8   \n",
       "2  18391         Cilia Mode Leo Sneakers For Women  (White)     4.4   \n",
       "3    495                            Men Black Sports Sandal     4.2   \n",
       "4  16408                            Men Green Sports Sandal     3.9   \n",
       "\n",
       "   maincateg  platform  price1  actprice1 Offer %  norating1  noreviews1  ...  \\\n",
       "0          1         0     698        999  30.13%       38.0         7.0  ...   \n",
       "1          0         0     999       1999  50.03%      531.0        69.0  ...   \n",
       "2          1         0    2749       4999  45.01%       17.0         4.0  ...   \n",
       "3          0         0     518        724  15.85%    46413.0      6229.0  ...   \n",
       "4          0         0    1379       2299  40.02%       77.0         3.0  ...   \n",
       "\n",
       "   Slippers  Flip Flops  Bellies  Crocs  Boots  Heels  Loafers  Slides  \\\n",
       "0         0           0        1      0      0      0        0       0   \n",
       "1         0           0        0      0      0      0        0       0   \n",
       "2         0           0        0      0      0      0        0       0   \n",
       "3         0           0        0      0      0      0        0       0   \n",
       "4         0           0        0      0      0      0        0       0   \n",
       "\n",
       "   Mojaris  Jutis  \n",
       "0        0      0  \n",
       "1        0      0  \n",
       "2        0      0  \n",
       "3        0      0  \n",
       "4        0      0  \n",
       "\n",
       "[5 rows x 29 columns]"
      ]
     },
     "execution_count": 223,
     "metadata": {},
     "output_type": "execute_result"
    }
   ],
   "source": [
    "df.head()"
   ]
  },
  {
   "cell_type": "code",
   "execution_count": 224,
   "id": "147511ee",
   "metadata": {},
   "outputs": [
    {
     "data": {
      "text/html": [
       "<div>\n",
       "<style scoped>\n",
       "    .dataframe tbody tr th:only-of-type {\n",
       "        vertical-align: middle;\n",
       "    }\n",
       "\n",
       "    .dataframe tbody tr th {\n",
       "        vertical-align: top;\n",
       "    }\n",
       "\n",
       "    .dataframe thead th {\n",
       "        text-align: right;\n",
       "    }\n",
       "</style>\n",
       "<table border=\"1\" class=\"dataframe\">\n",
       "  <thead>\n",
       "    <tr style=\"text-align: right;\">\n",
       "      <th></th>\n",
       "      <th>id</th>\n",
       "      <th>Rating</th>\n",
       "      <th>maincateg</th>\n",
       "      <th>platform</th>\n",
       "      <th>actprice1</th>\n",
       "      <th>norating1</th>\n",
       "      <th>noreviews1</th>\n",
       "      <th>star_5f</th>\n",
       "      <th>star_4f</th>\n",
       "      <th>star_3f</th>\n",
       "      <th>...</th>\n",
       "      <th>Slippers</th>\n",
       "      <th>Flip Flops</th>\n",
       "      <th>Bellies</th>\n",
       "      <th>Crocs</th>\n",
       "      <th>Boots</th>\n",
       "      <th>Heels</th>\n",
       "      <th>Loafers</th>\n",
       "      <th>Slides</th>\n",
       "      <th>Mojaris</th>\n",
       "      <th>Jutis</th>\n",
       "    </tr>\n",
       "  </thead>\n",
       "  <tbody>\n",
       "    <tr>\n",
       "      <th>0</th>\n",
       "      <td>16695</td>\n",
       "      <td>3.9</td>\n",
       "      <td>1</td>\n",
       "      <td>0</td>\n",
       "      <td>999</td>\n",
       "      <td>38.0</td>\n",
       "      <td>7.0</td>\n",
       "      <td>17.0</td>\n",
       "      <td>9.0</td>\n",
       "      <td>9.0</td>\n",
       "      <td>...</td>\n",
       "      <td>0</td>\n",
       "      <td>0</td>\n",
       "      <td>1</td>\n",
       "      <td>0</td>\n",
       "      <td>0</td>\n",
       "      <td>0</td>\n",
       "      <td>0</td>\n",
       "      <td>0</td>\n",
       "      <td>0</td>\n",
       "      <td>0</td>\n",
       "    </tr>\n",
       "    <tr>\n",
       "      <th>1</th>\n",
       "      <td>5120</td>\n",
       "      <td>3.8</td>\n",
       "      <td>0</td>\n",
       "      <td>0</td>\n",
       "      <td>1999</td>\n",
       "      <td>531.0</td>\n",
       "      <td>69.0</td>\n",
       "      <td>264.0</td>\n",
       "      <td>92.0</td>\n",
       "      <td>92.0</td>\n",
       "      <td>...</td>\n",
       "      <td>0</td>\n",
       "      <td>0</td>\n",
       "      <td>0</td>\n",
       "      <td>0</td>\n",
       "      <td>0</td>\n",
       "      <td>0</td>\n",
       "      <td>0</td>\n",
       "      <td>0</td>\n",
       "      <td>0</td>\n",
       "      <td>0</td>\n",
       "    </tr>\n",
       "    <tr>\n",
       "      <th>2</th>\n",
       "      <td>18391</td>\n",
       "      <td>4.4</td>\n",
       "      <td>1</td>\n",
       "      <td>0</td>\n",
       "      <td>4999</td>\n",
       "      <td>17.0</td>\n",
       "      <td>4.0</td>\n",
       "      <td>11.0</td>\n",
       "      <td>3.0</td>\n",
       "      <td>3.0</td>\n",
       "      <td>...</td>\n",
       "      <td>0</td>\n",
       "      <td>0</td>\n",
       "      <td>0</td>\n",
       "      <td>0</td>\n",
       "      <td>0</td>\n",
       "      <td>0</td>\n",
       "      <td>0</td>\n",
       "      <td>0</td>\n",
       "      <td>0</td>\n",
       "      <td>0</td>\n",
       "    </tr>\n",
       "    <tr>\n",
       "      <th>3</th>\n",
       "      <td>495</td>\n",
       "      <td>4.2</td>\n",
       "      <td>0</td>\n",
       "      <td>0</td>\n",
       "      <td>724</td>\n",
       "      <td>46413.0</td>\n",
       "      <td>6229.0</td>\n",
       "      <td>1045.0</td>\n",
       "      <td>12416.0</td>\n",
       "      <td>12416.0</td>\n",
       "      <td>...</td>\n",
       "      <td>0</td>\n",
       "      <td>0</td>\n",
       "      <td>0</td>\n",
       "      <td>0</td>\n",
       "      <td>0</td>\n",
       "      <td>0</td>\n",
       "      <td>0</td>\n",
       "      <td>0</td>\n",
       "      <td>0</td>\n",
       "      <td>0</td>\n",
       "    </tr>\n",
       "    <tr>\n",
       "      <th>4</th>\n",
       "      <td>16408</td>\n",
       "      <td>3.9</td>\n",
       "      <td>0</td>\n",
       "      <td>0</td>\n",
       "      <td>2299</td>\n",
       "      <td>77.0</td>\n",
       "      <td>3.0</td>\n",
       "      <td>35.0</td>\n",
       "      <td>21.0</td>\n",
       "      <td>21.0</td>\n",
       "      <td>...</td>\n",
       "      <td>0</td>\n",
       "      <td>0</td>\n",
       "      <td>0</td>\n",
       "      <td>0</td>\n",
       "      <td>0</td>\n",
       "      <td>0</td>\n",
       "      <td>0</td>\n",
       "      <td>0</td>\n",
       "      <td>0</td>\n",
       "      <td>0</td>\n",
       "    </tr>\n",
       "  </tbody>\n",
       "</table>\n",
       "<p>5 rows × 26 columns</p>\n",
       "</div>"
      ],
      "text/plain": [
       "      id  Rating  maincateg  platform  actprice1  norating1  noreviews1  \\\n",
       "0  16695     3.9          1         0        999       38.0         7.0   \n",
       "1   5120     3.8          0         0       1999      531.0        69.0   \n",
       "2  18391     4.4          1         0       4999       17.0         4.0   \n",
       "3    495     4.2          0         0        724    46413.0      6229.0   \n",
       "4  16408     3.9          0         0       2299       77.0         3.0   \n",
       "\n",
       "   star_5f  star_4f  star_3f  ...  Slippers  Flip Flops  Bellies  Crocs  \\\n",
       "0     17.0      9.0      9.0  ...         0           0        1      0   \n",
       "1    264.0     92.0     92.0  ...         0           0        0      0   \n",
       "2     11.0      3.0      3.0  ...         0           0        0      0   \n",
       "3   1045.0  12416.0  12416.0  ...         0           0        0      0   \n",
       "4     35.0     21.0     21.0  ...         0           0        0      0   \n",
       "\n",
       "   Boots  Heels  Loafers  Slides  Mojaris  Jutis  \n",
       "0      0      0        0       0        0      0  \n",
       "1      0      0        0       0        0      0  \n",
       "2      0      0        0       0        0      0  \n",
       "3      0      0        0       0        0      0  \n",
       "4      0      0        0       0        0      0  \n",
       "\n",
       "[5 rows x 26 columns]"
      ]
     },
     "execution_count": 224,
     "metadata": {},
     "output_type": "execute_result"
    }
   ],
   "source": [
    "X=df.drop(['price1','title','Offer %'],axis=1)\n",
    "X.head(5)\n",
    "#X['Offer %'] = X['Offer %'].str.rstrip(\"%\").astype(float)/10"
   ]
  },
  {
   "cell_type": "code",
   "execution_count": 225,
   "id": "3274aab2",
   "metadata": {},
   "outputs": [
    {
     "data": {
      "text/plain": [
       "0     698\n",
       "1     999\n",
       "2    2749\n",
       "3     518\n",
       "4    1379\n",
       "Name: price1, dtype: int64"
      ]
     },
     "execution_count": 225,
     "metadata": {},
     "output_type": "execute_result"
    }
   ],
   "source": [
    "y=df['price1']\n",
    "y.head()"
   ]
  },
  {
   "cell_type": "code",
   "execution_count": 226,
   "id": "24f505ac",
   "metadata": {},
   "outputs": [
    {
     "name": "stdout",
     "output_type": "stream",
     "text": [
      "(15730, 26)\n"
     ]
    }
   ],
   "source": [
    "print(X.shape)"
   ]
  },
  {
   "cell_type": "markdown",
   "id": "b70506df",
   "metadata": {},
   "source": [
    "## Splitting the data into training and validation"
   ]
  },
  {
   "cell_type": "code",
   "execution_count": 227,
   "id": "e0600709",
   "metadata": {},
   "outputs": [],
   "source": [
    "from sklearn.model_selection import train_test_split\n",
    "X_train, X_val, y_train, y_val = train_test_split(X, y, test_size=0.3, random_state=101)"
   ]
  },
  {
   "cell_type": "code",
   "execution_count": 228,
   "id": "a2b38575",
   "metadata": {},
   "outputs": [
    {
     "name": "stdout",
     "output_type": "stream",
     "text": [
      "(11011, 26)\n",
      "(4719, 26)\n"
     ]
    }
   ],
   "source": [
    "print(X_train.shape)\n",
    "print(X_val.shape)"
   ]
  },
  {
   "cell_type": "markdown",
   "id": "c08b55f0",
   "metadata": {},
   "source": [
    "## FEATURE SCALING"
   ]
  },
  {
   "cell_type": "code",
   "execution_count": 229,
   "id": "0119df0b",
   "metadata": {},
   "outputs": [],
   "source": [
    "from sklearn.preprocessing import StandardScaler\n",
    "scaler=StandardScaler()\n",
    "X_train=scaler.fit_transform(X_train)\n",
    "X_val=scaler.transform(X_val)"
   ]
  },
  {
   "cell_type": "markdown",
   "id": "4fddbfdb",
   "metadata": {},
   "source": [
    "\n",
    "### NOW AFTER ALL DATA CLEANING , DATA PREPROCESSING AND FEATURE SCALING WE HAVE OUR DATASET READY FOR TRAINING THE MODEL.\n"
   ]
  },
  {
   "cell_type": "raw",
   "id": "3e42cef5",
   "metadata": {},
   "source": [
    "I am going to train my model based on following algorithms.\n",
    "1.Linear Regression\n",
    "2.Polynomial Regression\n",
    "3.Lasso Regression\n",
    "4.Ridge Regression\n",
    "5.KNN\n",
    "6.SVM\n",
    "7.Decision Tree\n",
    "8.Random Forest\n",
    "9.Boosting Methods\n",
    "10.ANN\n",
    "\n",
    "\n",
    "\n",
    "\n"
   ]
  },
  {
   "cell_type": "code",
   "execution_count": 230,
   "id": "f41eb62b",
   "metadata": {},
   "outputs": [],
   "source": [
    "from sklearn.metrics import mean_absolute_error,mean_squared_error,r2_score"
   ]
  },
  {
   "cell_type": "code",
   "execution_count": 231,
   "id": "471bd762",
   "metadata": {},
   "outputs": [],
   "source": [
    "\n",
    "def report_model(model):\n",
    "    model.fit(X_train,y_train)\n",
    "    pred=model.predict(X_val)\n",
    "    r2sc = r2_score(y_val,pred)\n",
    "    MAE=mean_absolute_error(pred,y_val)\n",
    "    RMSE=np.sqrt(mean_squared_error(pred,y_val))\n",
    "    mean_price=df['price1'].mean()\n",
    "    mae_by_mean=(MAE/mean_price)*100\n",
    "    rmse_by_mean=(RMSE/mean_price)*100\n",
    "    print('R2_SCORE :',r2sc)\n",
    "    print('The MAE of',model,'model is',MAE )\n",
    "    print('The RMSE of',model,'model is',RMSE )\n",
    "    print('The MAE as percentage of mean price is :' ,mae_by_mean,'%')\n",
    "    print('The RMSE as percentage of mean price is :' ,rmse_by_mean,'%')\n",
    "    print(pred)"
   ]
  },
  {
   "cell_type": "code",
   "execution_count": 232,
   "id": "4dd06611",
   "metadata": {},
   "outputs": [
    {
     "name": "stdout",
     "output_type": "stream",
     "text": [
      "R2_SCORE : 0.781483545903771\n",
      "The MAE of LinearRegression() model is 183.33027905499952\n",
      "The RMSE of LinearRegression() model is 294.9482989621653\n",
      "The MAE as percentage of mean price is : 26.64410516755939 %\n",
      "The RMSE as percentage of mean price is : 42.865987751990886 %\n",
      "[423.77987507 515.97461581 168.41672806 ... 278.89118657 340.95730538\n",
      " 435.37628439]\n"
     ]
    }
   ],
   "source": [
    "from sklearn.linear_model import LinearRegression\n",
    "LR_model=LinearRegression()\n",
    "report_model(LR_model)"
   ]
  },
  {
   "cell_type": "code",
   "execution_count": 233,
   "id": "4400a939",
   "metadata": {},
   "outputs": [
    {
     "data": {
      "text/plain": [
       "688.0706929434202"
      ]
     },
     "execution_count": 233,
     "metadata": {},
     "output_type": "execute_result"
    }
   ],
   "source": [
    "mean_price=df['price1'].mean()\n",
    "mean_price"
   ]
  },
  {
   "cell_type": "markdown",
   "id": "f9747235",
   "metadata": {},
   "source": [
    "## DATA CLEANING & PREPROCESSING FOR TEST DATA"
   ]
  },
  {
   "cell_type": "code",
   "execution_count": 234,
   "id": "e0dd5b1c",
   "metadata": {},
   "outputs": [
    {
     "data": {
      "text/plain": [
       "id            0\n",
       "title         0\n",
       "Rating        0\n",
       "maincateg     0\n",
       "platform      0\n",
       "actprice1     0\n",
       "norating1     0\n",
       "noreviews1    0\n",
       "star_5f       0\n",
       "star_4f       0\n",
       "star_3f       0\n",
       "star_2f       0\n",
       "star_1f       0\n",
       "fulfilled1    0\n",
       "dtype: int64"
      ]
     },
     "execution_count": 234,
     "metadata": {},
     "output_type": "execute_result"
    }
   ],
   "source": [
    "test_df.isnull().sum()"
   ]
  },
  {
   "cell_type": "code",
   "execution_count": 235,
   "id": "997a9bca",
   "metadata": {},
   "outputs": [
    {
     "name": "stdout",
     "output_type": "stream",
     "text": [
      "0\n",
      "0\n"
     ]
    }
   ],
   "source": [
    "print(test_df[test_df['title'].str.contains('Women')]['maincateg'].isna().sum())\n",
    "print(test_df[test_df['title'].str.contains('Men')]['maincateg'].isna().sum())"
   ]
  },
  {
   "cell_type": "code",
   "execution_count": 236,
   "id": "ec24ca42",
   "metadata": {},
   "outputs": [
    {
     "name": "stdout",
     "output_type": "stream",
     "text": [
      "0\n"
     ]
    }
   ],
   "source": [
    "test_df['maincateg'] = test_df[test_df['title'].str.contains('Women')]['maincateg'].fillna('Women')\n",
    "test_df['maincateg'] = test_df['maincateg'].fillna('Men')\n",
    "print(test_df['maincateg'].isna().sum())"
   ]
  },
  {
   "cell_type": "code",
   "execution_count": 237,
   "id": "04638cc8",
   "metadata": {},
   "outputs": [
    {
     "name": "stdout",
     "output_type": "stream",
     "text": [
      "id            0\n",
      "title         0\n",
      "Rating        0\n",
      "maincateg     0\n",
      "platform      0\n",
      "actprice1     0\n",
      "norating1     0\n",
      "noreviews1    0\n",
      "star_5f       0\n",
      "star_4f       0\n",
      "star_3f       0\n",
      "star_2f       0\n",
      "star_1f       0\n",
      "fulfilled1    0\n",
      "dtype: int64\n"
     ]
    }
   ],
   "source": [
    "\n",
    "test_df['Rating']=test_df['Rating'].fillna(test_df.groupby('maincateg')['Rating'].transform('mean'))\n",
    "test_df['star_5f']=test_df['star_5f'].fillna(test_df.groupby('maincateg')['star_5f'].transform('mean'))\n",
    "test_df['star_1f']=test_df['star_1f'].fillna(test_df.groupby('maincateg')['star_1f'].transform('mean'))\n",
    "print(test_df.isnull().sum())"
   ]
  },
  {
   "cell_type": "code",
   "execution_count": 238,
   "id": "5cd2b87e",
   "metadata": {},
   "outputs": [
    {
     "data": {
      "text/plain": [
       "(5244, 14)"
      ]
     },
     "execution_count": 238,
     "metadata": {},
     "output_type": "execute_result"
    }
   ],
   "source": [
    "test_df.shape"
   ]
  },
  {
   "cell_type": "code",
   "execution_count": 250,
   "id": "2fbacd5c",
   "metadata": {},
   "outputs": [
    {
     "data": {
      "text/html": [
       "<div>\n",
       "<style scoped>\n",
       "    .dataframe tbody tr th:only-of-type {\n",
       "        vertical-align: middle;\n",
       "    }\n",
       "\n",
       "    .dataframe tbody tr th {\n",
       "        vertical-align: top;\n",
       "    }\n",
       "\n",
       "    .dataframe thead th {\n",
       "        text-align: right;\n",
       "    }\n",
       "</style>\n",
       "<table border=\"1\" class=\"dataframe\">\n",
       "  <thead>\n",
       "    <tr style=\"text-align: right;\">\n",
       "      <th></th>\n",
       "      <th>id</th>\n",
       "      <th>title</th>\n",
       "      <th>Rating</th>\n",
       "      <th>maincateg</th>\n",
       "      <th>platform</th>\n",
       "      <th>actprice1</th>\n",
       "      <th>norating1</th>\n",
       "      <th>noreviews1</th>\n",
       "      <th>star_5f</th>\n",
       "      <th>star_4f</th>\n",
       "      <th>...</th>\n",
       "      <th>Slippers</th>\n",
       "      <th>Flip Flops</th>\n",
       "      <th>Bellies</th>\n",
       "      <th>Crocs</th>\n",
       "      <th>Boots</th>\n",
       "      <th>Heels</th>\n",
       "      <th>Loafers</th>\n",
       "      <th>Slides</th>\n",
       "      <th>Mojaris</th>\n",
       "      <th>Jutis</th>\n",
       "    </tr>\n",
       "  </thead>\n",
       "  <tbody>\n",
       "    <tr>\n",
       "      <th>0</th>\n",
       "      <td>2242</td>\n",
       "      <td>Casuals For Men  (Blue)</td>\n",
       "      <td>3.8</td>\n",
       "      <td>Men</td>\n",
       "      <td>Flipkart</td>\n",
       "      <td>999</td>\n",
       "      <td>27928</td>\n",
       "      <td>3543</td>\n",
       "      <td>14238.0</td>\n",
       "      <td>4295</td>\n",
       "      <td>...</td>\n",
       "      <td>0</td>\n",
       "      <td>0</td>\n",
       "      <td>0</td>\n",
       "      <td>0</td>\n",
       "      <td>0</td>\n",
       "      <td>0</td>\n",
       "      <td>0</td>\n",
       "      <td>0</td>\n",
       "      <td>0</td>\n",
       "      <td>0</td>\n",
       "    </tr>\n",
       "    <tr>\n",
       "      <th>1</th>\n",
       "      <td>20532</td>\n",
       "      <td>Women Black Flats Sandal</td>\n",
       "      <td>3.9</td>\n",
       "      <td>Women</td>\n",
       "      <td>Flipkart</td>\n",
       "      <td>499</td>\n",
       "      <td>3015</td>\n",
       "      <td>404</td>\n",
       "      <td>1458.0</td>\n",
       "      <td>657</td>\n",
       "      <td>...</td>\n",
       "      <td>0</td>\n",
       "      <td>0</td>\n",
       "      <td>0</td>\n",
       "      <td>0</td>\n",
       "      <td>0</td>\n",
       "      <td>0</td>\n",
       "      <td>0</td>\n",
       "      <td>0</td>\n",
       "      <td>0</td>\n",
       "      <td>0</td>\n",
       "    </tr>\n",
       "    <tr>\n",
       "      <th>2</th>\n",
       "      <td>10648</td>\n",
       "      <td>Women Gold Wedges Sandal</td>\n",
       "      <td>3.9</td>\n",
       "      <td>Women</td>\n",
       "      <td>Flipkart</td>\n",
       "      <td>999</td>\n",
       "      <td>449</td>\n",
       "      <td>52</td>\n",
       "      <td>229.0</td>\n",
       "      <td>70</td>\n",
       "      <td>...</td>\n",
       "      <td>0</td>\n",
       "      <td>0</td>\n",
       "      <td>0</td>\n",
       "      <td>0</td>\n",
       "      <td>0</td>\n",
       "      <td>0</td>\n",
       "      <td>0</td>\n",
       "      <td>0</td>\n",
       "      <td>0</td>\n",
       "      <td>0</td>\n",
       "    </tr>\n",
       "    <tr>\n",
       "      <th>3</th>\n",
       "      <td>20677</td>\n",
       "      <td>Men's Height Increasing High Heel Formal Party...</td>\n",
       "      <td>3.9</td>\n",
       "      <td>Men</td>\n",
       "      <td>Flipkart</td>\n",
       "      <td>2999</td>\n",
       "      <td>290</td>\n",
       "      <td>40</td>\n",
       "      <td>141.0</td>\n",
       "      <td>51</td>\n",
       "      <td>...</td>\n",
       "      <td>0</td>\n",
       "      <td>0</td>\n",
       "      <td>0</td>\n",
       "      <td>0</td>\n",
       "      <td>1</td>\n",
       "      <td>0</td>\n",
       "      <td>0</td>\n",
       "      <td>0</td>\n",
       "      <td>0</td>\n",
       "      <td>0</td>\n",
       "    </tr>\n",
       "    <tr>\n",
       "      <th>4</th>\n",
       "      <td>12593</td>\n",
       "      <td>Loafers For Men  (Tan)</td>\n",
       "      <td>3.9</td>\n",
       "      <td>Men</td>\n",
       "      <td>Flipkart</td>\n",
       "      <td>999</td>\n",
       "      <td>2423</td>\n",
       "      <td>326</td>\n",
       "      <td>1265.0</td>\n",
       "      <td>414</td>\n",
       "      <td>...</td>\n",
       "      <td>0</td>\n",
       "      <td>0</td>\n",
       "      <td>0</td>\n",
       "      <td>0</td>\n",
       "      <td>0</td>\n",
       "      <td>0</td>\n",
       "      <td>1</td>\n",
       "      <td>0</td>\n",
       "      <td>0</td>\n",
       "      <td>0</td>\n",
       "    </tr>\n",
       "  </tbody>\n",
       "</table>\n",
       "<p>5 rows × 27 columns</p>\n",
       "</div>"
      ],
      "text/plain": [
       "      id                                              title  Rating maincateg  \\\n",
       "0   2242                            Casuals For Men  (Blue)     3.8       Men   \n",
       "1  20532                           Women Black Flats Sandal     3.9     Women   \n",
       "2  10648                           Women Gold Wedges Sandal     3.9     Women   \n",
       "3  20677  Men's Height Increasing High Heel Formal Party...     3.9       Men   \n",
       "4  12593                             Loafers For Men  (Tan)     3.9       Men   \n",
       "\n",
       "   platform  actprice1  norating1  noreviews1  star_5f  star_4f  ...  \\\n",
       "0  Flipkart        999      27928        3543  14238.0     4295  ...   \n",
       "1  Flipkart        499       3015         404   1458.0      657  ...   \n",
       "2  Flipkart        999        449          52    229.0       70  ...   \n",
       "3  Flipkart       2999        290          40    141.0       51  ...   \n",
       "4  Flipkart        999       2423         326   1265.0      414  ...   \n",
       "\n",
       "   Slippers  Flip Flops  Bellies  Crocs  Boots  Heels  Loafers  Slides  \\\n",
       "0         0           0        0      0      0      0        0       0   \n",
       "1         0           0        0      0      0      0        0       0   \n",
       "2         0           0        0      0      0      0        0       0   \n",
       "3         0           0        0      0      1      0        0       0   \n",
       "4         0           0        0      0      0      0        1       0   \n",
       "\n",
       "   Mojaris  Jutis  \n",
       "0        0      0  \n",
       "1        0      0  \n",
       "2        0      0  \n",
       "3        0      0  \n",
       "4        0      0  \n",
       "\n",
       "[5 rows x 27 columns]"
      ]
     },
     "execution_count": 250,
     "metadata": {},
     "output_type": "execute_result"
    }
   ],
   "source": [
    "test_df['Shoes']=test_df['title'].apply(lambda element:1 if 'Shoes' in element else 0)\n",
    "test_df['Sneakers']=test_df['title'].apply(lambda element:1 if 'Sneakers' in element else 0)\n",
    "test_df['Sandal']=test_df['title'].apply(lambda element:1 if 'Sandal' in element else 0)\n",
    "test_df['Slippers']=test_df['title'].apply(lambda element:1 if 'Slippers' in element else 0)\n",
    "test_df['Flip Flops']=test_df['title'].apply(lambda element:1 if 'Flip Flops' in element else 0)\n",
    "test_df['Bellies']=test_df['title'].apply(lambda element:1 if 'Bellies' in element else 0)\n",
    "test_df['Crocs']=test_df['title'].apply(lambda element:1 if 'Crocs' in element else 0)\n",
    "test_df['Boots']=test_df['title'].apply(lambda element:1 if 'Boots' in element else 0)\n",
    "test_df['Heels']=test_df['title'].apply(lambda element:1 if 'Heels' in element else 0)\n",
    "test_df['Loafers']=test_df['title'].apply(lambda element:1 if 'Loafers' in element else 0)\n",
    "test_df['Slides']=test_df['title'].apply(lambda element:1 if 'Slides' in element else 0)\n",
    "test_df['Mojaris']=test_df['title'].apply(lambda element:1 if 'Mojaris' in element else 0)\n",
    "test_df['Jutis']=test_df['title'].apply(lambda element:1 if 'Jutis' in element else 0)\n",
    "test_df.head()"
   ]
  },
  {
   "cell_type": "code",
   "execution_count": 245,
   "id": "ae0fdc94",
   "metadata": {},
   "outputs": [
    {
     "data": {
      "text/plain": [
       "<AxesSubplot:xlabel='Loafers', ylabel='count'>"
      ]
     },
     "execution_count": 245,
     "metadata": {},
     "output_type": "execute_result"
    },
    {
     "data": {
      "image/png": "[encoded data removed]",
      "text/plain": [
       "<Figure size 432x288 with 1 Axes>"
      ]
     },
     "metadata": {
      "needs_background": "light"
     },
     "output_type": "display_data"
    }
   ],
   "source": [
    "sns.countplot(x=test_df['Loafers'])"
   ]
  },
  {
   "cell_type": "code",
   "execution_count": 251,
   "id": "541dcacf",
   "metadata": {},
   "outputs": [
    {
     "name": "stdout",
     "output_type": "stream",
     "text": [
      "Index(['id', 'Rating', 'maincateg', 'platform', 'actprice1', 'norating1',\n",
      "       'noreviews1', 'star_5f', 'star_4f', 'star_3f', 'star_2f', 'star_1f',\n",
      "       'fulfilled1', 'Shoes', 'Sneakers', 'Sandal', 'Slippers', 'Flip Flops',\n",
      "       'Bellies', 'Crocs', 'Boots', 'Heels', 'Loafers', 'Slides', 'Mojaris',\n",
      "       'Jutis'],\n",
      "      dtype='object')\n",
      "Index(['id', 'title', 'Rating', 'maincateg', 'platform', 'actprice1',\n",
      "       'norating1', 'noreviews1', 'star_5f', 'star_4f', 'star_3f', 'star_2f',\n",
      "       'star_1f', 'fulfilled1', 'Shoes', 'Sneakers', 'Sandal', 'Slippers',\n",
      "       'Flip Flops', 'Bellies', 'Crocs', 'Boots', 'Heels', 'Loafers', 'Slides',\n",
      "       'Mojaris', 'Jutis'],\n",
      "      dtype='object')\n"
     ]
    }
   ],
   "source": [
    "print(X.columns)\n",
    "print(test_df.columns)"
   ]
  },
  {
   "cell_type": "code",
   "execution_count": null,
   "id": "ae6ef165",
   "metadata": {},
   "outputs": [],
   "source": []
  },
  {
   "cell_type": "code",
   "execution_count": null,
   "id": "a6dd4e8b",
   "metadata": {},
   "outputs": [],
   "source": []
  },
  {
   "cell_type": "code",
   "execution_count": null,
   "id": "5aa56f14",
   "metadata": {},
   "outputs": [],
   "source": []
  },
  {
   "cell_type": "code",
   "execution_count": null,
   "id": "1b369f18",
   "metadata": {},
   "outputs": [],
   "source": []
  },
  {
   "cell_type": "code",
   "execution_count": null,
   "id": "76c903f0",
   "metadata": {},
   "outputs": [],
   "source": []
  },
  {
   "cell_type": "code",
   "execution_count": 252,
   "id": "7277b0d1",
   "metadata": {},
   "outputs": [
    {
     "data": {
      "text/html": [
       "<div>\n",
       "<style scoped>\n",
       "    .dataframe tbody tr th:only-of-type {\n",
       "        vertical-align: middle;\n",
       "    }\n",
       "\n",
       "    .dataframe tbody tr th {\n",
       "        vertical-align: top;\n",
       "    }\n",
       "\n",
       "    .dataframe thead th {\n",
       "        text-align: right;\n",
       "    }\n",
       "</style>\n",
       "<table border=\"1\" class=\"dataframe\">\n",
       "  <thead>\n",
       "    <tr style=\"text-align: right;\">\n",
       "      <th></th>\n",
       "      <th>id</th>\n",
       "      <th>Rating</th>\n",
       "      <th>maincateg</th>\n",
       "      <th>platform</th>\n",
       "      <th>actprice1</th>\n",
       "      <th>norating1</th>\n",
       "      <th>noreviews1</th>\n",
       "      <th>star_5f</th>\n",
       "      <th>star_4f</th>\n",
       "      <th>star_3f</th>\n",
       "      <th>...</th>\n",
       "      <th>Slippers</th>\n",
       "      <th>Flip Flops</th>\n",
       "      <th>Bellies</th>\n",
       "      <th>Crocs</th>\n",
       "      <th>Boots</th>\n",
       "      <th>Heels</th>\n",
       "      <th>Loafers</th>\n",
       "      <th>Slides</th>\n",
       "      <th>Mojaris</th>\n",
       "      <th>Jutis</th>\n",
       "    </tr>\n",
       "  </thead>\n",
       "  <tbody>\n",
       "    <tr>\n",
       "      <th>0</th>\n",
       "      <td>2242</td>\n",
       "      <td>3.8</td>\n",
       "      <td>0</td>\n",
       "      <td>0</td>\n",
       "      <td>999</td>\n",
       "      <td>27928</td>\n",
       "      <td>3543</td>\n",
       "      <td>14238.0</td>\n",
       "      <td>4295</td>\n",
       "      <td>3457</td>\n",
       "      <td>...</td>\n",
       "      <td>0</td>\n",
       "      <td>0</td>\n",
       "      <td>0</td>\n",
       "      <td>0</td>\n",
       "      <td>0</td>\n",
       "      <td>0</td>\n",
       "      <td>0</td>\n",
       "      <td>0</td>\n",
       "      <td>0</td>\n",
       "      <td>0</td>\n",
       "    </tr>\n",
       "    <tr>\n",
       "      <th>1</th>\n",
       "      <td>20532</td>\n",
       "      <td>3.9</td>\n",
       "      <td>1</td>\n",
       "      <td>0</td>\n",
       "      <td>499</td>\n",
       "      <td>3015</td>\n",
       "      <td>404</td>\n",
       "      <td>1458.0</td>\n",
       "      <td>657</td>\n",
       "      <td>397</td>\n",
       "      <td>...</td>\n",
       "      <td>0</td>\n",
       "      <td>0</td>\n",
       "      <td>0</td>\n",
       "      <td>0</td>\n",
       "      <td>0</td>\n",
       "      <td>0</td>\n",
       "      <td>0</td>\n",
       "      <td>0</td>\n",
       "      <td>0</td>\n",
       "      <td>0</td>\n",
       "    </tr>\n",
       "    <tr>\n",
       "      <th>2</th>\n",
       "      <td>10648</td>\n",
       "      <td>3.9</td>\n",
       "      <td>1</td>\n",
       "      <td>0</td>\n",
       "      <td>999</td>\n",
       "      <td>449</td>\n",
       "      <td>52</td>\n",
       "      <td>229.0</td>\n",
       "      <td>70</td>\n",
       "      <td>71</td>\n",
       "      <td>...</td>\n",
       "      <td>0</td>\n",
       "      <td>0</td>\n",
       "      <td>0</td>\n",
       "      <td>0</td>\n",
       "      <td>0</td>\n",
       "      <td>0</td>\n",
       "      <td>0</td>\n",
       "      <td>0</td>\n",
       "      <td>0</td>\n",
       "      <td>0</td>\n",
       "    </tr>\n",
       "    <tr>\n",
       "      <th>3</th>\n",
       "      <td>20677</td>\n",
       "      <td>3.9</td>\n",
       "      <td>0</td>\n",
       "      <td>0</td>\n",
       "      <td>2999</td>\n",
       "      <td>290</td>\n",
       "      <td>40</td>\n",
       "      <td>141.0</td>\n",
       "      <td>51</td>\n",
       "      <td>49</td>\n",
       "      <td>...</td>\n",
       "      <td>0</td>\n",
       "      <td>0</td>\n",
       "      <td>0</td>\n",
       "      <td>0</td>\n",
       "      <td>1</td>\n",
       "      <td>0</td>\n",
       "      <td>0</td>\n",
       "      <td>0</td>\n",
       "      <td>0</td>\n",
       "      <td>0</td>\n",
       "    </tr>\n",
       "    <tr>\n",
       "      <th>4</th>\n",
       "      <td>12593</td>\n",
       "      <td>3.9</td>\n",
       "      <td>0</td>\n",
       "      <td>0</td>\n",
       "      <td>999</td>\n",
       "      <td>2423</td>\n",
       "      <td>326</td>\n",
       "      <td>1265.0</td>\n",
       "      <td>414</td>\n",
       "      <td>293</td>\n",
       "      <td>...</td>\n",
       "      <td>0</td>\n",
       "      <td>0</td>\n",
       "      <td>0</td>\n",
       "      <td>0</td>\n",
       "      <td>0</td>\n",
       "      <td>0</td>\n",
       "      <td>1</td>\n",
       "      <td>0</td>\n",
       "      <td>0</td>\n",
       "      <td>0</td>\n",
       "    </tr>\n",
       "  </tbody>\n",
       "</table>\n",
       "<p>5 rows × 26 columns</p>\n",
       "</div>"
      ],
      "text/plain": [
       "      id  Rating  maincateg  platform  actprice1  norating1  noreviews1  \\\n",
       "0   2242     3.8          0         0        999      27928        3543   \n",
       "1  20532     3.9          1         0        499       3015         404   \n",
       "2  10648     3.9          1         0        999        449          52   \n",
       "3  20677     3.9          0         0       2999        290          40   \n",
       "4  12593     3.9          0         0        999       2423         326   \n",
       "\n",
       "   star_5f  star_4f  star_3f  ...  Slippers  Flip Flops  Bellies  Crocs  \\\n",
       "0  14238.0     4295     3457  ...         0           0        0      0   \n",
       "1   1458.0      657      397  ...         0           0        0      0   \n",
       "2    229.0       70       71  ...         0           0        0      0   \n",
       "3    141.0       51       49  ...         0           0        0      0   \n",
       "4   1265.0      414      293  ...         0           0        0      0   \n",
       "\n",
       "   Boots  Heels  Loafers  Slides  Mojaris  Jutis  \n",
       "0      0      0        0       0        0      0  \n",
       "1      0      0        0       0        0      0  \n",
       "2      0      0        0       0        0      0  \n",
       "3      1      0        0       0        0      0  \n",
       "4      0      0        1       0        0      0  \n",
       "\n",
       "[5 rows x 26 columns]"
      ]
     },
     "execution_count": 252,
     "metadata": {},
     "output_type": "execute_result"
    }
   ],
   "source": [
    "X_test=test_df.drop(['title'],axis=1)\n",
    "X_test.head()\n",
    "\n",
    "\n",
    "\n",
    "X_test['maincateg']=X_test['maincateg'].map({'Men':0,'Women':1})\n",
    "X_test['platform']=X_test['platform'].map({'Flipkart':0,'Amazon':1})\n",
    "X_test.head()"
   ]
  },
  {
   "cell_type": "code",
   "execution_count": 253,
   "id": "1985c06f",
   "metadata": {},
   "outputs": [
    {
     "name": "stdout",
     "output_type": "stream",
     "text": [
      "(15730, 26)\n",
      "(5244, 26)\n"
     ]
    }
   ],
   "source": [
    "print(X.shape)\n",
    "print(X_test.shape)"
   ]
  },
  {
   "cell_type": "code",
   "execution_count": 254,
   "id": "1f7c2e21",
   "metadata": {},
   "outputs": [
    {
     "data": {
      "text/html": [
       "<div>\n",
       "<style scoped>\n",
       "    .dataframe tbody tr th:only-of-type {\n",
       "        vertical-align: middle;\n",
       "    }\n",
       "\n",
       "    .dataframe tbody tr th {\n",
       "        vertical-align: top;\n",
       "    }\n",
       "\n",
       "    .dataframe thead th {\n",
       "        text-align: right;\n",
       "    }\n",
       "</style>\n",
       "<table border=\"1\" class=\"dataframe\">\n",
       "  <thead>\n",
       "    <tr style=\"text-align: right;\">\n",
       "      <th></th>\n",
       "      <th>id</th>\n",
       "      <th>Rating</th>\n",
       "      <th>maincateg</th>\n",
       "      <th>platform</th>\n",
       "      <th>actprice1</th>\n",
       "      <th>norating1</th>\n",
       "      <th>noreviews1</th>\n",
       "      <th>star_5f</th>\n",
       "      <th>star_4f</th>\n",
       "      <th>star_3f</th>\n",
       "      <th>...</th>\n",
       "      <th>Slippers</th>\n",
       "      <th>Flip Flops</th>\n",
       "      <th>Bellies</th>\n",
       "      <th>Crocs</th>\n",
       "      <th>Boots</th>\n",
       "      <th>Heels</th>\n",
       "      <th>Loafers</th>\n",
       "      <th>Slides</th>\n",
       "      <th>Mojaris</th>\n",
       "      <th>Jutis</th>\n",
       "    </tr>\n",
       "  </thead>\n",
       "  <tbody>\n",
       "    <tr>\n",
       "      <th>0</th>\n",
       "      <td>2242</td>\n",
       "      <td>3.8</td>\n",
       "      <td>0</td>\n",
       "      <td>0</td>\n",
       "      <td>999</td>\n",
       "      <td>27928</td>\n",
       "      <td>3543</td>\n",
       "      <td>14238.0</td>\n",
       "      <td>4295</td>\n",
       "      <td>3457</td>\n",
       "      <td>...</td>\n",
       "      <td>0</td>\n",
       "      <td>0</td>\n",
       "      <td>0</td>\n",
       "      <td>0</td>\n",
       "      <td>0</td>\n",
       "      <td>0</td>\n",
       "      <td>0</td>\n",
       "      <td>0</td>\n",
       "      <td>0</td>\n",
       "      <td>0</td>\n",
       "    </tr>\n",
       "    <tr>\n",
       "      <th>1</th>\n",
       "      <td>20532</td>\n",
       "      <td>3.9</td>\n",
       "      <td>1</td>\n",
       "      <td>0</td>\n",
       "      <td>499</td>\n",
       "      <td>3015</td>\n",
       "      <td>404</td>\n",
       "      <td>1458.0</td>\n",
       "      <td>657</td>\n",
       "      <td>397</td>\n",
       "      <td>...</td>\n",
       "      <td>0</td>\n",
       "      <td>0</td>\n",
       "      <td>0</td>\n",
       "      <td>0</td>\n",
       "      <td>0</td>\n",
       "      <td>0</td>\n",
       "      <td>0</td>\n",
       "      <td>0</td>\n",
       "      <td>0</td>\n",
       "      <td>0</td>\n",
       "    </tr>\n",
       "    <tr>\n",
       "      <th>2</th>\n",
       "      <td>10648</td>\n",
       "      <td>3.9</td>\n",
       "      <td>1</td>\n",
       "      <td>0</td>\n",
       "      <td>999</td>\n",
       "      <td>449</td>\n",
       "      <td>52</td>\n",
       "      <td>229.0</td>\n",
       "      <td>70</td>\n",
       "      <td>71</td>\n",
       "      <td>...</td>\n",
       "      <td>0</td>\n",
       "      <td>0</td>\n",
       "      <td>0</td>\n",
       "      <td>0</td>\n",
       "      <td>0</td>\n",
       "      <td>0</td>\n",
       "      <td>0</td>\n",
       "      <td>0</td>\n",
       "      <td>0</td>\n",
       "      <td>0</td>\n",
       "    </tr>\n",
       "    <tr>\n",
       "      <th>3</th>\n",
       "      <td>20677</td>\n",
       "      <td>3.9</td>\n",
       "      <td>0</td>\n",
       "      <td>0</td>\n",
       "      <td>2999</td>\n",
       "      <td>290</td>\n",
       "      <td>40</td>\n",
       "      <td>141.0</td>\n",
       "      <td>51</td>\n",
       "      <td>49</td>\n",
       "      <td>...</td>\n",
       "      <td>0</td>\n",
       "      <td>0</td>\n",
       "      <td>0</td>\n",
       "      <td>0</td>\n",
       "      <td>1</td>\n",
       "      <td>0</td>\n",
       "      <td>0</td>\n",
       "      <td>0</td>\n",
       "      <td>0</td>\n",
       "      <td>0</td>\n",
       "    </tr>\n",
       "    <tr>\n",
       "      <th>4</th>\n",
       "      <td>12593</td>\n",
       "      <td>3.9</td>\n",
       "      <td>0</td>\n",
       "      <td>0</td>\n",
       "      <td>999</td>\n",
       "      <td>2423</td>\n",
       "      <td>326</td>\n",
       "      <td>1265.0</td>\n",
       "      <td>414</td>\n",
       "      <td>293</td>\n",
       "      <td>...</td>\n",
       "      <td>0</td>\n",
       "      <td>0</td>\n",
       "      <td>0</td>\n",
       "      <td>0</td>\n",
       "      <td>0</td>\n",
       "      <td>0</td>\n",
       "      <td>1</td>\n",
       "      <td>0</td>\n",
       "      <td>0</td>\n",
       "      <td>0</td>\n",
       "    </tr>\n",
       "  </tbody>\n",
       "</table>\n",
       "<p>5 rows × 26 columns</p>\n",
       "</div>"
      ],
      "text/plain": [
       "      id  Rating  maincateg  platform  actprice1  norating1  noreviews1  \\\n",
       "0   2242     3.8          0         0        999      27928        3543   \n",
       "1  20532     3.9          1         0        499       3015         404   \n",
       "2  10648     3.9          1         0        999        449          52   \n",
       "3  20677     3.9          0         0       2999        290          40   \n",
       "4  12593     3.9          0         0        999       2423         326   \n",
       "\n",
       "   star_5f  star_4f  star_3f  ...  Slippers  Flip Flops  Bellies  Crocs  \\\n",
       "0  14238.0     4295     3457  ...         0           0        0      0   \n",
       "1   1458.0      657      397  ...         0           0        0      0   \n",
       "2    229.0       70       71  ...         0           0        0      0   \n",
       "3    141.0       51       49  ...         0           0        0      0   \n",
       "4   1265.0      414      293  ...         0           0        0      0   \n",
       "\n",
       "   Boots  Heels  Loafers  Slides  Mojaris  Jutis  \n",
       "0      0      0        0       0        0      0  \n",
       "1      0      0        0       0        0      0  \n",
       "2      0      0        0       0        0      0  \n",
       "3      1      0        0       0        0      0  \n",
       "4      0      0        1       0        0      0  \n",
       "\n",
       "[5 rows x 26 columns]"
      ]
     },
     "execution_count": 254,
     "metadata": {},
     "output_type": "execute_result"
    }
   ],
   "source": [
    "X_test.head()"
   ]
  },
  {
   "cell_type": "markdown",
   "id": "73692ceb",
   "metadata": {},
   "source": [
    "#### NOW OUR TEST DATA IS READY FOR PREDICTIONS"
   ]
  },
  {
   "cell_type": "code",
   "execution_count": 255,
   "id": "0bfb10a1",
   "metadata": {},
   "outputs": [
    {
     "name": "stdout",
     "output_type": "stream",
     "text": [
      "[410.53728958 302.29670534 527.54166319 ... 453.51960355 212.34587336\n",
      " 746.09723117]\n"
     ]
    }
   ],
   "source": [
    "final_model=LinearRegression()\n",
    "X=scaler.fit_transform(X)\n",
    "X_test=scaler.transform(X_test)\n",
    "final_model.fit(X,y)\n",
    "predictions1=final_model.predict(X_test)\n",
    "\n",
    "print(predictions1)"
   ]
  },
  {
   "cell_type": "code",
   "execution_count": 256,
   "id": "4c6e5a06",
   "metadata": {},
   "outputs": [
    {
     "name": "stdout",
     "output_type": "stream",
     "text": [
      "0        2242\n",
      "1       20532\n",
      "2       10648\n",
      "3       20677\n",
      "4       12593\n",
      "        ...  \n",
      "5239    14033\n",
      "5240      297\n",
      "5241    18733\n",
      "5242     6162\n",
      "5243    13574\n",
      "Name: id, Length: 5244, dtype: int64\n",
      "0        410.537290\n",
      "1        302.296705\n",
      "2        527.541663\n",
      "3       1361.983787\n",
      "4        409.537519\n",
      "           ...     \n",
      "5239     416.439369\n",
      "5240     912.489384\n",
      "5241     453.519604\n",
      "5242     212.345873\n",
      "5243     746.097231\n",
      "Length: 5244, dtype: float64\n"
     ]
    }
   ],
   "source": [
    "product_id=test_df['id']\n",
    "print(product_id)\n",
    "price=pd.Series(predictions1)\n",
    "print(price)\n",
    "#submission= pd.merge(product_id, predictions, right_index = True,left_index = True)\n",
    "#submission"
   ]
  },
  {
   "cell_type": "code",
   "execution_count": 257,
   "id": "08b52e70",
   "metadata": {},
   "outputs": [
    {
     "name": "stdout",
     "output_type": "stream",
     "text": [
      "(5244,)\n",
      "(5244,)\n",
      "0\n",
      "0\n"
     ]
    }
   ],
   "source": [
    "print(product_id.shape)\n",
    "print(price.shape)\n",
    "print(product_id.isnull().sum())\n",
    "print(price.isnull().sum())"
   ]
  },
  {
   "cell_type": "code",
   "execution_count": 258,
   "id": "d45e509e",
   "metadata": {},
   "outputs": [],
   "source": [
    "data = {\"id\": product_id,\"price1\": price}"
   ]
  },
  {
   "cell_type": "code",
   "execution_count": 259,
   "id": "c0aa5763",
   "metadata": {},
   "outputs": [],
   "source": [
    "submission1 = pd.concat(data,axis = 1)"
   ]
  },
  {
   "cell_type": "code",
   "execution_count": 260,
   "id": "3c5543cb",
   "metadata": {},
   "outputs": [
    {
     "data": {
      "text/html": [
       "<div>\n",
       "<style scoped>\n",
       "    .dataframe tbody tr th:only-of-type {\n",
       "        vertical-align: middle;\n",
       "    }\n",
       "\n",
       "    .dataframe tbody tr th {\n",
       "        vertical-align: top;\n",
       "    }\n",
       "\n",
       "    .dataframe thead th {\n",
       "        text-align: right;\n",
       "    }\n",
       "</style>\n",
       "<table border=\"1\" class=\"dataframe\">\n",
       "  <thead>\n",
       "    <tr style=\"text-align: right;\">\n",
       "      <th></th>\n",
       "      <th>id</th>\n",
       "      <th>price1</th>\n",
       "    </tr>\n",
       "  </thead>\n",
       "  <tbody>\n",
       "    <tr>\n",
       "      <th>0</th>\n",
       "      <td>2242</td>\n",
       "      <td>411.0</td>\n",
       "    </tr>\n",
       "    <tr>\n",
       "      <th>1</th>\n",
       "      <td>20532</td>\n",
       "      <td>302.0</td>\n",
       "    </tr>\n",
       "    <tr>\n",
       "      <th>2</th>\n",
       "      <td>10648</td>\n",
       "      <td>528.0</td>\n",
       "    </tr>\n",
       "    <tr>\n",
       "      <th>3</th>\n",
       "      <td>20677</td>\n",
       "      <td>1362.0</td>\n",
       "    </tr>\n",
       "    <tr>\n",
       "      <th>4</th>\n",
       "      <td>12593</td>\n",
       "      <td>410.0</td>\n",
       "    </tr>\n",
       "    <tr>\n",
       "      <th>...</th>\n",
       "      <td>...</td>\n",
       "      <td>...</td>\n",
       "    </tr>\n",
       "    <tr>\n",
       "      <th>5239</th>\n",
       "      <td>14033</td>\n",
       "      <td>416.0</td>\n",
       "    </tr>\n",
       "    <tr>\n",
       "      <th>5240</th>\n",
       "      <td>297</td>\n",
       "      <td>912.0</td>\n",
       "    </tr>\n",
       "    <tr>\n",
       "      <th>5241</th>\n",
       "      <td>18733</td>\n",
       "      <td>454.0</td>\n",
       "    </tr>\n",
       "    <tr>\n",
       "      <th>5242</th>\n",
       "      <td>6162</td>\n",
       "      <td>212.0</td>\n",
       "    </tr>\n",
       "    <tr>\n",
       "      <th>5243</th>\n",
       "      <td>13574</td>\n",
       "      <td>746.0</td>\n",
       "    </tr>\n",
       "  </tbody>\n",
       "</table>\n",
       "<p>5244 rows × 2 columns</p>\n",
       "</div>"
      ],
      "text/plain": [
       "         id  price1\n",
       "0      2242   411.0\n",
       "1     20532   302.0\n",
       "2     10648   528.0\n",
       "3     20677  1362.0\n",
       "4     12593   410.0\n",
       "...     ...     ...\n",
       "5239  14033   416.0\n",
       "5240    297   912.0\n",
       "5241  18733   454.0\n",
       "5242   6162   212.0\n",
       "5243  13574   746.0\n",
       "\n",
       "[5244 rows x 2 columns]"
      ]
     },
     "execution_count": 260,
     "metadata": {},
     "output_type": "execute_result"
    }
   ],
   "source": [
    "submission1=submission1.round(0)\n",
    "submission1"
   ]
  },
  {
   "cell_type": "code",
   "execution_count": 261,
   "id": "043ca31c",
   "metadata": {},
   "outputs": [
    {
     "name": "stdout",
     "output_type": "stream",
     "text": [
      "(5244, 2)\n",
      "id        0\n",
      "price1    0\n",
      "dtype: int64\n"
     ]
    }
   ],
   "source": [
    "print(submission1.shape)\n",
    "print(submission1.isnull().sum())\n"
   ]
  },
  {
   "cell_type": "code",
   "execution_count": null,
   "id": "546f2b37",
   "metadata": {},
   "outputs": [],
   "source": []
  },
  {
   "cell_type": "code",
   "execution_count": 262,
   "id": "e3dd850f",
   "metadata": {},
   "outputs": [],
   "source": [
    "submission1.to_csv('kaggle competitions submit -c sa2022 -f submission.csv')"
   ]
  },
  {
   "cell_type": "code",
   "execution_count": 138,
   "id": "3a6d8fbe",
   "metadata": {},
   "outputs": [
    {
     "data": {
      "text/plain": [
       "'C:\\\\Users\\\\jabhi\\\\Untitled Folder'"
      ]
     },
     "execution_count": 138,
     "metadata": {},
     "output_type": "execute_result"
    }
   ],
   "source": [
    "pwd"
   ]
  },
  {
   "cell_type": "code",
   "execution_count": null,
   "id": "d4dfad93",
   "metadata": {},
   "outputs": [],
   "source": []
  },
  {
   "cell_type": "markdown",
   "id": "694ce268",
   "metadata": {},
   "source": [
    "## POLYNOMIAL REGRESSION"
   ]
  },
  {
   "cell_type": "code",
   "execution_count": 263,
   "id": "84870c1f",
   "metadata": {},
   "outputs": [],
   "source": [
    "from sklearn.preprocessing import PolynomialFeatures"
   ]
  },
  {
   "cell_type": "code",
   "execution_count": 264,
   "id": "ec83f189",
   "metadata": {},
   "outputs": [],
   "source": [
    "from sklearn.preprocessing import PolynomialFeatures"
   ]
  },
  {
   "cell_type": "code",
   "execution_count": 265,
   "id": "72d6419c",
   "metadata": {},
   "outputs": [],
   "source": [
    "polynomial_converter=PolynomialFeatures(degree=2,include_bias=False)"
   ]
  },
  {
   "cell_type": "code",
   "execution_count": 266,
   "id": "d3dafbf4",
   "metadata": {},
   "outputs": [
    {
     "data": {
      "text/plain": [
       "(15730, 26)"
      ]
     },
     "execution_count": 266,
     "metadata": {},
     "output_type": "execute_result"
    }
   ],
   "source": [
    "X.shape"
   ]
  },
  {
   "cell_type": "code",
   "execution_count": 267,
   "id": "5c380844",
   "metadata": {},
   "outputs": [],
   "source": [
    "poly_features=polynomial_converter.fit_transform(X)"
   ]
  },
  {
   "cell_type": "code",
   "execution_count": 268,
   "id": "0ecb1044",
   "metadata": {},
   "outputs": [
    {
     "data": {
      "text/plain": [
       "(15730, 377)"
      ]
     },
     "execution_count": 268,
     "metadata": {},
     "output_type": "execute_result"
    }
   ],
   "source": [
    "poly_features.shape"
   ]
  },
  {
   "cell_type": "markdown",
   "id": "b6f4b467",
   "metadata": {},
   "source": [
    "### DATA PREPROCESSING FOR POLYNOMIAL REGRESSION"
   ]
  },
  {
   "cell_type": "code",
   "execution_count": 269,
   "id": "0cb67b6e",
   "metadata": {},
   "outputs": [
    {
     "name": "stdout",
     "output_type": "stream",
     "text": [
      "(11011, 377)\n",
      "(4719, 377)\n"
     ]
    }
   ],
   "source": [
    "from sklearn.model_selection import train_test_split\n",
    "X_train, X_val, y_train, y_val = train_test_split(poly_features,y, test_size=0.3, random_state=101)\n",
    "print(X_train.shape)\n",
    "print(X_val.shape)"
   ]
  },
  {
   "cell_type": "code",
   "execution_count": 270,
   "id": "734a0d4c",
   "metadata": {},
   "outputs": [
    {
     "name": "stdout",
     "output_type": "stream",
     "text": [
      "R2_SCORE : -11926342944579.795\n",
      "The MAE of LinearRegression() model is 47093846.05910584\n",
      "The RMSE of LinearRegression() model is 2179001204.31814\n",
      "The MAE as percentage of mean price is : 6844332.499855266 %\n",
      "The RMSE as percentage of mean price is : 316682751.7383186 %\n",
      "[403.12477112 599.20462036 178.99308014 ... 249.38166809 409.42041779\n",
      " 654.77022552]\n"
     ]
    }
   ],
   "source": [
    "pr_model=LinearRegression(fit_intercept=True)\n",
    "report_model(pr_model)"
   ]
  },
  {
   "cell_type": "markdown",
   "id": "e5b6837a",
   "metadata": {},
   "source": [
    "### Submission"
   ]
  },
  {
   "cell_type": "code",
   "execution_count": 46,
   "id": "576fbeb3",
   "metadata": {},
   "outputs": [],
   "source": [
    "poly_feat= polynomial_converter.fit_transform(X_test)"
   ]
  },
  {
   "cell_type": "code",
   "execution_count": 47,
   "id": "c48958ec",
   "metadata": {},
   "outputs": [
    {
     "name": "stdout",
     "output_type": "stream",
     "text": [
      "[188.81691053 276.8071209  498.53259787 ... 408.8823651  235.11375712\n",
      " 624.60345137]\n"
     ]
    }
   ],
   "source": [
    "final_model=LinearRegression(fit_intercept=True)\n",
    "\n",
    "final_model.fit(poly_features,y)\n",
    "predictions=final_model.predict(poly_feat)\n",
    "\n",
    "print(predictions)"
   ]
  },
  {
   "cell_type": "code",
   "execution_count": 48,
   "id": "a69f1c90",
   "metadata": {},
   "outputs": [
    {
     "data": {
      "text/html": [
       "<div>\n",
       "<style scoped>\n",
       "    .dataframe tbody tr th:only-of-type {\n",
       "        vertical-align: middle;\n",
       "    }\n",
       "\n",
       "    .dataframe tbody tr th {\n",
       "        vertical-align: top;\n",
       "    }\n",
       "\n",
       "    .dataframe thead th {\n",
       "        text-align: right;\n",
       "    }\n",
       "</style>\n",
       "<table border=\"1\" class=\"dataframe\">\n",
       "  <thead>\n",
       "    <tr style=\"text-align: right;\">\n",
       "      <th></th>\n",
       "      <th>id</th>\n",
       "      <th>price1</th>\n",
       "    </tr>\n",
       "  </thead>\n",
       "  <tbody>\n",
       "    <tr>\n",
       "      <th>0</th>\n",
       "      <td>2242</td>\n",
       "      <td>189.0</td>\n",
       "    </tr>\n",
       "    <tr>\n",
       "      <th>1</th>\n",
       "      <td>20532</td>\n",
       "      <td>277.0</td>\n",
       "    </tr>\n",
       "    <tr>\n",
       "      <th>2</th>\n",
       "      <td>10648</td>\n",
       "      <td>499.0</td>\n",
       "    </tr>\n",
       "    <tr>\n",
       "      <th>3</th>\n",
       "      <td>20677</td>\n",
       "      <td>1382.0</td>\n",
       "    </tr>\n",
       "    <tr>\n",
       "      <th>4</th>\n",
       "      <td>12593</td>\n",
       "      <td>429.0</td>\n",
       "    </tr>\n",
       "    <tr>\n",
       "      <th>...</th>\n",
       "      <td>...</td>\n",
       "      <td>...</td>\n",
       "    </tr>\n",
       "    <tr>\n",
       "      <th>5239</th>\n",
       "      <td>14033</td>\n",
       "      <td>381.0</td>\n",
       "    </tr>\n",
       "    <tr>\n",
       "      <th>5240</th>\n",
       "      <td>297</td>\n",
       "      <td>794.0</td>\n",
       "    </tr>\n",
       "    <tr>\n",
       "      <th>5241</th>\n",
       "      <td>18733</td>\n",
       "      <td>409.0</td>\n",
       "    </tr>\n",
       "    <tr>\n",
       "      <th>5242</th>\n",
       "      <td>6162</td>\n",
       "      <td>235.0</td>\n",
       "    </tr>\n",
       "    <tr>\n",
       "      <th>5243</th>\n",
       "      <td>13574</td>\n",
       "      <td>625.0</td>\n",
       "    </tr>\n",
       "  </tbody>\n",
       "</table>\n",
       "<p>5244 rows × 2 columns</p>\n",
       "</div>"
      ],
      "text/plain": [
       "         id  price1\n",
       "0      2242   189.0\n",
       "1     20532   277.0\n",
       "2     10648   499.0\n",
       "3     20677  1382.0\n",
       "4     12593   429.0\n",
       "...     ...     ...\n",
       "5239  14033   381.0\n",
       "5240    297   794.0\n",
       "5241  18733   409.0\n",
       "5242   6162   235.0\n",
       "5243  13574   625.0\n",
       "\n",
       "[5244 rows x 2 columns]"
      ]
     },
     "execution_count": 48,
     "metadata": {},
     "output_type": "execute_result"
    }
   ],
   "source": [
    "product_id=test_df['id']\n",
    "price=pd.Series(predictions)\n",
    "\n",
    "\n",
    "data = {\"id\": product_id,\"price1\": price}\n",
    "\n",
    "submission = pd.concat(data,axis = 1)\n",
    "\n",
    "submission=submission.round(0)\n",
    "\n",
    "submission\n",
    "\n"
   ]
  },
  {
   "cell_type": "code",
   "execution_count": 49,
   "id": "b3111184",
   "metadata": {},
   "outputs": [
    {
     "name": "stdout",
     "output_type": "stream",
     "text": [
      "(5244, 2)\n",
      "id        0\n",
      "price1    0\n",
      "dtype: int64\n"
     ]
    }
   ],
   "source": [
    "print(submission.shape)\n",
    "print(submission.isnull().sum())\n"
   ]
  },
  {
   "cell_type": "code",
   "execution_count": 50,
   "id": "ba6f25f6",
   "metadata": {},
   "outputs": [],
   "source": [
    "submission.to_csv('kaggle competitions submit -c sa2022 -f submission.csv')"
   ]
  },
  {
   "cell_type": "code",
   "execution_count": null,
   "id": "778a7bc9",
   "metadata": {},
   "outputs": [],
   "source": []
  },
  {
   "cell_type": "code",
   "execution_count": 45,
   "id": "eb44b281",
   "metadata": {},
   "outputs": [
    {
     "name": "stdout",
     "output_type": "stream",
     "text": [
      "R2_SCORE : -0.8734542633661366\n",
      "The MAE of LinearRegression() model is 199.40782415959944\n",
      "The RMSE of LinearRegression() model is 863.6253289884777\n",
      "The MAE as percentage of mean price is : 28.980717563565328 %\n",
      "The RMSE as percentage of mean price is : 125.51404061319222 %\n",
      "[439.40480223 564.16139669 219.24113481 ... 310.04831267 408.43221469\n",
      " 624.03833755]\n"
     ]
    }
   ],
   "source": [
    "polynomial_converter=PolynomialFeatures(degree=3,include_bias=False)\n",
    "poly_features=polynomial_converter.fit_transform(X)\n",
    "X_train, X_val, y_train, y_val = train_test_split(poly_features,y, test_size=0.3, random_state=101)\n",
    "pr_model=LinearRegression(fit_intercept=True)\n",
    "report_model(pr_model)"
   ]
  },
  {
   "cell_type": "code",
   "execution_count": null,
   "id": "d28e81ce",
   "metadata": {},
   "outputs": [],
   "source": [
    "#polynomial_converter=PolynomialFeatures(degree=6,include_bias=False)\n",
    "#poly_features=polynomial_converter.fit_transform(X)\n",
    "#_train, X_val, y_train, y_val = train_test_split(poly_features,y, test_size=0.3, random_state=101)\n",
    "#pr_model=LinearRegression(fit_intercept=True)\n",
    "#report_model(pr_model)"
   ]
  },
  {
   "cell_type": "code",
   "execution_count": null,
   "id": "140d0dcc",
   "metadata": {},
   "outputs": [],
   "source": [
    "\n"
   ]
  },
  {
   "cell_type": "markdown",
   "id": "c6c9d93d",
   "metadata": {},
   "source": [
    "## LASSO REGRESSION"
   ]
  },
  {
   "cell_type": "code",
   "execution_count": 271,
   "id": "e4429813",
   "metadata": {},
   "outputs": [],
   "source": [
    "from sklearn.linear_model import LassoCV"
   ]
  },
  {
   "cell_type": "code",
   "execution_count": 272,
   "id": "0fb362ad",
   "metadata": {},
   "outputs": [
    {
     "name": "stdout",
     "output_type": "stream",
     "text": [
      "R2_SCORE : 0.7870212558385481\n",
      "The MAE of LassoCV(cv=5, eps=0.01) model is 178.23831110713584\n",
      "The RMSE of LassoCV(cv=5, eps=0.01) model is 291.18698152189154\n",
      "The MAE as percentage of mean price is : 25.904069586901052 %\n",
      "The RMSE as percentage of mean price is : 42.31934080439548 %\n",
      "[412.82482266 511.87546301 214.87072925 ... 294.69484501 403.01731739\n",
      " 425.92371301]\n"
     ]
    }
   ],
   "source": [
    "lassoCV_model=LassoCV(eps=0.01,n_alphas=100,cv=5)\n",
    "report_model(lassoCV_model)"
   ]
  },
  {
   "cell_type": "code",
   "execution_count": 51,
   "id": "b2487bf6",
   "metadata": {},
   "outputs": [
    {
     "name": "stderr",
     "output_type": "stream",
     "text": [
      "D:\\JAVA\\lib\\site-packages\\sklearn\\linear_model\\_coordinate_descent.py:633: ConvergenceWarning: Objective did not converge. You might want to increase the number of iterations. Duality gap: 452662.7754383087, tolerance: 373757.99870162347\n",
      "  model = cd_fast.enet_coordinate_descent_gram(\n",
      "D:\\JAVA\\lib\\site-packages\\sklearn\\linear_model\\_coordinate_descent.py:633: ConvergenceWarning: Objective did not converge. You might want to increase the number of iterations. Duality gap: 858268.7216535807, tolerance: 373757.99870162347\n",
      "  model = cd_fast.enet_coordinate_descent_gram(\n",
      "D:\\JAVA\\lib\\site-packages\\sklearn\\linear_model\\_coordinate_descent.py:633: ConvergenceWarning: Objective did not converge. You might want to increase the number of iterations. Duality gap: 1488089.7765636444, tolerance: 373757.99870162347\n",
      "  model = cd_fast.enet_coordinate_descent_gram(\n",
      "D:\\JAVA\\lib\\site-packages\\sklearn\\linear_model\\_coordinate_descent.py:633: ConvergenceWarning: Objective did not converge. You might want to increase the number of iterations. Duality gap: 1022095.7867251635, tolerance: 373757.99870162347\n",
      "  model = cd_fast.enet_coordinate_descent_gram(\n",
      "D:\\JAVA\\lib\\site-packages\\sklearn\\linear_model\\_coordinate_descent.py:633: ConvergenceWarning: Objective did not converge. You might want to increase the number of iterations. Duality gap: 5255510.51922369, tolerance: 373757.99870162347\n",
      "  model = cd_fast.enet_coordinate_descent_gram(\n",
      "D:\\JAVA\\lib\\site-packages\\sklearn\\linear_model\\_coordinate_descent.py:633: ConvergenceWarning: Objective did not converge. You might want to increase the number of iterations. Duality gap: 8120438.106531143, tolerance: 373757.99870162347\n",
      "  model = cd_fast.enet_coordinate_descent_gram(\n",
      "D:\\JAVA\\lib\\site-packages\\sklearn\\linear_model\\_coordinate_descent.py:633: ConvergenceWarning: Objective did not converge. You might want to increase the number of iterations. Duality gap: 1666544.7373673916, tolerance: 381896.08211485983\n",
      "  model = cd_fast.enet_coordinate_descent_gram(\n",
      "D:\\JAVA\\lib\\site-packages\\sklearn\\linear_model\\_coordinate_descent.py:633: ConvergenceWarning: Objective did not converge. You might want to increase the number of iterations. Duality gap: 2473661.8663315773, tolerance: 381896.08211485983\n",
      "  model = cd_fast.enet_coordinate_descent_gram(\n",
      "D:\\JAVA\\lib\\site-packages\\sklearn\\linear_model\\_coordinate_descent.py:633: ConvergenceWarning: Objective did not converge. You might want to increase the number of iterations. Duality gap: 1091008.4400539398, tolerance: 381896.08211485983\n",
      "  model = cd_fast.enet_coordinate_descent_gram(\n",
      "D:\\JAVA\\lib\\site-packages\\sklearn\\linear_model\\_coordinate_descent.py:633: ConvergenceWarning: Objective did not converge. You might want to increase the number of iterations. Duality gap: 9316371.380720496, tolerance: 381896.08211485983\n",
      "  model = cd_fast.enet_coordinate_descent_gram(\n",
      "D:\\JAVA\\lib\\site-packages\\sklearn\\linear_model\\_coordinate_descent.py:633: ConvergenceWarning: Objective did not converge. You might want to increase the number of iterations. Duality gap: 6900514.654641032, tolerance: 381896.08211485983\n",
      "  model = cd_fast.enet_coordinate_descent_gram(\n",
      "D:\\JAVA\\lib\\site-packages\\sklearn\\linear_model\\_coordinate_descent.py:633: ConvergenceWarning: Objective did not converge. You might want to increase the number of iterations. Duality gap: 8358411.316130638, tolerance: 381896.08211485983\n",
      "  model = cd_fast.enet_coordinate_descent_gram(\n",
      "D:\\JAVA\\lib\\site-packages\\sklearn\\linear_model\\_coordinate_descent.py:633: ConvergenceWarning: Objective did not converge. You might want to increase the number of iterations. Duality gap: 28037497.606129408, tolerance: 381896.08211485983\n",
      "  model = cd_fast.enet_coordinate_descent_gram(\n",
      "D:\\JAVA\\lib\\site-packages\\sklearn\\linear_model\\_coordinate_descent.py:633: ConvergenceWarning: Objective did not converge. You might want to increase the number of iterations. Duality gap: 4786574.444160461, tolerance: 382442.17674496537\n",
      "  model = cd_fast.enet_coordinate_descent_gram(\n",
      "D:\\JAVA\\lib\\site-packages\\sklearn\\linear_model\\_coordinate_descent.py:633: ConvergenceWarning: Objective did not converge. You might want to increase the number of iterations. Duality gap: 5890825.636797905, tolerance: 382442.17674496537\n",
      "  model = cd_fast.enet_coordinate_descent_gram(\n",
      "D:\\JAVA\\lib\\site-packages\\sklearn\\linear_model\\_coordinate_descent.py:633: ConvergenceWarning: Objective did not converge. You might want to increase the number of iterations. Duality gap: 6614902.142967463, tolerance: 382442.17674496537\n",
      "  model = cd_fast.enet_coordinate_descent_gram(\n",
      "D:\\JAVA\\lib\\site-packages\\sklearn\\linear_model\\_coordinate_descent.py:633: ConvergenceWarning: Objective did not converge. You might want to increase the number of iterations. Duality gap: 1542329.414601326, tolerance: 382442.17674496537\n",
      "  model = cd_fast.enet_coordinate_descent_gram(\n",
      "D:\\JAVA\\lib\\site-packages\\sklearn\\linear_model\\_coordinate_descent.py:633: ConvergenceWarning: Objective did not converge. You might want to increase the number of iterations. Duality gap: 1154448.0716232061, tolerance: 382442.17674496537\n",
      "  model = cd_fast.enet_coordinate_descent_gram(\n",
      "D:\\JAVA\\lib\\site-packages\\sklearn\\linear_model\\_coordinate_descent.py:633: ConvergenceWarning: Objective did not converge. You might want to increase the number of iterations. Duality gap: 6249414.848965049, tolerance: 382442.17674496537\n",
      "  model = cd_fast.enet_coordinate_descent_gram(\n",
      "D:\\JAVA\\lib\\site-packages\\sklearn\\linear_model\\_coordinate_descent.py:633: ConvergenceWarning: Objective did not converge. You might want to increase the number of iterations. Duality gap: 9323785.096580982, tolerance: 382442.17674496537\n",
      "  model = cd_fast.enet_coordinate_descent_gram(\n",
      "D:\\JAVA\\lib\\site-packages\\sklearn\\linear_model\\_coordinate_descent.py:633: ConvergenceWarning: Objective did not converge. You might want to increase the number of iterations. Duality gap: 11663497.10590458, tolerance: 382442.17674496537\n",
      "  model = cd_fast.enet_coordinate_descent_gram(\n",
      "D:\\JAVA\\lib\\site-packages\\sklearn\\linear_model\\_coordinate_descent.py:633: ConvergenceWarning: Objective did not converge. You might want to increase the number of iterations. Duality gap: 24563405.584429502, tolerance: 382442.17674496537\n",
      "  model = cd_fast.enet_coordinate_descent_gram(\n",
      "D:\\JAVA\\lib\\site-packages\\sklearn\\linear_model\\_coordinate_descent.py:633: ConvergenceWarning: Objective did not converge. You might want to increase the number of iterations. Duality gap: 39807385.349675894, tolerance: 382442.17674496537\n",
      "  model = cd_fast.enet_coordinate_descent_gram(\n",
      "D:\\JAVA\\lib\\site-packages\\sklearn\\linear_model\\_coordinate_descent.py:633: ConvergenceWarning: Objective did not converge. You might want to increase the number of iterations. Duality gap: 75205799.15877646, tolerance: 382442.17674496537\n",
      "  model = cd_fast.enet_coordinate_descent_gram(\n",
      "D:\\JAVA\\lib\\site-packages\\sklearn\\linear_model\\_coordinate_descent.py:633: ConvergenceWarning: Objective did not converge. You might want to increase the number of iterations. Duality gap: 3514809.715138912, tolerance: 386194.25247253943\n",
      "  model = cd_fast.enet_coordinate_descent_gram(\n",
      "D:\\JAVA\\lib\\site-packages\\sklearn\\linear_model\\_coordinate_descent.py:633: ConvergenceWarning: Objective did not converge. You might want to increase the number of iterations. Duality gap: 3249819.6083033085, tolerance: 386194.25247253943\n",
      "  model = cd_fast.enet_coordinate_descent_gram(\n",
      "D:\\JAVA\\lib\\site-packages\\sklearn\\linear_model\\_coordinate_descent.py:633: ConvergenceWarning: Objective did not converge. You might want to increase the number of iterations. Duality gap: 3434915.7806806564, tolerance: 386194.25247253943\n",
      "  model = cd_fast.enet_coordinate_descent_gram(\n",
      "D:\\JAVA\\lib\\site-packages\\sklearn\\linear_model\\_coordinate_descent.py:633: ConvergenceWarning: Objective did not converge. You might want to increase the number of iterations. Duality gap: 3928082.226303816, tolerance: 386194.25247253943\n",
      "  model = cd_fast.enet_coordinate_descent_gram(\n",
      "D:\\JAVA\\lib\\site-packages\\sklearn\\linear_model\\_coordinate_descent.py:633: ConvergenceWarning: Objective did not converge. You might want to increase the number of iterations. Duality gap: 5834827.57111609, tolerance: 386194.25247253943\n",
      "  model = cd_fast.enet_coordinate_descent_gram(\n",
      "D:\\JAVA\\lib\\site-packages\\sklearn\\linear_model\\_coordinate_descent.py:633: ConvergenceWarning: Objective did not converge. You might want to increase the number of iterations. Duality gap: 4801180.3568816185, tolerance: 386194.25247253943\n",
      "  model = cd_fast.enet_coordinate_descent_gram(\n",
      "D:\\JAVA\\lib\\site-packages\\sklearn\\linear_model\\_coordinate_descent.py:633: ConvergenceWarning: Objective did not converge. You might want to increase the number of iterations. Duality gap: 3245902.7961723804, tolerance: 386194.25247253943\n",
      "  model = cd_fast.enet_coordinate_descent_gram(\n",
      "D:\\JAVA\\lib\\site-packages\\sklearn\\linear_model\\_coordinate_descent.py:633: ConvergenceWarning: Objective did not converge. You might want to increase the number of iterations. Duality gap: 2429466.354635477, tolerance: 386194.25247253943\n",
      "  model = cd_fast.enet_coordinate_descent_gram(\n",
      "D:\\JAVA\\lib\\site-packages\\sklearn\\linear_model\\_coordinate_descent.py:633: ConvergenceWarning: Objective did not converge. You might want to increase the number of iterations. Duality gap: 7432675.076422334, tolerance: 386194.25247253943\n",
      "  model = cd_fast.enet_coordinate_descent_gram(\n"
     ]
    },
    {
     "name": "stderr",
     "output_type": "stream",
     "text": [
      "D:\\JAVA\\lib\\site-packages\\sklearn\\linear_model\\_coordinate_descent.py:633: ConvergenceWarning: Objective did not converge. You might want to increase the number of iterations. Duality gap: 2332155.7228046656, tolerance: 377435.23475168564\n",
      "  model = cd_fast.enet_coordinate_descent_gram(\n",
      "D:\\JAVA\\lib\\site-packages\\sklearn\\linear_model\\_coordinate_descent.py:633: ConvergenceWarning: Objective did not converge. You might want to increase the number of iterations. Duality gap: 12756214.138543129, tolerance: 377435.23475168564\n",
      "  model = cd_fast.enet_coordinate_descent_gram(\n",
      "D:\\JAVA\\lib\\site-packages\\sklearn\\linear_model\\_coordinate_descent.py:633: ConvergenceWarning: Objective did not converge. You might want to increase the number of iterations. Duality gap: 12462075.189761162, tolerance: 377435.23475168564\n",
      "  model = cd_fast.enet_coordinate_descent_gram(\n",
      "D:\\JAVA\\lib\\site-packages\\sklearn\\linear_model\\_coordinate_descent.py:633: ConvergenceWarning: Objective did not converge. You might want to increase the number of iterations. Duality gap: 21678938.243545532, tolerance: 377435.23475168564\n",
      "  model = cd_fast.enet_coordinate_descent_gram(\n",
      "D:\\JAVA\\lib\\site-packages\\sklearn\\linear_model\\_coordinate_descent.py:633: ConvergenceWarning: Objective did not converge. You might want to increase the number of iterations. Duality gap: 13872287.068626404, tolerance: 377435.23475168564\n",
      "  model = cd_fast.enet_coordinate_descent_gram(\n",
      "D:\\JAVA\\lib\\site-packages\\sklearn\\linear_model\\_coordinate_descent.py:633: ConvergenceWarning: Objective did not converge. You might want to increase the number of iterations. Duality gap: 6460647.657506943, tolerance: 377435.23475168564\n",
      "  model = cd_fast.enet_coordinate_descent_gram(\n",
      "D:\\JAVA\\lib\\site-packages\\sklearn\\linear_model\\_coordinate_descent.py:633: ConvergenceWarning: Objective did not converge. You might want to increase the number of iterations. Duality gap: 12498306.792787313, tolerance: 377435.23475168564\n",
      "  model = cd_fast.enet_coordinate_descent_gram(\n"
     ]
    },
    {
     "name": "stdout",
     "output_type": "stream",
     "text": [
      "R2_SCORE : 0.7918868689162686\n",
      "The MAE of LassoCV(cv=5) model is 177.16640147831404\n",
      "The RMSE of LassoCV(cv=5) model is 287.8416033941025\n",
      "The MAE as percentage of mean price is : 25.7482847758613 %\n",
      "The RMSE as percentage of mean price is : 41.833143940890324 %\n",
      "[486.34859803 508.81884315 205.99720085 ... 307.01340163 410.53097607\n",
      " 570.92120418]\n"
     ]
    },
    {
     "name": "stderr",
     "output_type": "stream",
     "text": [
      "D:\\JAVA\\lib\\site-packages\\sklearn\\linear_model\\_coordinate_descent.py:647: ConvergenceWarning: Objective did not converge. You might want to increase the number of iterations, check the scale of the features or consider increasing regularisation. Duality gap: 3.626e+07, tolerance: 4.754e+05\n",
      "  model = cd_fast.enet_coordinate_descent(\n"
     ]
    }
   ],
   "source": [
    "lassoCV_model=LassoCV(eps=0.001,n_alphas=100,cv=5)\n",
    "report_model(lassoCV_model)"
   ]
  },
  {
   "cell_type": "code",
   "execution_count": 274,
   "id": "e32c1420",
   "metadata": {},
   "outputs": [
    {
     "name": "stdout",
     "output_type": "stream",
     "text": [
      "R2_SCORE : 0.8007648889390029\n",
      "The MAE of LassoCV(cv=10, n_alphas=1000) model is 171.13944537295262\n",
      "The RMSE of LassoCV(cv=10, n_alphas=1000) model is 281.6350883291551\n",
      "The MAE as percentage of mean price is : 24.87236371612551 %\n",
      "The RMSE as percentage of mean price is : 40.931126876568456 %\n",
      "[355.04859953 606.08312818 195.31333592 ... 283.05027899 410.57599858\n",
      " 591.05024671]\n"
     ]
    }
   ],
   "source": [
    "lassoCV_model=LassoCV(eps=0.001,n_alphas=1000,cv=10)\n",
    "report_model(lassoCV_model)"
   ]
  },
  {
   "cell_type": "code",
   "execution_count": 273,
   "id": "e51886b8",
   "metadata": {},
   "outputs": [],
   "source": [
    "#lassoCV_model.alphas_\n"
   ]
  },
  {
   "cell_type": "code",
   "execution_count": 277,
   "id": "f08859c2",
   "metadata": {},
   "outputs": [
    {
     "data": {
      "text/html": [
       "<div>\n",
       "<style scoped>\n",
       "    .dataframe tbody tr th:only-of-type {\n",
       "        vertical-align: middle;\n",
       "    }\n",
       "\n",
       "    .dataframe tbody tr th {\n",
       "        vertical-align: top;\n",
       "    }\n",
       "\n",
       "    .dataframe thead th {\n",
       "        text-align: right;\n",
       "    }\n",
       "</style>\n",
       "<table border=\"1\" class=\"dataframe\">\n",
       "  <thead>\n",
       "    <tr style=\"text-align: right;\">\n",
       "      <th></th>\n",
       "      <th>id</th>\n",
       "      <th>price1</th>\n",
       "    </tr>\n",
       "  </thead>\n",
       "  <tbody>\n",
       "    <tr>\n",
       "      <th>0</th>\n",
       "      <td>2242</td>\n",
       "      <td>430.0</td>\n",
       "    </tr>\n",
       "    <tr>\n",
       "      <th>1</th>\n",
       "      <td>20532</td>\n",
       "      <td>305.0</td>\n",
       "    </tr>\n",
       "    <tr>\n",
       "      <th>2</th>\n",
       "      <td>10648</td>\n",
       "      <td>528.0</td>\n",
       "    </tr>\n",
       "    <tr>\n",
       "      <th>3</th>\n",
       "      <td>20677</td>\n",
       "      <td>1364.0</td>\n",
       "    </tr>\n",
       "    <tr>\n",
       "      <th>4</th>\n",
       "      <td>12593</td>\n",
       "      <td>413.0</td>\n",
       "    </tr>\n",
       "    <tr>\n",
       "      <th>...</th>\n",
       "      <td>...</td>\n",
       "      <td>...</td>\n",
       "    </tr>\n",
       "    <tr>\n",
       "      <th>5239</th>\n",
       "      <td>14033</td>\n",
       "      <td>418.0</td>\n",
       "    </tr>\n",
       "    <tr>\n",
       "      <th>5240</th>\n",
       "      <td>297</td>\n",
       "      <td>910.0</td>\n",
       "    </tr>\n",
       "    <tr>\n",
       "      <th>5241</th>\n",
       "      <td>18733</td>\n",
       "      <td>452.0</td>\n",
       "    </tr>\n",
       "    <tr>\n",
       "      <th>5242</th>\n",
       "      <td>6162</td>\n",
       "      <td>217.0</td>\n",
       "    </tr>\n",
       "    <tr>\n",
       "      <th>5243</th>\n",
       "      <td>13574</td>\n",
       "      <td>738.0</td>\n",
       "    </tr>\n",
       "  </tbody>\n",
       "</table>\n",
       "<p>5244 rows × 2 columns</p>\n",
       "</div>"
      ],
      "text/plain": [
       "         id  price1\n",
       "0      2242   430.0\n",
       "1     20532   305.0\n",
       "2     10648   528.0\n",
       "3     20677  1364.0\n",
       "4     12593   413.0\n",
       "...     ...     ...\n",
       "5239  14033   418.0\n",
       "5240    297   910.0\n",
       "5241  18733   452.0\n",
       "5242   6162   217.0\n",
       "5243  13574   738.0\n",
       "\n",
       "[5244 rows x 2 columns]"
      ]
     },
     "execution_count": 277,
     "metadata": {},
     "output_type": "execute_result"
    }
   ],
   "source": [
    "lassoCV_model=LassoCV(eps=0.001,n_alphas=1000,cv=10)\n",
    "lassoCV_model.fit(X,y)\n",
    "lasso_prediction=lassoCV_model.predict(X_test)\n",
    "lasso_prediction\n",
    "\n",
    "\n",
    "product_id=test_df['id']\n",
    "\n",
    "price=pd.Series(lasso_prediction)\n",
    "\n",
    "data = {\"id\": product_id,\"price1\": price}\n",
    "submission_lasso = pd.concat(data,axis = 1)\n",
    "submission_lasso=submission_lasso.round(0)\n",
    "submission_lasso"
   ]
  },
  {
   "cell_type": "code",
   "execution_count": 278,
   "id": "c1a724a8",
   "metadata": {},
   "outputs": [],
   "source": [
    "submission_lasso.to_csv('kaggle competitions submit -c sa2022 -f submission.csv')"
   ]
  },
  {
   "cell_type": "markdown",
   "id": "aad48c7f",
   "metadata": {},
   "source": [
    "### LASSOCV MODEL performed the same way like Linear Regresssion model"
   ]
  },
  {
   "cell_type": "code",
   "execution_count": null,
   "id": "66264be9",
   "metadata": {},
   "outputs": [],
   "source": [
    "\n"
   ]
  },
  {
   "cell_type": "markdown",
   "id": "16b9014d",
   "metadata": {},
   "source": [
    "## RIDGE REGRESSION"
   ]
  },
  {
   "cell_type": "code",
   "execution_count": 279,
   "id": "aa746cfe",
   "metadata": {},
   "outputs": [],
   "source": [
    "from sklearn.linear_model import RidgeCV"
   ]
  },
  {
   "cell_type": "code",
   "execution_count": 280,
   "id": "b2c03f7a",
   "metadata": {},
   "outputs": [
    {
     "name": "stdout",
     "output_type": "stream",
     "text": [
      "R2_SCORE : 0.7997791235141579\n",
      "The MAE of RidgeCV(alphas=array([ 0.01,  0.1 ,  1.  , 10.  ]),\n",
      "        scoring='neg_mean_absolute_error') model is 170.9738978346183\n",
      "The RMSE of RidgeCV(alphas=array([ 0.01,  0.1 ,  1.  , 10.  ]),\n",
      "        scoring='neg_mean_absolute_error') model is 282.3309585796504\n",
      "The MAE as percentage of mean price is : 24.848304046089844 %\n",
      "The RMSE as percentage of mean price is : 41.03226041671657 %\n",
      "[424.19434229 607.50487574 181.83501452 ... 269.33003541 408.40501428\n",
      " 663.80263445]\n"
     ]
    }
   ],
   "source": [
    "ridgeCV_model=RidgeCV(alphas=(.01,0.1,1,10),scoring='neg_mean_absolute_error')\n",
    "report_model(ridgeCV_model)"
   ]
  },
  {
   "cell_type": "code",
   "execution_count": 281,
   "id": "22538d06",
   "metadata": {},
   "outputs": [
    {
     "name": "stdout",
     "output_type": "stream",
     "text": [
      "R2_SCORE : 0.7997791235141579\n",
      "The MAE of RidgeCV(alphas=array([ 0.01,  0.1 ,  1.  , 10.  ]), gcv_mode='auto',\n",
      "        scoring='neg_mean_absolute_error') model is 170.9738978346183\n",
      "The RMSE of RidgeCV(alphas=array([ 0.01,  0.1 ,  1.  , 10.  ]), gcv_mode='auto',\n",
      "        scoring='neg_mean_absolute_error') model is 282.3309585796504\n",
      "The MAE as percentage of mean price is : 24.848304046089844 %\n",
      "The RMSE as percentage of mean price is : 41.03226041671657 %\n",
      "[424.19434229 607.50487574 181.83501452 ... 269.33003541 408.40501428\n",
      " 663.80263445]\n"
     ]
    }
   ],
   "source": [
    "ridgeCV_model=RidgeCV(alphas=(.01,0.1,1,10),scoring='neg_mean_absolute_error',gcv_mode='auto')\n",
    "report_model(ridgeCV_model)"
   ]
  },
  {
   "cell_type": "code",
   "execution_count": null,
   "id": "430fbfd0",
   "metadata": {},
   "outputs": [],
   "source": [
    "ridgeCV_model=RidgeCV(alphas=(.01,0.1,1,10),scoring='neg_mean_absolute_error',gcv_mode='eigen')\n",
    "report_model(ridgeCV_model)"
   ]
  },
  {
   "cell_type": "code",
   "execution_count": 35,
   "id": "aace6da0",
   "metadata": {},
   "outputs": [
    {
     "name": "stdout",
     "output_type": "stream",
     "text": [
      "The MAE of RidgeCV(alphas=array([ 0.1,  1. , 10. ]), gcv_mode='svd',\n",
      "        scoring='neg_mean_absolute_error') model is 184.77524737211166\n",
      "The RMSE of RidgeCV(alphas=array([ 0.1,  1. , 10. ]), gcv_mode='svd',\n",
      "        scoring='neg_mean_absolute_error') model is 296.2978123353042\n",
      "The MAE as percentage of mean price is : 26.854108054171355 %\n",
      "The RMSE as percentage of mean price is : 43.06211779894375 %\n"
     ]
    }
   ],
   "source": [
    "ridgeCV_model=RidgeCV(alphas=(0.1,1,10),scoring='neg_mean_absolute_error',gcv_mode='svd')\n",
    "report_model(ridgeCV_model)"
   ]
  },
  {
   "cell_type": "code",
   "execution_count": null,
   "id": "f81187cd",
   "metadata": {},
   "outputs": [],
   "source": []
  },
  {
   "cell_type": "markdown",
   "id": "71249b2b",
   "metadata": {},
   "source": [
    "## KNN "
   ]
  },
  {
   "cell_type": "code",
   "execution_count": null,
   "id": "d0883284",
   "metadata": {},
   "outputs": [],
   "source": [
    "from sklearn.neighbors import KNeighborsRegressor"
   ]
  },
  {
   "cell_type": "code",
   "execution_count": 63,
   "id": "19a1c672",
   "metadata": {},
   "outputs": [
    {
     "name": "stdout",
     "output_type": "stream",
     "text": [
      "R2_SCORE : 0.7706716525264155\n",
      "The MAE of KNeighborsRegressor() model is 177.2207671116762\n",
      "The RMSE of KNeighborsRegressor() model is 302.1570239674516\n",
      "The MAE as percentage of mean price is : 25.756185945598613 %\n",
      "The RMSE as percentage of mean price is : 43.91365989952109 %\n",
      "[455.  686.6 212.2 ... 376.  348.  567.4]\n"
     ]
    }
   ],
   "source": [
    "knn=KNeighborsRegressor(n_neighbors=5, weights='uniform', algorithm='auto', leaf_size=30, p=2, metric='minkowski')\n",
    "report_model(knn)"
   ]
  },
  {
   "cell_type": "code",
   "execution_count": 64,
   "id": "686f3a2e",
   "metadata": {},
   "outputs": [
    {
     "name": "stdout",
     "output_type": "stream",
     "text": [
      "R2_SCORE : 0.7796759605660453\n",
      "The MAE of KNeighborsRegressor(p=1) model is 169.97652044924772\n",
      "The RMSE of KNeighborsRegressor(p=1) model is 296.1657043213982\n",
      "The MAE as percentage of mean price is : 24.703351296961113 %\n",
      "The RMSE as percentage of mean price is : 43.042918025539535 %\n",
      "[455.  656.4 247.4 ... 296.  348.  567.4]\n"
     ]
    }
   ],
   "source": [
    "knn=KNeighborsRegressor(n_neighbors=5, weights='uniform', algorithm='auto', leaf_size=30, p=1, metric='minkowski')\n",
    "report_model(knn)"
   ]
  },
  {
   "cell_type": "code",
   "execution_count": 65,
   "id": "13eaa3e8",
   "metadata": {},
   "outputs": [
    {
     "name": "stdout",
     "output_type": "stream",
     "text": [
      "R2_SCORE : 0.7543339746572566\n",
      "The MAE of KNeighborsRegressor(n_neighbors=3) model is 181.88352051988417\n",
      "The RMSE of KNeighborsRegressor(n_neighbors=3) model is 312.7349170942486\n",
      "The MAE as percentage of mean price is : 26.433842101576094 %\n",
      "The RMSE as percentage of mean price is : 45.45098640321899 %\n",
      "[469.         681.33333333 187.66666667 ... 309.         342.33333333\n",
      " 629.66666667]\n"
     ]
    }
   ],
   "source": [
    "knn=KNeighborsRegressor(n_neighbors=3, weights='uniform', algorithm='auto', leaf_size=30, p=2, metric='minkowski')\n",
    "report_model(knn)"
   ]
  },
  {
   "cell_type": "code",
   "execution_count": 66,
   "id": "3834758d",
   "metadata": {},
   "outputs": [
    {
     "name": "stdout",
     "output_type": "stream",
     "text": [
      "R2_SCORE : 0.7408131595129763\n",
      "The MAE of KNeighborsRegressor(n_neighbors=2) model is 184.2938122483577\n",
      "The RMSE of KNeighborsRegressor(n_neighbors=2) model is 321.2257097611744\n",
      "The MAE as percentage of mean price is : 26.784139208136875 %\n",
      "The RMSE as percentage of mean price is : 46.684986449145086 %\n",
      "[469.  653.5 192.  ... 314.  421.  629.5]\n"
     ]
    }
   ],
   "source": [
    "\n",
    "knn=KNeighborsRegressor(n_neighbors=2, weights='uniform', algorithm='auto', leaf_size=30, p=2, metric='minkowski')\n",
    "report_model(knn)"
   ]
  },
  {
   "cell_type": "code",
   "execution_count": 67,
   "id": "fb282f30",
   "metadata": {},
   "outputs": [
    {
     "name": "stdout",
     "output_type": "stream",
     "text": [
      "R2_SCORE : 0.7731390204522163\n",
      "The MAE of KNeighborsRegressor(n_neighbors=8) model is 176.33765098537825\n",
      "The RMSE of KNeighborsRegressor(n_neighbors=8) model is 300.5271584615192\n",
      "The MAE as percentage of mean price is : 25.62783923132131 %\n",
      "The RMSE as percentage of mean price is : 43.67678518262824 %\n",
      "[455.875 649.5   255.625 ... 344.125 375.125 532.375]\n"
     ]
    }
   ],
   "source": [
    "knn=KNeighborsRegressor(n_neighbors=8, weights='uniform', algorithm='auto', leaf_size=30, p=2, metric='minkowski')\n",
    "report_model(knn)"
   ]
  },
  {
   "cell_type": "code",
   "execution_count": 68,
   "id": "2f2c3310",
   "metadata": {},
   "outputs": [
    {
     "name": "stdout",
     "output_type": "stream",
     "text": [
      "R2_SCORE : 0.7750843514049294\n",
      "The MAE of KNeighborsRegressor(weights='distance') model is 172.52713915386062\n",
      "The RMSE of KNeighborsRegressor(weights='distance') model is 299.23587541403543\n",
      "The MAE as percentage of mean price is : 25.074042670793922 %\n",
      "The RMSE as percentage of mean price is : 43.489117976231185 %\n",
      "[463.25846521 653.697822   207.00617245 ... 363.08545903 336.61373964\n",
      " 597.45935163]\n"
     ]
    }
   ],
   "source": [
    "knn=KNeighborsRegressor(n_neighbors=5, weights='distance', algorithm='auto', leaf_size=30, p=2, metric='minkowski')\n",
    "report_model(knn)"
   ]
  },
  {
   "cell_type": "markdown",
   "id": "a0ae0a98",
   "metadata": {},
   "source": [
    "### Even after tuning the hyperparameters the KNN performance in the regression problem is very poor."
   ]
  },
  {
   "cell_type": "code",
   "execution_count": null,
   "id": "5a1fe782",
   "metadata": {},
   "outputs": [],
   "source": []
  },
  {
   "cell_type": "markdown",
   "id": "c2ddb6d3",
   "metadata": {},
   "source": [
    "## SVM"
   ]
  },
  {
   "cell_type": "code",
   "execution_count": 47,
   "id": "f0d0d44b",
   "metadata": {},
   "outputs": [],
   "source": [
    "from sklearn.svm import SVR"
   ]
  },
  {
   "cell_type": "code",
   "execution_count": 70,
   "id": "41a83a19",
   "metadata": {},
   "outputs": [
    {
     "name": "stdout",
     "output_type": "stream",
     "text": [
      "The MAE of SVR() model is 249.47212710681012\n",
      "The RMSE of SVR() model is 495.3981657983999\n",
      "The MAE as percentage of mean price is : 36.25675815948814 %\n",
      "The RMSE as percentage of mean price is : 71.99814944583554 %\n"
     ]
    }
   ],
   "source": [
    "svr_model=SVR()\n",
    "report_model(svr_model)"
   ]
  },
  {
   "cell_type": "markdown",
   "id": "0227f4f2",
   "metadata": {},
   "source": [
    "### Now using Grid Search for getting a better model performance."
   ]
  },
  {
   "cell_type": "code",
   "execution_count": 73,
   "id": "e0e0505c",
   "metadata": {},
   "outputs": [],
   "source": [
    "param_grid={'C':[0.001,0.01,0.1,0.3,0.5,1],\n",
    "            'kernel':['linear','rbf','poly'],\n",
    "           'gamma':['scale','auto',0,10,100],\n",
    "           'epsilon':[0,0.01,0.05,0.1,0.5,1,2]}"
   ]
  },
  {
   "cell_type": "code",
   "execution_count": 74,
   "id": "8a693f7a",
   "metadata": {},
   "outputs": [],
   "source": [
    "from sklearn.model_selection import GridSearchCV\n",
    "svr=SVR()\n",
    "grid=GridSearchCV(svr,param_grid=param_grid)"
   ]
  },
  {
   "cell_type": "code",
   "execution_count": null,
   "id": "9bd8524b",
   "metadata": {},
   "outputs": [],
   "source": [
    "#report_model(grid)"
   ]
  },
  {
   "cell_type": "code",
   "execution_count": null,
   "id": "303e9996",
   "metadata": {},
   "outputs": [],
   "source": []
  },
  {
   "cell_type": "code",
   "execution_count": null,
   "id": "e517a4cb",
   "metadata": {},
   "outputs": [],
   "source": []
  },
  {
   "cell_type": "markdown",
   "id": "c0982706",
   "metadata": {},
   "source": [
    "## DECISON TREE\n"
   ]
  },
  {
   "cell_type": "code",
   "execution_count": 155,
   "id": "f37435d8",
   "metadata": {},
   "outputs": [],
   "source": [
    "from sklearn.tree import DecisionTreeRegressor"
   ]
  },
  {
   "cell_type": "code",
   "execution_count": 156,
   "id": "10f3d637",
   "metadata": {
    "scrolled": false
   },
   "outputs": [
    {
     "name": "stdout",
     "output_type": "stream",
     "text": [
      "R2_SCORE : 0.7874280720146044\n",
      "The MAE of DecisionTreeRegressor() model is 126.18457300275482\n",
      "The RMSE of DecisionTreeRegressor() model is 290.90874672182434\n",
      "The MAE as percentage of mean price is : 18.338896612928536 %\n",
      "The RMSE as percentage of mean price is : 42.278903854686575 %\n",
      "[499. 699. 185. ... 284. 564. 629.]\n"
     ]
    }
   ],
   "source": [
    "dt_model=DecisionTreeRegressor()\n",
    "report_model(dt_model)"
   ]
  },
  {
   "cell_type": "code",
   "execution_count": 157,
   "id": "cb78292c",
   "metadata": {},
   "outputs": [
    {
     "name": "stdout",
     "output_type": "stream",
     "text": [
      "R2_SCORE : 0.8196706769019392\n",
      "The MAE of DecisionTreeRegressor(max_depth=8, random_state=101) model is 156.7546207773783\n",
      "The RMSE of DecisionTreeRegressor(max_depth=8, random_state=101) model is 267.939658683682\n",
      "The MAE as percentage of mean price is : 22.781760999994834 %\n",
      "The RMSE as percentage of mean price is : 38.940716619900364 %\n",
      "[445.88888889 453.21702128 248.         ... 301.82997118 382.75105485\n",
      " 595.13924051]\n"
     ]
    }
   ],
   "source": [
    "dt_model=DecisionTreeRegressor(max_depth=8,random_state=101)\n",
    "report_model(dt_model)"
   ]
  },
  {
   "cell_type": "code",
   "execution_count": 158,
   "id": "72dfd82a",
   "metadata": {},
   "outputs": [
    {
     "name": "stdout",
     "output_type": "stream",
     "text": [
      "R2_SCORE : 0.8140273069730299\n",
      "The MAE of DecisionTreeRegressor(max_depth=10) model is 149.55429293400513\n",
      "The RMSE of DecisionTreeRegressor(max_depth=10) model is 272.09991968090327\n",
      "The MAE as percentage of mean price is : 21.735309244787572 %\n",
      "The RMSE as percentage of mean price is : 39.54534359208319 %\n",
      "[514.33333333 564.48235294 213.1        ... 293.97297297 396.17006803\n",
      " 743.69387755]\n"
     ]
    }
   ],
   "source": [
    "dt_model=DecisionTreeRegressor(max_depth=10)\n",
    "report_model(dt_model)"
   ]
  },
  {
   "cell_type": "code",
   "execution_count": 160,
   "id": "cd2b9868",
   "metadata": {},
   "outputs": [
    {
     "name": "stdout",
     "output_type": "stream",
     "text": [
      "R2_SCORE : 0.5061935732635763\n",
      "The MAE of DecisionTreeRegressor(max_depth=8, max_features='sqrt', random_state=101) model is 255.11293030271875\n",
      "The RMSE of DecisionTreeRegressor(max_depth=8, max_features='sqrt', random_state=101) model is 443.3862209561783\n",
      "The MAE as percentage of mean price is : 37.07655810937098 %\n",
      "The RMSE as percentage of mean price is : 64.43905044981153 %\n",
      "[400.64835165 672.93333333 382.9402229  ... 402.73684211 382.9402229\n",
      " 759.21875   ]\n"
     ]
    }
   ],
   "source": [
    "dt_model=DecisionTreeRegressor(max_depth=8,criterion='mse', splitter='best',max_features='sqrt', random_state=101)\n",
    "report_model(dt_model)\n",
    "#help(DecisionTreeRegressor)"
   ]
  },
  {
   "cell_type": "code",
   "execution_count": null,
   "id": "be75b8f0",
   "metadata": {},
   "outputs": [],
   "source": []
  },
  {
   "cell_type": "code",
   "execution_count": 161,
   "id": "9af8d782",
   "metadata": {},
   "outputs": [
    {
     "name": "stdout",
     "output_type": "stream",
     "text": [
      "R2_SCORE : 0.6764351257205987\n",
      "The MAE of DecisionTreeRegressor(max_features='log2', random_state=101) model is 148.189023098114\n",
      "The RMSE of DecisionTreeRegressor(max_features='log2', random_state=101) model is 358.90913164849104\n",
      "The MAE as percentage of mean price is : 21.536889249590452 %\n",
      "The RMSE as percentage of mean price is : 52.16166526627577 %\n",
      "[379. 699. 185. ... 284. 399. 629.]\n"
     ]
    }
   ],
   "source": [
    "dt_model=DecisionTreeRegressor(criterion='mse', splitter='best',max_features='log2', random_state=101)\n",
    "report_model(dt_model)"
   ]
  },
  {
   "cell_type": "code",
   "execution_count": 163,
   "id": "e2a330a0",
   "metadata": {},
   "outputs": [
    {
     "name": "stdout",
     "output_type": "stream",
     "text": [
      "R2_SCORE : 0.7888414519282622\n",
      "The MAE of DecisionTreeRegressor(max_features='auto', random_state=101) model is 124.79020979020979\n",
      "The RMSE of DecisionTreeRegressor(max_features='auto', random_state=101) model is 289.9400150602214\n",
      "The MAE as percentage of mean price is : 18.13624836372318 %\n",
      "The RMSE as percentage of mean price is : 42.13811430042452 %\n",
      "[499. 699. 185. ... 284. 564. 629.]\n"
     ]
    }
   ],
   "source": [
    "dt_model=DecisionTreeRegressor(criterion='mse', splitter='best',max_features='auto', random_state=101)\n",
    "report_model(dt_model)"
   ]
  },
  {
   "cell_type": "code",
   "execution_count": 164,
   "id": "ba5a67e6",
   "metadata": {},
   "outputs": [
    {
     "name": "stdout",
     "output_type": "stream",
     "text": [
      "R2_SCORE : 0.7640669888775762\n",
      "The MAE of DecisionTreeRegressor(criterion='mae', max_features='auto', random_state=101) model is 134.92667938122483\n",
      "The RMSE of DecisionTreeRegressor(criterion='mae', max_features='auto', random_state=101) model is 306.4772053338998\n",
      "The MAE as percentage of mean price is : 19.609421061669867 %\n",
      "The RMSE as percentage of mean price is : 44.541528723285026 %\n",
      "[497. 699. 185. ... 284. 303. 629.]\n"
     ]
    }
   ],
   "source": [
    "dt_model=DecisionTreeRegressor(criterion='mae', splitter='best',max_features='auto', random_state=101)\n",
    "report_model(dt_model)"
   ]
  },
  {
   "cell_type": "code",
   "execution_count": 165,
   "id": "026cca0a",
   "metadata": {},
   "outputs": [
    {
     "name": "stdout",
     "output_type": "stream",
     "text": [
      "R2_SCORE : 0.7821901589815812\n",
      "The MAE of DecisionTreeRegressor(criterion='mae', max_depth=8, max_features='auto',\n",
      "                      random_state=101) model is 161.01716465352828\n",
      "The RMSE of DecisionTreeRegressor(criterion='mae', max_depth=8, max_features='auto',\n",
      "                      random_state=101) model is 294.47102807276616\n",
      "The MAE as percentage of mean price is : 23.401253142279764 %\n",
      "The RMSE as percentage of mean price is : 42.79662411039216 %\n",
      "[471. 449. 243. ... 299. 699. 630.]\n"
     ]
    }
   ],
   "source": [
    "dt_model=DecisionTreeRegressor(max_depth=8,criterion='mae', splitter='best',max_features='auto', random_state=101)\n",
    "report_model(dt_model)"
   ]
  },
  {
   "cell_type": "code",
   "execution_count": 172,
   "id": "dac3ee19",
   "metadata": {},
   "outputs": [
    {
     "name": "stdout",
     "output_type": "stream",
     "text": [
      "R2_SCORE : 0.7650001052541487\n",
      "The MAE of DecisionTreeRegressor(criterion='mae', max_depth=6, max_features='auto',\n",
      "                      random_state=101, splitter='random') model is 178.7361729179911\n",
      "The RMSE of DecisionTreeRegressor(criterion='mae', max_depth=6, max_features='auto',\n",
      "                      random_state=101, splitter='random') model is 305.87054537443476\n",
      "The MAE as percentage of mean price is : 25.97642578750095 %\n",
      "The RMSE as percentage of mean price is : 44.45336046300498 %\n",
      "[399.5 498.  243.  ... 299.  399.5 498. ]\n"
     ]
    }
   ],
   "source": [
    "dt_model=DecisionTreeRegressor(max_depth=6,criterion='mae', splitter='random',max_features='auto', random_state=101)\n",
    "report_model(dt_model)"
   ]
  },
  {
   "cell_type": "code",
   "execution_count": 30,
   "id": "daba5020",
   "metadata": {},
   "outputs": [
    {
     "name": "stdout",
     "output_type": "stream",
     "text": [
      "The MAE of DecisionTreeRegressor(criterion='friedman_mse', max_features='auto',\n",
      "                      random_state=101) model is 124.79020979020979\n",
      "The RMSE of DecisionTreeRegressor(criterion='friedman_mse', max_features='auto',\n",
      "                      random_state=101) model is 289.9400150602214\n",
      "The MAE as percentage of mean price is : 18.13624836372318 %\n",
      "The RMSE as percentage of mean price is : 42.13811430042452 %\n"
     ]
    }
   ],
   "source": [
    "dt_model=DecisionTreeRegressor(criterion='friedman_mse', splitter='best',max_features='auto', random_state=101)\n",
    "report_model(dt_model)"
   ]
  },
  {
   "cell_type": "code",
   "execution_count": 31,
   "id": "aaa87b1a",
   "metadata": {},
   "outputs": [
    {
     "name": "stdout",
     "output_type": "stream",
     "text": [
      "The MAE of DecisionTreeRegressor(criterion='absolute_error', max_features='auto',\n",
      "                      random_state=101) model is 134.92667938122483\n",
      "The RMSE of DecisionTreeRegressor(criterion='absolute_error', max_features='auto',\n",
      "                      random_state=101) model is 306.4772053338998\n",
      "The MAE as percentage of mean price is : 19.609421061669867 %\n",
      "The RMSE as percentage of mean price is : 44.541528723285026 %\n"
     ]
    }
   ],
   "source": [
    "dt_model=DecisionTreeRegressor(criterion='absolute_error', splitter='best',max_features='auto', random_state=101)\n",
    "report_model(dt_model)"
   ]
  },
  {
   "cell_type": "code",
   "execution_count": 32,
   "id": "5b41725f",
   "metadata": {},
   "outputs": [
    {
     "name": "stdout",
     "output_type": "stream",
     "text": [
      "The MAE of DecisionTreeRegressor(criterion='poisson', max_features='auto',\n",
      "                      random_state=101) model is 156.01440983259164\n",
      "The RMSE of DecisionTreeRegressor(criterion='poisson', max_features='auto',\n",
      "                      random_state=101) model is 318.45779506682163\n",
      "The MAE as percentage of mean price is : 22.674183253641445 %\n",
      "The RMSE as percentage of mean price is : 46.2827146008104 %\n"
     ]
    }
   ],
   "source": [
    "dt_model=DecisionTreeRegressor(criterion='poisson', splitter='best',max_features='auto', random_state=101)\n",
    "report_model(dt_model)"
   ]
  },
  {
   "cell_type": "code",
   "execution_count": null,
   "id": "ad67eb70",
   "metadata": {},
   "outputs": [],
   "source": []
  },
  {
   "cell_type": "code",
   "execution_count": 179,
   "id": "55620184",
   "metadata": {},
   "outputs": [
    {
     "name": "stdout",
     "output_type": "stream",
     "text": [
      "R2_SCORE : 0.7965551590190854\n",
      "The MAE of DecisionTreeRegressor(max_depth=6, max_features='auto', random_state=101) model is 170.5634140894079\n",
      "The RMSE of DecisionTreeRegressor(max_depth=6, max_features='auto', random_state=101) model is 284.59493346790975\n",
      "The MAE as percentage of mean price is : 24.78864684088983 %\n",
      "The RMSE as percentage of mean price is : 41.36129272567519 %\n",
      "[361.86666667 451.86699765 225.42105263 ... 301.10747051 451.86699765\n",
      " 577.23385301]\n"
     ]
    }
   ],
   "source": [
    "final_dt_model=DecisionTreeRegressor(max_depth=6,criterion='mse', splitter='best',max_features='auto', random_state=101)\n",
    "report_model(final_dt_model)\n"
   ]
  },
  {
   "cell_type": "markdown",
   "id": "cb8bc5c4",
   "metadata": {},
   "source": [
    "### NOW , I will get the predictions on test dataset using the most optimized Decision Tree model."
   ]
  },
  {
   "cell_type": "code",
   "execution_count": 180,
   "id": "cecb7676",
   "metadata": {},
   "outputs": [
    {
     "data": {
      "text/html": [
       "<div>\n",
       "<style scoped>\n",
       "    .dataframe tbody tr th:only-of-type {\n",
       "        vertical-align: middle;\n",
       "    }\n",
       "\n",
       "    .dataframe tbody tr th {\n",
       "        vertical-align: top;\n",
       "    }\n",
       "\n",
       "    .dataframe thead th {\n",
       "        text-align: right;\n",
       "    }\n",
       "</style>\n",
       "<table border=\"1\" class=\"dataframe\">\n",
       "  <thead>\n",
       "    <tr style=\"text-align: right;\">\n",
       "      <th></th>\n",
       "      <th>id</th>\n",
       "      <th>Rating</th>\n",
       "      <th>maincateg</th>\n",
       "      <th>platform</th>\n",
       "      <th>actprice1</th>\n",
       "      <th>norating1</th>\n",
       "      <th>noreviews1</th>\n",
       "      <th>star_5f</th>\n",
       "      <th>star_4f</th>\n",
       "      <th>star_3f</th>\n",
       "      <th>star_2f</th>\n",
       "      <th>star_1f</th>\n",
       "      <th>fulfilled1</th>\n",
       "    </tr>\n",
       "  </thead>\n",
       "  <tbody>\n",
       "    <tr>\n",
       "      <th>0</th>\n",
       "      <td>2242</td>\n",
       "      <td>3.8</td>\n",
       "      <td>0</td>\n",
       "      <td>0</td>\n",
       "      <td>999</td>\n",
       "      <td>27928</td>\n",
       "      <td>3543</td>\n",
       "      <td>14238.0</td>\n",
       "      <td>4295</td>\n",
       "      <td>3457</td>\n",
       "      <td>1962</td>\n",
       "      <td>3976.0</td>\n",
       "      <td>1</td>\n",
       "    </tr>\n",
       "    <tr>\n",
       "      <th>1</th>\n",
       "      <td>20532</td>\n",
       "      <td>3.9</td>\n",
       "      <td>1</td>\n",
       "      <td>0</td>\n",
       "      <td>499</td>\n",
       "      <td>3015</td>\n",
       "      <td>404</td>\n",
       "      <td>1458.0</td>\n",
       "      <td>657</td>\n",
       "      <td>397</td>\n",
       "      <td>182</td>\n",
       "      <td>321.0</td>\n",
       "      <td>1</td>\n",
       "    </tr>\n",
       "    <tr>\n",
       "      <th>2</th>\n",
       "      <td>10648</td>\n",
       "      <td>3.9</td>\n",
       "      <td>1</td>\n",
       "      <td>0</td>\n",
       "      <td>999</td>\n",
       "      <td>449</td>\n",
       "      <td>52</td>\n",
       "      <td>229.0</td>\n",
       "      <td>70</td>\n",
       "      <td>71</td>\n",
       "      <td>33</td>\n",
       "      <td>46.0</td>\n",
       "      <td>1</td>\n",
       "    </tr>\n",
       "    <tr>\n",
       "      <th>3</th>\n",
       "      <td>20677</td>\n",
       "      <td>3.9</td>\n",
       "      <td>0</td>\n",
       "      <td>0</td>\n",
       "      <td>2999</td>\n",
       "      <td>290</td>\n",
       "      <td>40</td>\n",
       "      <td>141.0</td>\n",
       "      <td>51</td>\n",
       "      <td>49</td>\n",
       "      <td>17</td>\n",
       "      <td>32.0</td>\n",
       "      <td>1</td>\n",
       "    </tr>\n",
       "    <tr>\n",
       "      <th>4</th>\n",
       "      <td>12593</td>\n",
       "      <td>3.9</td>\n",
       "      <td>0</td>\n",
       "      <td>0</td>\n",
       "      <td>999</td>\n",
       "      <td>2423</td>\n",
       "      <td>326</td>\n",
       "      <td>1265.0</td>\n",
       "      <td>414</td>\n",
       "      <td>293</td>\n",
       "      <td>143</td>\n",
       "      <td>308.0</td>\n",
       "      <td>0</td>\n",
       "    </tr>\n",
       "  </tbody>\n",
       "</table>\n",
       "</div>"
      ],
      "text/plain": [
       "      id  Rating  maincateg  platform  actprice1  norating1  noreviews1  \\\n",
       "0   2242     3.8          0         0        999      27928        3543   \n",
       "1  20532     3.9          1         0        499       3015         404   \n",
       "2  10648     3.9          1         0        999        449          52   \n",
       "3  20677     3.9          0         0       2999        290          40   \n",
       "4  12593     3.9          0         0        999       2423         326   \n",
       "\n",
       "   star_5f  star_4f  star_3f  star_2f  star_1f  fulfilled1  \n",
       "0  14238.0     4295     3457     1962   3976.0           1  \n",
       "1   1458.0      657      397      182    321.0           1  \n",
       "2    229.0       70       71       33     46.0           1  \n",
       "3    141.0       51       49       17     32.0           1  \n",
       "4   1265.0      414      293      143    308.0           0  "
      ]
     },
     "execution_count": 180,
     "metadata": {},
     "output_type": "execute_result"
    }
   ],
   "source": [
    "X_test.head()"
   ]
  },
  {
   "cell_type": "code",
   "execution_count": 181,
   "id": "ef7df648",
   "metadata": {},
   "outputs": [
    {
     "data": {
      "text/html": [
       "<div>\n",
       "<style scoped>\n",
       "    .dataframe tbody tr th:only-of-type {\n",
       "        vertical-align: middle;\n",
       "    }\n",
       "\n",
       "    .dataframe tbody tr th {\n",
       "        vertical-align: top;\n",
       "    }\n",
       "\n",
       "    .dataframe thead th {\n",
       "        text-align: right;\n",
       "    }\n",
       "</style>\n",
       "<table border=\"1\" class=\"dataframe\">\n",
       "  <thead>\n",
       "    <tr style=\"text-align: right;\">\n",
       "      <th></th>\n",
       "      <th>id</th>\n",
       "      <th>Rating</th>\n",
       "      <th>maincateg</th>\n",
       "      <th>platform</th>\n",
       "      <th>actprice1</th>\n",
       "      <th>norating1</th>\n",
       "      <th>noreviews1</th>\n",
       "      <th>star_5f</th>\n",
       "      <th>star_4f</th>\n",
       "      <th>star_3f</th>\n",
       "      <th>star_2f</th>\n",
       "      <th>star_1f</th>\n",
       "      <th>fulfilled1</th>\n",
       "    </tr>\n",
       "  </thead>\n",
       "  <tbody>\n",
       "    <tr>\n",
       "      <th>0</th>\n",
       "      <td>16695</td>\n",
       "      <td>3.9</td>\n",
       "      <td>1</td>\n",
       "      <td>0</td>\n",
       "      <td>999</td>\n",
       "      <td>38.0</td>\n",
       "      <td>7.0</td>\n",
       "      <td>17.0</td>\n",
       "      <td>9.0</td>\n",
       "      <td>9.0</td>\n",
       "      <td>9.0</td>\n",
       "      <td>3</td>\n",
       "      <td>0</td>\n",
       "    </tr>\n",
       "    <tr>\n",
       "      <th>1</th>\n",
       "      <td>5120</td>\n",
       "      <td>3.8</td>\n",
       "      <td>0</td>\n",
       "      <td>0</td>\n",
       "      <td>1999</td>\n",
       "      <td>531.0</td>\n",
       "      <td>69.0</td>\n",
       "      <td>264.0</td>\n",
       "      <td>92.0</td>\n",
       "      <td>92.0</td>\n",
       "      <td>92.0</td>\n",
       "      <td>73</td>\n",
       "      <td>1</td>\n",
       "    </tr>\n",
       "    <tr>\n",
       "      <th>2</th>\n",
       "      <td>18391</td>\n",
       "      <td>4.4</td>\n",
       "      <td>1</td>\n",
       "      <td>0</td>\n",
       "      <td>4999</td>\n",
       "      <td>17.0</td>\n",
       "      <td>4.0</td>\n",
       "      <td>11.0</td>\n",
       "      <td>3.0</td>\n",
       "      <td>3.0</td>\n",
       "      <td>3.0</td>\n",
       "      <td>0</td>\n",
       "      <td>1</td>\n",
       "    </tr>\n",
       "    <tr>\n",
       "      <th>3</th>\n",
       "      <td>495</td>\n",
       "      <td>4.2</td>\n",
       "      <td>0</td>\n",
       "      <td>0</td>\n",
       "      <td>724</td>\n",
       "      <td>46413.0</td>\n",
       "      <td>6229.0</td>\n",
       "      <td>1045.0</td>\n",
       "      <td>12416.0</td>\n",
       "      <td>12416.0</td>\n",
       "      <td>12416.0</td>\n",
       "      <td>4595</td>\n",
       "      <td>1</td>\n",
       "    </tr>\n",
       "    <tr>\n",
       "      <th>4</th>\n",
       "      <td>16408</td>\n",
       "      <td>3.9</td>\n",
       "      <td>0</td>\n",
       "      <td>0</td>\n",
       "      <td>2299</td>\n",
       "      <td>77.0</td>\n",
       "      <td>3.0</td>\n",
       "      <td>35.0</td>\n",
       "      <td>21.0</td>\n",
       "      <td>21.0</td>\n",
       "      <td>21.0</td>\n",
       "      <td>7</td>\n",
       "      <td>1</td>\n",
       "    </tr>\n",
       "  </tbody>\n",
       "</table>\n",
       "</div>"
      ],
      "text/plain": [
       "      id  Rating  maincateg  platform  actprice1  norating1  noreviews1  \\\n",
       "0  16695     3.9          1         0        999       38.0         7.0   \n",
       "1   5120     3.8          0         0       1999      531.0        69.0   \n",
       "2  18391     4.4          1         0       4999       17.0         4.0   \n",
       "3    495     4.2          0         0        724    46413.0      6229.0   \n",
       "4  16408     3.9          0         0       2299       77.0         3.0   \n",
       "\n",
       "   star_5f  star_4f  star_3f  star_2f  star_1f  fulfilled1  \n",
       "0     17.0      9.0      9.0      9.0        3           0  \n",
       "1    264.0     92.0     92.0     92.0       73           1  \n",
       "2     11.0      3.0      3.0      3.0        0           1  \n",
       "3   1045.0  12416.0  12416.0  12416.0     4595           1  \n",
       "4     35.0     21.0     21.0     21.0        7           1  "
      ]
     },
     "execution_count": 181,
     "metadata": {},
     "output_type": "execute_result"
    }
   ],
   "source": [
    "X.head()"
   ]
  },
  {
   "cell_type": "code",
   "execution_count": 192,
   "id": "f1097c94",
   "metadata": {},
   "outputs": [
    {
     "name": "stdout",
     "output_type": "stream",
     "text": [
      "[477.58099524 301.33693046 477.58099524 ... 477.58099524 301.33693046\n",
      " 477.58099524]\n"
     ]
    }
   ],
   "source": [
    "model_dt=DecisionTreeRegressor(max_depth=4)\n",
    "model_dt.fit(X,y)\n",
    "pred=model_dt.predict(X_test)\n",
    "print(pred)"
   ]
  },
  {
   "cell_type": "code",
   "execution_count": null,
   "id": "f9038e75",
   "metadata": {},
   "outputs": [],
   "source": [
    "final_dt_model=DecisionTreeRegressor(max_depth=8,criterion='mse', splitter='best',max_features='auto', random_state=101)\n",
    "final_model.fit(X_train,y_train)\n",
    "dt_predictions=final_model.predict(X_test)\n",
    "\n",
    "print(dt_predictions)"
   ]
  },
  {
   "cell_type": "code",
   "execution_count": 187,
   "id": "b89fe064",
   "metadata": {},
   "outputs": [
    {
     "name": "stdout",
     "output_type": "stream",
     "text": [
      "[454.72028548 308.65714286 454.72028548 ... 454.72028548 266.04678363\n",
      " 742.88888889]\n"
     ]
    }
   ],
   "source": [
    "final_dt_model=DecisionTreeRegressor(max_depth=8,criterion='mse', splitter='best',max_features='auto', random_state=101)\n",
    "final_dt_model.fit(X,y)\n",
    "dt_predictions=final_dt_model.predict(X_test)\n",
    "\n",
    "print(dt_predictions)"
   ]
  },
  {
   "cell_type": "code",
   "execution_count": 188,
   "id": "50b2de65",
   "metadata": {},
   "outputs": [
    {
     "name": "stdout",
     "output_type": "stream",
     "text": [
      "[454.72028548 308.65714286 454.72028548 ... 454.72028548 266.04678363\n",
      " 742.88888889]\n"
     ]
    }
   ],
   "source": [
    "final_model=DecisionTreeRegressor(max_depth=8 , criterion='mse', splitter='best',max_features='auto', random_state=101)\n",
    "scaled_X=scaler.fit_transform(X)\n",
    "scaled_X_test=scaler.transform(X_test)\n",
    "final_model.fit(scaled_X,y)\n",
    "predictions2=final_model.predict(scaled_X_test)\n",
    "\n",
    "print(predictions2)"
   ]
  },
  {
   "cell_type": "code",
   "execution_count": 82,
   "id": "4f26f899",
   "metadata": {},
   "outputs": [],
   "source": [
    "product_id=test_df['id']\n",
    "\n",
    "price=pd.Series(predictions)\n"
   ]
  },
  {
   "cell_type": "code",
   "execution_count": 84,
   "id": "d5b9cfd0",
   "metadata": {},
   "outputs": [],
   "source": [
    "data = {\"id\": product_id,\"price1\": price}"
   ]
  },
  {
   "cell_type": "code",
   "execution_count": 85,
   "id": "89a68c72",
   "metadata": {},
   "outputs": [],
   "source": [
    "submission = pd.concat(data,axis = 1)"
   ]
  },
  {
   "cell_type": "code",
   "execution_count": 86,
   "id": "d592684a",
   "metadata": {},
   "outputs": [
    {
     "data": {
      "text/html": [
       "<div>\n",
       "<style scoped>\n",
       "    .dataframe tbody tr th:only-of-type {\n",
       "        vertical-align: middle;\n",
       "    }\n",
       "\n",
       "    .dataframe tbody tr th {\n",
       "        vertical-align: top;\n",
       "    }\n",
       "\n",
       "    .dataframe thead th {\n",
       "        text-align: right;\n",
       "    }\n",
       "</style>\n",
       "<table border=\"1\" class=\"dataframe\">\n",
       "  <thead>\n",
       "    <tr style=\"text-align: right;\">\n",
       "      <th></th>\n",
       "      <th>id</th>\n",
       "      <th>price1</th>\n",
       "    </tr>\n",
       "  </thead>\n",
       "  <tbody>\n",
       "    <tr>\n",
       "      <th>0</th>\n",
       "      <td>2242</td>\n",
       "      <td>431.0</td>\n",
       "    </tr>\n",
       "    <tr>\n",
       "      <th>1</th>\n",
       "      <td>20532</td>\n",
       "      <td>160.0</td>\n",
       "    </tr>\n",
       "    <tr>\n",
       "      <th>2</th>\n",
       "      <td>10648</td>\n",
       "      <td>499.0</td>\n",
       "    </tr>\n",
       "    <tr>\n",
       "      <th>3</th>\n",
       "      <td>20677</td>\n",
       "      <td>765.0</td>\n",
       "    </tr>\n",
       "    <tr>\n",
       "      <th>4</th>\n",
       "      <td>12593</td>\n",
       "      <td>405.0</td>\n",
       "    </tr>\n",
       "    <tr>\n",
       "      <th>...</th>\n",
       "      <td>...</td>\n",
       "      <td>...</td>\n",
       "    </tr>\n",
       "    <tr>\n",
       "      <th>5239</th>\n",
       "      <td>14033</td>\n",
       "      <td>588.0</td>\n",
       "    </tr>\n",
       "    <tr>\n",
       "      <th>5240</th>\n",
       "      <td>297</td>\n",
       "      <td>899.0</td>\n",
       "    </tr>\n",
       "    <tr>\n",
       "      <th>5241</th>\n",
       "      <td>18733</td>\n",
       "      <td>462.0</td>\n",
       "    </tr>\n",
       "    <tr>\n",
       "      <th>5242</th>\n",
       "      <td>6162</td>\n",
       "      <td>189.0</td>\n",
       "    </tr>\n",
       "    <tr>\n",
       "      <th>5243</th>\n",
       "      <td>13574</td>\n",
       "      <td>749.0</td>\n",
       "    </tr>\n",
       "  </tbody>\n",
       "</table>\n",
       "<p>5244 rows × 2 columns</p>\n",
       "</div>"
      ],
      "text/plain": [
       "         id  price1\n",
       "0      2242   431.0\n",
       "1     20532   160.0\n",
       "2     10648   499.0\n",
       "3     20677   765.0\n",
       "4     12593   405.0\n",
       "...     ...     ...\n",
       "5239  14033   588.0\n",
       "5240    297   899.0\n",
       "5241  18733   462.0\n",
       "5242   6162   189.0\n",
       "5243  13574   749.0\n",
       "\n",
       "[5244 rows x 2 columns]"
      ]
     },
     "execution_count": 86,
     "metadata": {},
     "output_type": "execute_result"
    }
   ],
   "source": [
    "submission=submission.round(0)\n",
    "submission"
   ]
  },
  {
   "cell_type": "code",
   "execution_count": 87,
   "id": "e003d541",
   "metadata": {},
   "outputs": [],
   "source": [
    "submission.to_csv('kaggle competitions submit -c sa2022 -f submission.csv')"
   ]
  },
  {
   "cell_type": "markdown",
   "id": "2d838bd8",
   "metadata": {},
   "source": [
    "### Hence, here I had completed my model using Decision Tree Regression and made the submission. This model performed very well as compared to other models."
   ]
  },
  {
   "cell_type": "markdown",
   "id": "eff11334",
   "metadata": {},
   "source": [
    "###    "
   ]
  },
  {
   "cell_type": "markdown",
   "id": "c2184d5e",
   "metadata": {},
   "source": [
    "## RANDOM FOREST"
   ]
  },
  {
   "cell_type": "code",
   "execution_count": null,
   "id": "15931f30",
   "metadata": {},
   "outputs": [],
   "source": []
  },
  {
   "cell_type": "code",
   "execution_count": 193,
   "id": "6a4e64a9",
   "metadata": {},
   "outputs": [],
   "source": [
    "from sklearn.ensemble import RandomForestRegressor"
   ]
  },
  {
   "cell_type": "code",
   "execution_count": 195,
   "id": "2eb0556d",
   "metadata": {},
   "outputs": [
    {
     "name": "stdout",
     "output_type": "stream",
     "text": [
      "R2_SCORE : 0.8780149477611707\n",
      "The MAE of RandomForestRegressor() model is 112.24291587200679\n",
      "The RMSE of RandomForestRegressor() model is 220.3723646744917\n",
      "The MAE as percentage of mean price is : 16.312701154565303 %\n",
      "The RMSE as percentage of mean price is : 32.02757608114154 %\n",
      "[458.49 698.69 202.61 ... 285.62 423.28 632.31]\n"
     ]
    }
   ],
   "source": [
    "rf_model=RandomForestRegressor(n_estimators=100, criterion='mse')\n",
    "report_model(rf_model)"
   ]
  },
  {
   "cell_type": "code",
   "execution_count": 196,
   "id": "279e2728",
   "metadata": {},
   "outputs": [
    {
     "name": "stdout",
     "output_type": "stream",
     "text": [
      "R2_SCORE : 0.8421796078205058\n",
      "The MAE of RandomForestRegressor(max_depth=8) model is 151.44462725838977\n",
      "The RMSE of RandomForestRegressor(max_depth=8) model is 250.66020048598776\n",
      "The MAE as percentage of mean price is : 22.01003891192369 %\n",
      "The RMSE as percentage of mean price is : 36.429425501864735 %\n",
      "[441.37481713 480.16530235 242.76654371 ... 305.92364423 417.45146426\n",
      " 636.91053446]\n"
     ]
    }
   ],
   "source": [
    "rf_model=RandomForestRegressor(max_depth=8,n_estimators=100, criterion='mse')\n",
    "report_model(rf_model)"
   ]
  },
  {
   "cell_type": "code",
   "execution_count": 298,
   "id": "db323bbb",
   "metadata": {},
   "outputs": [
    {
     "name": "stdout",
     "output_type": "stream",
     "text": [
      "R2_SCORE : 0.8402527854306274\n",
      "The MAE of RandomForestRegressor(max_depth=6) model is 154.1020965431202\n",
      "The RMSE of RandomForestRegressor(max_depth=6) model is 252.18570820825735\n",
      "The MAE as percentage of mean price is : 22.396259297704454 %\n",
      "The RMSE as percentage of mean price is : 36.65113349465016 %\n",
      "[448.61601571 466.84274833 299.18675501 ... 296.91471715 482.28782689\n",
      " 509.31625095]\n"
     ]
    }
   ],
   "source": [
    "rf_model=RandomForestRegressor(max_depth=6,n_estimators=100, criterion='mse')\n",
    "report_model(rf_model)"
   ]
  },
  {
   "cell_type": "code",
   "execution_count": 294,
   "id": "fbcdbd5f",
   "metadata": {},
   "outputs": [
    {
     "data": {
      "text/plain": [
       "array([465.43699212, 309.65962916, 465.43699212, ..., 462.55155789,\n",
       "       260.54125405, 634.16385529])"
      ]
     },
     "execution_count": 294,
     "metadata": {},
     "output_type": "execute_result"
    }
   ],
   "source": [
    "\n",
    "model=RandomForestRegressor(max_depth=8,n_estimators=100, criterion='mse')\n",
    "model.fit(X,y)\n",
    "prediction=model.predict(X_test)\n",
    "prediction"
   ]
  },
  {
   "cell_type": "code",
   "execution_count": 295,
   "id": "f166400c",
   "metadata": {},
   "outputs": [
    {
     "data": {
      "text/html": [
       "<div>\n",
       "<style scoped>\n",
       "    .dataframe tbody tr th:only-of-type {\n",
       "        vertical-align: middle;\n",
       "    }\n",
       "\n",
       "    .dataframe tbody tr th {\n",
       "        vertical-align: top;\n",
       "    }\n",
       "\n",
       "    .dataframe thead th {\n",
       "        text-align: right;\n",
       "    }\n",
       "</style>\n",
       "<table border=\"1\" class=\"dataframe\">\n",
       "  <thead>\n",
       "    <tr style=\"text-align: right;\">\n",
       "      <th></th>\n",
       "      <th>id</th>\n",
       "      <th>price1</th>\n",
       "    </tr>\n",
       "  </thead>\n",
       "  <tbody>\n",
       "    <tr>\n",
       "      <th>0</th>\n",
       "      <td>2242</td>\n",
       "      <td>455.0</td>\n",
       "    </tr>\n",
       "    <tr>\n",
       "      <th>1</th>\n",
       "      <td>20532</td>\n",
       "      <td>309.0</td>\n",
       "    </tr>\n",
       "    <tr>\n",
       "      <th>2</th>\n",
       "      <td>10648</td>\n",
       "      <td>455.0</td>\n",
       "    </tr>\n",
       "    <tr>\n",
       "      <th>3</th>\n",
       "      <td>20677</td>\n",
       "      <td>1077.0</td>\n",
       "    </tr>\n",
       "    <tr>\n",
       "      <th>4</th>\n",
       "      <td>12593</td>\n",
       "      <td>455.0</td>\n",
       "    </tr>\n",
       "    <tr>\n",
       "      <th>...</th>\n",
       "      <td>...</td>\n",
       "      <td>...</td>\n",
       "    </tr>\n",
       "    <tr>\n",
       "      <th>5239</th>\n",
       "      <td>14033</td>\n",
       "      <td>448.0</td>\n",
       "    </tr>\n",
       "    <tr>\n",
       "      <th>5240</th>\n",
       "      <td>297</td>\n",
       "      <td>532.0</td>\n",
       "    </tr>\n",
       "    <tr>\n",
       "      <th>5241</th>\n",
       "      <td>18733</td>\n",
       "      <td>455.0</td>\n",
       "    </tr>\n",
       "    <tr>\n",
       "      <th>5242</th>\n",
       "      <td>6162</td>\n",
       "      <td>266.0</td>\n",
       "    </tr>\n",
       "    <tr>\n",
       "      <th>5243</th>\n",
       "      <td>13574</td>\n",
       "      <td>743.0</td>\n",
       "    </tr>\n",
       "  </tbody>\n",
       "</table>\n",
       "<p>5244 rows × 2 columns</p>\n",
       "</div>"
      ],
      "text/plain": [
       "         id  price1\n",
       "0      2242   455.0\n",
       "1     20532   309.0\n",
       "2     10648   455.0\n",
       "3     20677  1077.0\n",
       "4     12593   455.0\n",
       "...     ...     ...\n",
       "5239  14033   448.0\n",
       "5240    297   532.0\n",
       "5241  18733   455.0\n",
       "5242   6162   266.0\n",
       "5243  13574   743.0\n",
       "\n",
       "[5244 rows x 2 columns]"
      ]
     },
     "execution_count": 295,
     "metadata": {},
     "output_type": "execute_result"
    }
   ],
   "source": [
    "\n",
    "product_id=test_df['id']\n",
    "\n",
    "price=pd.Series(predictions)\n",
    "\n",
    "data = {\"id\": product_id,\"price1\": price}\n",
    "submission_rf = pd.concat(data,axis = 1)\n",
    "submission_rf=submission_rf.round(0)\n",
    "submission_rf"
   ]
  },
  {
   "cell_type": "code",
   "execution_count": 89,
   "id": "f925b874",
   "metadata": {},
   "outputs": [],
   "source": [
    "submission_rf.to_csv('kaggle competitions submit -c sa2022 -f submission.csv')"
   ]
  },
  {
   "cell_type": "code",
   "execution_count": 308,
   "id": "67dbbe20",
   "metadata": {},
   "outputs": [
    {
     "data": {
      "text/plain": [
       "array([456.2572694 , 310.10023022, 456.2572694 , ..., 454.8416024 ,\n",
       "       281.14080191, 614.25182613])"
      ]
     },
     "execution_count": 308,
     "metadata": {},
     "output_type": "execute_result"
    }
   ],
   "source": [
    "\n",
    "model=RandomForestRegressor(max_depth=6,n_estimators=100, criterion='mse')\n",
    "model.fit(X,y)\n",
    "prediction_rf2=model.predict(X_test)\n",
    "prediction_rf2"
   ]
  },
  {
   "cell_type": "code",
   "execution_count": 309,
   "id": "b5a22b07",
   "metadata": {},
   "outputs": [
    {
     "data": {
      "text/html": [
       "<div>\n",
       "<style scoped>\n",
       "    .dataframe tbody tr th:only-of-type {\n",
       "        vertical-align: middle;\n",
       "    }\n",
       "\n",
       "    .dataframe tbody tr th {\n",
       "        vertical-align: top;\n",
       "    }\n",
       "\n",
       "    .dataframe thead th {\n",
       "        text-align: right;\n",
       "    }\n",
       "</style>\n",
       "<table border=\"1\" class=\"dataframe\">\n",
       "  <thead>\n",
       "    <tr style=\"text-align: right;\">\n",
       "      <th></th>\n",
       "      <th>id</th>\n",
       "      <th>price1</th>\n",
       "    </tr>\n",
       "  </thead>\n",
       "  <tbody>\n",
       "    <tr>\n",
       "      <th>0</th>\n",
       "      <td>2242</td>\n",
       "      <td>456.0</td>\n",
       "    </tr>\n",
       "    <tr>\n",
       "      <th>1</th>\n",
       "      <td>20532</td>\n",
       "      <td>310.0</td>\n",
       "    </tr>\n",
       "    <tr>\n",
       "      <th>2</th>\n",
       "      <td>10648</td>\n",
       "      <td>456.0</td>\n",
       "    </tr>\n",
       "    <tr>\n",
       "      <th>3</th>\n",
       "      <td>20677</td>\n",
       "      <td>1245.0</td>\n",
       "    </tr>\n",
       "    <tr>\n",
       "      <th>4</th>\n",
       "      <td>12593</td>\n",
       "      <td>455.0</td>\n",
       "    </tr>\n",
       "    <tr>\n",
       "      <th>...</th>\n",
       "      <td>...</td>\n",
       "      <td>...</td>\n",
       "    </tr>\n",
       "    <tr>\n",
       "      <th>5239</th>\n",
       "      <td>14033</td>\n",
       "      <td>445.0</td>\n",
       "    </tr>\n",
       "    <tr>\n",
       "      <th>5240</th>\n",
       "      <td>297</td>\n",
       "      <td>621.0</td>\n",
       "    </tr>\n",
       "    <tr>\n",
       "      <th>5241</th>\n",
       "      <td>18733</td>\n",
       "      <td>455.0</td>\n",
       "    </tr>\n",
       "    <tr>\n",
       "      <th>5242</th>\n",
       "      <td>6162</td>\n",
       "      <td>281.0</td>\n",
       "    </tr>\n",
       "    <tr>\n",
       "      <th>5243</th>\n",
       "      <td>13574</td>\n",
       "      <td>614.0</td>\n",
       "    </tr>\n",
       "  </tbody>\n",
       "</table>\n",
       "<p>5244 rows × 2 columns</p>\n",
       "</div>"
      ],
      "text/plain": [
       "         id  price1\n",
       "0      2242   456.0\n",
       "1     20532   310.0\n",
       "2     10648   456.0\n",
       "3     20677  1245.0\n",
       "4     12593   455.0\n",
       "...     ...     ...\n",
       "5239  14033   445.0\n",
       "5240    297   621.0\n",
       "5241  18733   455.0\n",
       "5242   6162   281.0\n",
       "5243  13574   614.0\n",
       "\n",
       "[5244 rows x 2 columns]"
      ]
     },
     "execution_count": 309,
     "metadata": {},
     "output_type": "execute_result"
    }
   ],
   "source": [
    "\n",
    "product_id=test_df['id']\n",
    "\n",
    "price=pd.Series(prediction_rf2)\n",
    "\n",
    "data = {\"id\": product_id,\"price1\": price}\n",
    "submission_rf2 = pd.concat(data,axis = 1)\n",
    "submission_rf2=submission_rf2.round(0)\n",
    "submission_rf2"
   ]
  },
  {
   "cell_type": "code",
   "execution_count": 310,
   "id": "6b89bf02",
   "metadata": {},
   "outputs": [],
   "source": [
    "submission_rf2.to_csv('kaggle competitions submit -c sa2022 -f submission.csv')"
   ]
  },
  {
   "cell_type": "markdown",
   "id": "6d429915",
   "metadata": {},
   "source": [
    "######  "
   ]
  },
  {
   "cell_type": "markdown",
   "id": "45f00149",
   "metadata": {},
   "source": [
    "######  "
   ]
  },
  {
   "cell_type": "markdown",
   "id": "687b0991",
   "metadata": {},
   "source": [
    "## BOOSTING METHODS"
   ]
  },
  {
   "cell_type": "markdown",
   "id": "99aa2e37",
   "metadata": {},
   "source": [
    "### ADA-BOOST"
   ]
  },
  {
   "cell_type": "code",
   "execution_count": 287,
   "id": "de76c526",
   "metadata": {},
   "outputs": [
    {
     "name": "stdout",
     "output_type": "stream",
     "text": [
      "R2_SCORE : 0.7392828300285734\n",
      "The MAE of AdaBoostRegressor(random_state=101) model is 242.4050206924547\n",
      "The RMSE of AdaBoostRegressor(random_state=101) model is 322.1726283845899\n",
      "The MAE as percentage of mean price is : 35.229667994650015 %\n",
      "The RMSE as percentage of mean price is : 46.82260582941033 %\n",
      "[603.29899857 683.15284974 513.87827715 ... 533.13000756 533.13000756\n",
      " 695.35894207]\n"
     ]
    }
   ],
   "source": [
    "from sklearn.ensemble import AdaBoostRegressor\n",
    "adaboost_model = AdaBoostRegressor(random_state=101)\n",
    "report_model(adaboost_model)"
   ]
  },
  {
   "cell_type": "code",
   "execution_count": 288,
   "id": "00b44cee",
   "metadata": {},
   "outputs": [
    {
     "name": "stdout",
     "output_type": "stream",
     "text": [
      "R2_SCORE : 0.7391219489225639\n",
      "The MAE of AdaBoostRegressor(loss='square', n_estimators=100, random_state=101) model is 231.87403321875215\n",
      "The RMSE of AdaBoostRegressor(loss='square', n_estimators=100, random_state=101) model is 322.2720148103479\n",
      "The MAE as percentage of mean price is : 33.69915847263372 %\n",
      "The RMSE as percentage of mean price is : 46.83705004666551 %\n",
      "[628.08168028 615.25256674 524.0678733  ... 510.03090508 524.0678733\n",
      " 800.1353167 ]\n"
     ]
    }
   ],
   "source": [
    "adaboost_model = AdaBoostRegressor(n_estimators=100 , loss='square', random_state=101)\n",
    "report_model(adaboost_model)"
   ]
  },
  {
   "cell_type": "code",
   "execution_count": 291,
   "id": "3c3896b9",
   "metadata": {},
   "outputs": [
    {
     "data": {
      "text/html": [
       "<div>\n",
       "<style scoped>\n",
       "    .dataframe tbody tr th:only-of-type {\n",
       "        vertical-align: middle;\n",
       "    }\n",
       "\n",
       "    .dataframe tbody tr th {\n",
       "        vertical-align: top;\n",
       "    }\n",
       "\n",
       "    .dataframe thead th {\n",
       "        text-align: right;\n",
       "    }\n",
       "</style>\n",
       "<table border=\"1\" class=\"dataframe\">\n",
       "  <thead>\n",
       "    <tr style=\"text-align: right;\">\n",
       "      <th></th>\n",
       "      <th>id</th>\n",
       "      <th>price1</th>\n",
       "    </tr>\n",
       "  </thead>\n",
       "  <tbody>\n",
       "    <tr>\n",
       "      <th>0</th>\n",
       "      <td>2242</td>\n",
       "      <td>557.0</td>\n",
       "    </tr>\n",
       "    <tr>\n",
       "      <th>1</th>\n",
       "      <td>20532</td>\n",
       "      <td>557.0</td>\n",
       "    </tr>\n",
       "    <tr>\n",
       "      <th>2</th>\n",
       "      <td>10648</td>\n",
       "      <td>574.0</td>\n",
       "    </tr>\n",
       "    <tr>\n",
       "      <th>3</th>\n",
       "      <td>20677</td>\n",
       "      <td>1523.0</td>\n",
       "    </tr>\n",
       "    <tr>\n",
       "      <th>4</th>\n",
       "      <td>12593</td>\n",
       "      <td>590.0</td>\n",
       "    </tr>\n",
       "    <tr>\n",
       "      <th>...</th>\n",
       "      <td>...</td>\n",
       "      <td>...</td>\n",
       "    </tr>\n",
       "    <tr>\n",
       "      <th>5239</th>\n",
       "      <td>14033</td>\n",
       "      <td>574.0</td>\n",
       "    </tr>\n",
       "    <tr>\n",
       "      <th>5240</th>\n",
       "      <td>297</td>\n",
       "      <td>1002.0</td>\n",
       "    </tr>\n",
       "    <tr>\n",
       "      <th>5241</th>\n",
       "      <td>18733</td>\n",
       "      <td>550.0</td>\n",
       "    </tr>\n",
       "    <tr>\n",
       "      <th>5242</th>\n",
       "      <td>6162</td>\n",
       "      <td>557.0</td>\n",
       "    </tr>\n",
       "    <tr>\n",
       "      <th>5243</th>\n",
       "      <td>13574</td>\n",
       "      <td>557.0</td>\n",
       "    </tr>\n",
       "  </tbody>\n",
       "</table>\n",
       "<p>5244 rows × 2 columns</p>\n",
       "</div>"
      ],
      "text/plain": [
       "         id  price1\n",
       "0      2242   557.0\n",
       "1     20532   557.0\n",
       "2     10648   574.0\n",
       "3     20677  1523.0\n",
       "4     12593   590.0\n",
       "...     ...     ...\n",
       "5239  14033   574.0\n",
       "5240    297  1002.0\n",
       "5241  18733   550.0\n",
       "5242   6162   557.0\n",
       "5243  13574   557.0\n",
       "\n",
       "[5244 rows x 2 columns]"
      ]
     },
     "execution_count": 291,
     "metadata": {},
     "output_type": "execute_result"
    }
   ],
   "source": [
    "adaboost_model = AdaBoostRegressor(random_state=101)\n",
    "adaboost_model.fit(X,y)\n",
    "adaboost_prediction=adaboost_model.predict(X_test)\n",
    "adaboost_prediction\n",
    "\n",
    "\n",
    "product_id=test_df['id']\n",
    "\n",
    "price=pd.Series(adaboost_prediction)\n",
    "\n",
    "data = {\"id\": product_id,\"price1\": price}\n",
    "submission_adaboost = pd.concat(data,axis = 1)\n",
    "submission_adaboost=submission_adaboost.round(0)\n",
    "submission_adaboost"
   ]
  },
  {
   "cell_type": "code",
   "execution_count": null,
   "id": "c8e2c3a6",
   "metadata": {},
   "outputs": [],
   "source": []
  },
  {
   "cell_type": "markdown",
   "id": "07b00fdb",
   "metadata": {},
   "source": [
    "### GRADIENT BOOSTING"
   ]
  },
  {
   "cell_type": "code",
   "execution_count": 289,
   "id": "6c24b2d3",
   "metadata": {},
   "outputs": [
    {
     "name": "stdout",
     "output_type": "stream",
     "text": [
      "R2_SCORE : 0.8396353549725841\n",
      "The MAE of GradientBoostingRegressor() model is 153.09963602469503\n",
      "The RMSE of GradientBoostingRegressor() model is 252.6725929841916\n",
      "The MAE as percentage of mean price is : 22.250567797004596 %\n",
      "The RMSE as percentage of mean price is : 36.721894359911175 %\n",
      "[434.29039104 572.59837749 281.04366446 ... 300.71796725 457.72985061\n",
      " 530.91831949]\n"
     ]
    }
   ],
   "source": [
    "from sklearn.ensemble import GradientBoostingRegressor\n",
    "gb_model=GradientBoostingRegressor()\n",
    "report_model(gb_model)"
   ]
  },
  {
   "cell_type": "code",
   "execution_count": 292,
   "id": "76bebf59",
   "metadata": {},
   "outputs": [
    {
     "data": {
      "text/html": [
       "<div>\n",
       "<style scoped>\n",
       "    .dataframe tbody tr th:only-of-type {\n",
       "        vertical-align: middle;\n",
       "    }\n",
       "\n",
       "    .dataframe tbody tr th {\n",
       "        vertical-align: top;\n",
       "    }\n",
       "\n",
       "    .dataframe thead th {\n",
       "        text-align: right;\n",
       "    }\n",
       "</style>\n",
       "<table border=\"1\" class=\"dataframe\">\n",
       "  <thead>\n",
       "    <tr style=\"text-align: right;\">\n",
       "      <th></th>\n",
       "      <th>id</th>\n",
       "      <th>price1</th>\n",
       "    </tr>\n",
       "  </thead>\n",
       "  <tbody>\n",
       "    <tr>\n",
       "      <th>0</th>\n",
       "      <td>2242</td>\n",
       "      <td>426.0</td>\n",
       "    </tr>\n",
       "    <tr>\n",
       "      <th>1</th>\n",
       "      <td>20532</td>\n",
       "      <td>316.0</td>\n",
       "    </tr>\n",
       "    <tr>\n",
       "      <th>2</th>\n",
       "      <td>10648</td>\n",
       "      <td>451.0</td>\n",
       "    </tr>\n",
       "    <tr>\n",
       "      <th>3</th>\n",
       "      <td>20677</td>\n",
       "      <td>1256.0</td>\n",
       "    </tr>\n",
       "    <tr>\n",
       "      <th>4</th>\n",
       "      <td>12593</td>\n",
       "      <td>418.0</td>\n",
       "    </tr>\n",
       "    <tr>\n",
       "      <th>...</th>\n",
       "      <td>...</td>\n",
       "      <td>...</td>\n",
       "    </tr>\n",
       "    <tr>\n",
       "      <th>5239</th>\n",
       "      <td>14033</td>\n",
       "      <td>416.0</td>\n",
       "    </tr>\n",
       "    <tr>\n",
       "      <th>5240</th>\n",
       "      <td>297</td>\n",
       "      <td>693.0</td>\n",
       "    </tr>\n",
       "    <tr>\n",
       "      <th>5241</th>\n",
       "      <td>18733</td>\n",
       "      <td>429.0</td>\n",
       "    </tr>\n",
       "    <tr>\n",
       "      <th>5242</th>\n",
       "      <td>6162</td>\n",
       "      <td>232.0</td>\n",
       "    </tr>\n",
       "    <tr>\n",
       "      <th>5243</th>\n",
       "      <td>13574</td>\n",
       "      <td>644.0</td>\n",
       "    </tr>\n",
       "  </tbody>\n",
       "</table>\n",
       "<p>5244 rows × 2 columns</p>\n",
       "</div>"
      ],
      "text/plain": [
       "         id  price1\n",
       "0      2242   426.0\n",
       "1     20532   316.0\n",
       "2     10648   451.0\n",
       "3     20677  1256.0\n",
       "4     12593   418.0\n",
       "...     ...     ...\n",
       "5239  14033   416.0\n",
       "5240    297   693.0\n",
       "5241  18733   429.0\n",
       "5242   6162   232.0\n",
       "5243  13574   644.0\n",
       "\n",
       "[5244 rows x 2 columns]"
      ]
     },
     "execution_count": 292,
     "metadata": {},
     "output_type": "execute_result"
    }
   ],
   "source": [
    "gb_model=GradientBoostingRegressor()\n",
    "gb_model.fit(X,y)\n",
    "gb_prediction=gb_model.predict(X_test)\n",
    "gb_prediction\n",
    "\n",
    "\n",
    "product_id=test_df['id']\n",
    "\n",
    "price=pd.Series(gb_prediction)\n",
    "\n",
    "data = {\"id\": product_id,\"price1\": price}\n",
    "submission_gb = pd.concat(data,axis = 1)\n",
    "submission_gb=submission_gb.round(0)\n",
    "submission_gb"
   ]
  },
  {
   "cell_type": "code",
   "execution_count": 293,
   "id": "8e340bf7",
   "metadata": {},
   "outputs": [],
   "source": [
    "submission_gb.to_csv('kaggle competitions submit -c sa2022 -f submission.csv')"
   ]
  },
  {
   "cell_type": "code",
   "execution_count": 304,
   "id": "fa7853d1",
   "metadata": {},
   "outputs": [
    {
     "data": {
      "text/html": [
       "<div>\n",
       "<style scoped>\n",
       "    .dataframe tbody tr th:only-of-type {\n",
       "        vertical-align: middle;\n",
       "    }\n",
       "\n",
       "    .dataframe tbody tr th {\n",
       "        vertical-align: top;\n",
       "    }\n",
       "\n",
       "    .dataframe thead th {\n",
       "        text-align: right;\n",
       "    }\n",
       "</style>\n",
       "<table border=\"1\" class=\"dataframe\">\n",
       "  <thead>\n",
       "    <tr style=\"text-align: right;\">\n",
       "      <th></th>\n",
       "      <th>id</th>\n",
       "      <th>price1</th>\n",
       "    </tr>\n",
       "  </thead>\n",
       "  <tbody>\n",
       "    <tr>\n",
       "      <th>0</th>\n",
       "      <td>2242</td>\n",
       "      <td>404.0</td>\n",
       "    </tr>\n",
       "    <tr>\n",
       "      <th>1</th>\n",
       "      <td>20532</td>\n",
       "      <td>314.0</td>\n",
       "    </tr>\n",
       "    <tr>\n",
       "      <th>2</th>\n",
       "      <td>10648</td>\n",
       "      <td>453.0</td>\n",
       "    </tr>\n",
       "    <tr>\n",
       "      <th>3</th>\n",
       "      <td>20677</td>\n",
       "      <td>1246.0</td>\n",
       "    </tr>\n",
       "    <tr>\n",
       "      <th>4</th>\n",
       "      <td>12593</td>\n",
       "      <td>410.0</td>\n",
       "    </tr>\n",
       "    <tr>\n",
       "      <th>...</th>\n",
       "      <td>...</td>\n",
       "      <td>...</td>\n",
       "    </tr>\n",
       "    <tr>\n",
       "      <th>5239</th>\n",
       "      <td>14033</td>\n",
       "      <td>419.0</td>\n",
       "    </tr>\n",
       "    <tr>\n",
       "      <th>5240</th>\n",
       "      <td>297</td>\n",
       "      <td>688.0</td>\n",
       "    </tr>\n",
       "    <tr>\n",
       "      <th>5241</th>\n",
       "      <td>18733</td>\n",
       "      <td>433.0</td>\n",
       "    </tr>\n",
       "    <tr>\n",
       "      <th>5242</th>\n",
       "      <td>6162</td>\n",
       "      <td>227.0</td>\n",
       "    </tr>\n",
       "    <tr>\n",
       "      <th>5243</th>\n",
       "      <td>13574</td>\n",
       "      <td>651.0</td>\n",
       "    </tr>\n",
       "  </tbody>\n",
       "</table>\n",
       "<p>5244 rows × 2 columns</p>\n",
       "</div>"
      ],
      "text/plain": [
       "         id  price1\n",
       "0      2242   404.0\n",
       "1     20532   314.0\n",
       "2     10648   453.0\n",
       "3     20677  1246.0\n",
       "4     12593   410.0\n",
       "...     ...     ...\n",
       "5239  14033   419.0\n",
       "5240    297   688.0\n",
       "5241  18733   433.0\n",
       "5242   6162   227.0\n",
       "5243  13574   651.0\n",
       "\n",
       "[5244 rows x 2 columns]"
      ]
     },
     "execution_count": 304,
     "metadata": {},
     "output_type": "execute_result"
    }
   ],
   "source": [
    "gb_model=GradientBoostingRegressor(learning_rate=0.1, n_estimators=150)\n",
    "gb_model.fit(X,y)\n",
    "gb_prediction=gb_model.predict(X_test)\n",
    "gb_prediction\n",
    "\n",
    "\n",
    "product_id=test_df['id']\n",
    "\n",
    "price=pd.Series(gb_prediction)\n",
    "\n",
    "data = {\"id\": product_id,\"price1\": price}\n",
    "submission_gb = pd.concat(data,axis = 1)\n",
    "submission_gb=submission_gb.round(0)\n",
    "submission_gb"
   ]
  },
  {
   "cell_type": "code",
   "execution_count": 305,
   "id": "eabf72e2",
   "metadata": {},
   "outputs": [],
   "source": [
    "submission_gb.to_csv('kaggle competitions submit -c sa2022 -f submission.csv')"
   ]
  },
  {
   "cell_type": "code",
   "execution_count": null,
   "id": "bf37f779",
   "metadata": {},
   "outputs": [],
   "source": []
  }
 ],
 "metadata": {
  "kernelspec": {
   "display_name": "Python 3 (ipykernel)",
   "language": "python",
   "name": "python3"
  },
  "language_info": {
   "codemirror_mode": {
    "name": "ipython",
    "version": 3
   },
   "file_extension": ".py",
   "mimetype": "text/x-python",
   "name": "python",
   "nbconvert_exporter": "python",
   "pygments_lexer": "ipython3",
   "version": "3.9.7"
  }
 },
 "nbformat": 4,
 "nbformat_minor": 5
}
